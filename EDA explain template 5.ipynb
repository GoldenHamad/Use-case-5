{
 "cells": [
  {
   "cell_type": "code",
   "execution_count": 147,
   "id": "e69c4ba1-85f3-4a02-ae37-c64347a01803",
   "metadata": {},
   "outputs": [],
   "source": [
    "#Import all relevant libraries\n",
    "import numpy as np\n",
    "import pandas as pd\n",
    "import matplotlib.pyplot as plt\n",
    "import seaborn as sns\n",
    "from scipy.stats import zscore\n",
    "import dtale as dt\n",
    "import plotly_express as px\n",
    "## This statement allows the visuals to render within your Jupyter Notebook.\n",
    "%matplotlib inline"
   ]
  },
  {
   "cell_type": "markdown",
   "id": "e395e8bf-b530-4720-8d0f-26811e927d6e",
   "metadata": {},
   "source": [
    "## Loading the data\n",
    "We can now load the dataset into pandas using the read_csv() function. This converts the CSV file into a Pandas dataframe."
   ]
  },
  {
   "cell_type": "code",
   "execution_count": 97,
   "id": "cf4030b0-aa7f-4bd7-8e9c-c1b7f4d202d0",
   "metadata": {},
   "outputs": [],
   "source": [
    "#Read in the csv file and convert to a Pandas dataframe\n",
    "jobs_df = pd.read_csv(\"Data/Jadarat_data.csv\")"
   ]
  },
  {
   "cell_type": "markdown",
   "id": "ca5ed983-0f72-43eb-8168-6fafd48c562e",
   "metadata": {},
   "source": [
    "### Viewing the dataframe\n",
    "We can get a quick sense of the size of our dataset by using the shape method. This returns a tuple with the number of rows and columns in the dataset."
   ]
  },
  {
   "cell_type": "code",
   "execution_count": 88,
   "id": "bfde0b69-613c-4dd1-8ebf-e4d2e570e653",
   "metadata": {},
   "outputs": [
    {
     "data": {
      "text/html": [
       "\n",
       "        <iframe\n",
       "            width=\"100%\"\n",
       "            height=\"475\"\n",
       "            src=\"http://DESKTOP-G5FSSUJ:40000/dtale/iframe/11\"\n",
       "            frameborder=\"0\"\n",
       "            allowfullscreen\n",
       "            \n",
       "        ></iframe>\n",
       "        "
      ],
      "text/plain": [
       "<IPython.lib.display.IFrame at 0x12b2c1f6e10>"
      ]
     },
     "metadata": {},
     "output_type": "display_data"
    },
    {
     "data": {
      "text/plain": []
     },
     "execution_count": 88,
     "metadata": {},
     "output_type": "execute_result"
    }
   ],
   "source": [
    "dt.show(jobs_df)"
   ]
  },
  {
   "cell_type": "markdown",
   "id": "bd2b5bc4-db37-4432-b666-0714afd0c4ca",
   "metadata": {},
   "source": [
    "## 1. Data Profiling:\n",
    "Data profiling is a comprehensive process of examining the data available in an existing dataset and collecting statistics and information about that data. "
   ]
  },
  {
   "cell_type": "code",
   "execution_count": 41,
   "id": "672f2081-5a2c-4908-8cbd-29519fb3cac5",
   "metadata": {},
   "outputs": [],
   "source": [
    "#already done most of the profiling with dtale\n",
    "\n"
   ]
  },
  {
   "cell_type": "markdown",
   "id": "834929aa-fd6a-4ec5-84d4-77c4b3c1a506",
   "metadata": {},
   "source": [
    "The process of profiling differs slightly for categorical and numerical variables due to their inherent differences.\n",
    "\n",
    "**The two main types of data are:**\n",
    "- Quantitative (numerical) data\n",
    "- Qualitative (categorical) data"
   ]
  },
  {
   "cell_type": "markdown",
   "id": "3a9954f5-6fbc-45b4-ad86-3e21b6e0ca2d",
   "metadata": {},
   "source": [
    "### Data Quality Checks\n",
    "Data quality checks involve the process of ensuring that the data is accurate, complete, consistent, relevant, and reliable. \n",
    "\n",
    "\n",
    "**Here are typical steps involved in checking data quality:**"
   ]
  },
  {
   "cell_type": "markdown",
   "id": "4818c876-173d-4e56-9e7d-b4334d2def25",
   "metadata": {},
   "source": [
    "#### 1. Reliability:\n",
    "Evaluate the data's source and collection process to determine its trustworthiness."
   ]
  },
  {
   "cell_type": "code",
   "execution_count": 58,
   "id": "9034ae7b-dc1d-4cba-8f9e-bb499d021cde",
   "metadata": {},
   "outputs": [],
   "source": [
    "#the source is not mentioned in kaggle but we assume its from jadarat due to the name of the file."
   ]
  },
  {
   "cell_type": "markdown",
   "id": "2ce0cc59-8c92-4acc-8d07-c40764e1a86b",
   "metadata": {},
   "source": [
    "#### 2. Timeliness: \n",
    "Ensure the data is up-to-date and reflective of the current situation or the period of interest for the analysis."
   ]
  },
  {
   "cell_type": "code",
   "execution_count": null,
   "id": "4b78ae35-7226-4cb6-b8b2-a46c2ed17cf9",
   "metadata": {},
   "outputs": [],
   "source": [
    "#the latest data we found was taken at 17/4/2023"
   ]
  },
  {
   "cell_type": "markdown",
   "id": "7fab0fe2-6624-4615-b9d8-3c3669056bf8",
   "metadata": {},
   "source": [
    "#### 3. Consistency: \n",
    "\n",
    "Confirm that the data is consistent within the dataset and across multiple data sources. For example, the same data point should not have different values in different places.\n"
   ]
  },
  {
   "cell_type": "code",
   "execution_count": 59,
   "id": "7fecc573-959f-4800-8ddd-a67985c68b18",
   "metadata": {},
   "outputs": [],
   "source": [
    "# we dont have other datasets, but we assume that this is consistent"
   ]
  },
  {
   "cell_type": "markdown",
   "id": "bec3d183-bba0-4b12-b963-487daab1e876",
   "metadata": {},
   "source": [
    "#### 4. Relevance: \n",
    "Assess whether the data is appropriate and applicable for the intended analysis. Data that is not relevant can skew results and lead to incorrect conclusions.\n",
    "\n",
    "**Key considerations for relevance include:**\n",
    "\n",
    "> 1. Sample Appropriateness: Confirm that your data sample aligns with your analysis objectives. For instance, utilizing data from the Northern region will not yield accurate insights for the Western region of the Kingdom.\n",
    ">\n",
    "> 2. Variable Selection: Any column will not be relevant for our analysis, we can get rid of these using the drop() method. We will set the “axis” argument to 1 since we’re dealing with columns, and set the “inplace” argument to True to make the change permanent.\n"
   ]
  },
  {
   "cell_type": "code",
   "execution_count": null,
   "id": "50a934b7-a0cd-443f-8a27-f10e9a6e8647",
   "metadata": {
    "scrolled": true
   },
   "outputs": [],
   "source": [
    "#the sample and columns are relevant to the data we need"
   ]
  },
  {
   "cell_type": "markdown",
   "id": "0f5e3a2a-bbb7-4d06-8220-c93277b70146",
   "metadata": {},
   "source": [
    "#### 5. Uniqueness: \n",
    "Check for and remove duplicate records to prevent skewed analysis results.\n"
   ]
  },
  {
   "cell_type": "code",
   "execution_count": 100,
   "id": "a509a7aa-58f4-4d39-8eb8-e8298a21f2a7",
   "metadata": {},
   "outputs": [],
   "source": [
    "#checked duplicates with Dtale\n",
    "jobs_df = jobs_df.drop_duplicates()"
   ]
  },
  {
   "cell_type": "code",
   "execution_count": 101,
   "id": "04c62559-3b48-48cf-a4e9-857e2e0ff416",
   "metadata": {},
   "outputs": [
    {
     "data": {
      "text/plain": [
       "(1469, 18)"
      ]
     },
     "execution_count": 101,
     "metadata": {},
     "output_type": "execute_result"
    }
   ],
   "source": [
    "# go to delete duplicates columns\n",
    "jobs_df[jobs_df.duplicated()]\n",
    "jobs_df.shape"
   ]
  },
  {
   "cell_type": "markdown",
   "id": "c7724ac2-4ea2-4cf4-a9e0-e64368f87b92",
   "metadata": {},
   "source": [
    "#### 6. Completeness: \n",
    "Ensure that no critical data is missing. This might mean checking for null values or required fields that are empty.\n",
    "\n",
    "We will start by checking the dataset for missing or null values. For this, we can use the isna() method which returns a dataframe of boolean values indicating if a field is null or not. To group all missing values by column, we can include the sum() method."
   ]
  },
  {
   "cell_type": "code",
   "execution_count": 102,
   "id": "48a4de54-a344-4b94-9908-9528c15c13f7",
   "metadata": {},
   "outputs": [
    {
     "data": {
      "text/plain": [
       "qualif          690\n",
       "eco_activity     89\n",
       "comp_size        14\n",
       "region            0\n",
       "exper             0\n",
       "job_post_id       0\n",
       "positions         0\n",
       "contract          0\n",
       "benefits          0\n",
       "city              0\n",
       "job_title         0\n",
       "job_date          0\n",
       "comp_type         0\n",
       "comp_no           0\n",
       "comp_name         0\n",
       "job_tasks         0\n",
       "job_desc          0\n",
       "gender            0\n",
       "dtype: int64"
      ]
     },
     "execution_count": 102,
     "metadata": {},
     "output_type": "execute_result"
    }
   ],
   "source": [
    "#Display number missing values per column\n",
    "jobs_df.isnull().sum().sort_values(ascending = False)"
   ]
  },
  {
   "cell_type": "code",
   "execution_count": 103,
   "id": "abec31c4-0904-4b73-8cee-b7bc14ab1e67",
   "metadata": {},
   "outputs": [],
   "source": [
    "# go to clean them \n",
    "jobs_df[jobs_df[\"comp_size\"].isnull()]\n",
    "jobs_df[\"comp_size\"] = jobs_df['comp_size'].fillna('Unknown!')"
   ]
  },
  {
   "cell_type": "code",
   "execution_count": 104,
   "id": "ad4ca15a",
   "metadata": {},
   "outputs": [
    {
     "data": {
      "text/plain": [
       "0"
      ]
     },
     "execution_count": 104,
     "metadata": {},
     "output_type": "execute_result"
    }
   ],
   "source": [
    "jobs_df[\"comp_size\"].isnull().sum()"
   ]
  },
  {
   "cell_type": "code",
   "execution_count": 105,
   "id": "e20299fd",
   "metadata": {},
   "outputs": [
    {
     "data": {
      "text/html": [
       "<div>\n",
       "<style scoped>\n",
       "    .dataframe tbody tr th:only-of-type {\n",
       "        vertical-align: middle;\n",
       "    }\n",
       "\n",
       "    .dataframe tbody tr th {\n",
       "        vertical-align: top;\n",
       "    }\n",
       "\n",
       "    .dataframe thead th {\n",
       "        text-align: right;\n",
       "    }\n",
       "</style>\n",
       "<table border=\"1\" class=\"dataframe\">\n",
       "  <thead>\n",
       "    <tr style=\"text-align: right;\">\n",
       "      <th></th>\n",
       "      <th>job_title</th>\n",
       "      <th>job_date</th>\n",
       "      <th>job_desc</th>\n",
       "      <th>job_tasks</th>\n",
       "      <th>comp_name</th>\n",
       "      <th>comp_no</th>\n",
       "      <th>comp_type</th>\n",
       "      <th>comp_size</th>\n",
       "      <th>eco_activity</th>\n",
       "      <th>qualif</th>\n",
       "      <th>region</th>\n",
       "      <th>city</th>\n",
       "      <th>benefits</th>\n",
       "      <th>contract</th>\n",
       "      <th>positions</th>\n",
       "      <th>job_post_id</th>\n",
       "      <th>exper</th>\n",
       "      <th>gender</th>\n",
       "    </tr>\n",
       "  </thead>\n",
       "  <tbody>\n",
       "    <tr>\n",
       "      <th>3</th>\n",
       "      <td>ميكانيكي سيارات</td>\n",
       "      <td>27/05/1444</td>\n",
       "      <td>['تشخيص أعطال السيارات وإصلاحها وتنفيذ برامج ا...</td>\n",
       "      <td>['   فحص أداء المعدّات الكهربائية والميكانيكية...</td>\n",
       "      <td>مؤسسة لمكو لغيار الزيوت</td>\n",
       "      <td>8-1925495</td>\n",
       "      <td>خاص</td>\n",
       "      <td>صغيرة فئة ب</td>\n",
       "      <td>NaN</td>\n",
       "      <td>['Skill data', 'صيانة السيارات وتقييم الاعطال'...</td>\n",
       "      <td>المنطقة الشرقية</td>\n",
       "      <td>AL HUFUF...</td>\n",
       "      <td>['Salary', '5000.0']</td>\n",
       "      <td>دوام كامل</td>\n",
       "      <td>0 / 10</td>\n",
       "      <td>20202026350219</td>\n",
       "      <td>0 Years</td>\n",
       "      <td>M</td>\n",
       "    </tr>\n",
       "    <tr>\n",
       "      <th>25</th>\n",
       "      <td>مدير عام</td>\n",
       "      <td>26/05/1444</td>\n",
       "      <td>['المشاركة في وضع الأهداف العامة والسياسات وال...</td>\n",
       "      <td>['   المشاركة في وضع الأهداف والسياسات والمباد...</td>\n",
       "      <td>ورشة اضواء المشاعل للحدادة والالمنيوم</td>\n",
       "      <td>10-2010602</td>\n",
       "      <td>خاص</td>\n",
       "      <td>صغيرة فئة أ</td>\n",
       "      <td>NaN</td>\n",
       "      <td>['Skill data', 'حداد', 'متوسط', 'Language data...</td>\n",
       "      <td>المدينة المنورة</td>\n",
       "      <td>AL MADINA...</td>\n",
       "      <td>['Salary', '4000.0']</td>\n",
       "      <td>دوام كامل</td>\n",
       "      <td>0 / 1</td>\n",
       "      <td>20202026348601</td>\n",
       "      <td>0 Years</td>\n",
       "      <td>M</td>\n",
       "    </tr>\n",
       "    <tr>\n",
       "      <th>40</th>\n",
       "      <td>مدير فرع</td>\n",
       "      <td>25/05/1444</td>\n",
       "      <td>['المشاركة في وضع وإعداد أهداف الفرع في ضوء تو...</td>\n",
       "      <td>['   المشاركة في وضع وإعداد الخطط والأهداف الخ...</td>\n",
       "      <td>شركة الزي للتجارة</td>\n",
       "      <td>9-2079452</td>\n",
       "      <td>خاص</td>\n",
       "      <td>متوسطة فئة أ</td>\n",
       "      <td>NaN</td>\n",
       "      <td>['Language data', 'العربية', 'محترف', 'الانجلي...</td>\n",
       "      <td>المنطقة الشرقية</td>\n",
       "      <td>DHAHRAN...</td>\n",
       "      <td>['Salary', '4500.0', 'Benefits', 'حسب سنوات ال...</td>\n",
       "      <td>دوام كامل</td>\n",
       "      <td>0 / 1</td>\n",
       "      <td>20202026347650</td>\n",
       "      <td>2 Years</td>\n",
       "      <td>both</td>\n",
       "    </tr>\n",
       "    <tr>\n",
       "      <th>42</th>\n",
       "      <td>موظف استقبال فندق</td>\n",
       "      <td>25/05/1444</td>\n",
       "      <td>['الإشراف على خدمات الضيوف في مكتب الاستقبال، ...</td>\n",
       "      <td>['   الحفاظ على قائمة الحجوزات، وتوفير السجلات...</td>\n",
       "      <td>فندق قصر الواحة الفندقية</td>\n",
       "      <td>1-2440535</td>\n",
       "      <td>خاص</td>\n",
       "      <td>صغيرة فئة ب</td>\n",
       "      <td>NaN</td>\n",
       "      <td>['Skill data', 'الاستقبال الفندقي', 'محترف', '...</td>\n",
       "      <td>الرياض</td>\n",
       "      <td>AR RIYADH...</td>\n",
       "      <td>['Salary', '4500.0', 'Benefits', 'تارقت شهري',...</td>\n",
       "      <td>دوام كامل</td>\n",
       "      <td>0 / 4</td>\n",
       "      <td>20202026347394</td>\n",
       "      <td>2 Years</td>\n",
       "      <td>both</td>\n",
       "    </tr>\n",
       "    <tr>\n",
       "      <th>47</th>\n",
       "      <td>بائع</td>\n",
       "      <td>25/05/1444</td>\n",
       "      <td>['بيع مجموعة من السلع والخدمات للعملاء، وتوفير...</td>\n",
       "      <td>['1- إستقبال الزبائن وعمل أوامر الطلبات ', '2-...</td>\n",
       "      <td>شركة مطعم بيت الشاورما لتقديم الوجبات</td>\n",
       "      <td>1-2239765</td>\n",
       "      <td>خاص</td>\n",
       "      <td>متوسطة فئة ج</td>\n",
       "      <td>NaN</td>\n",
       "      <td>['Language data', 'العربية ', 'محترف']</td>\n",
       "      <td>الرياض</td>\n",
       "      <td>AR RIYADH...</td>\n",
       "      <td>['Salary', '4000.0']</td>\n",
       "      <td>دوام كامل</td>\n",
       "      <td>0 / 50</td>\n",
       "      <td>20202026346891</td>\n",
       "      <td>0 Years</td>\n",
       "      <td>M</td>\n",
       "    </tr>\n",
       "    <tr>\n",
       "      <th>...</th>\n",
       "      <td>...</td>\n",
       "      <td>...</td>\n",
       "      <td>...</td>\n",
       "      <td>...</td>\n",
       "      <td>...</td>\n",
       "      <td>...</td>\n",
       "      <td>...</td>\n",
       "      <td>...</td>\n",
       "      <td>...</td>\n",
       "      <td>...</td>\n",
       "      <td>...</td>\n",
       "      <td>...</td>\n",
       "      <td>...</td>\n",
       "      <td>...</td>\n",
       "      <td>...</td>\n",
       "      <td>...</td>\n",
       "      <td>...</td>\n",
       "      <td>...</td>\n",
       "    </tr>\n",
       "    <tr>\n",
       "      <th>1438</th>\n",
       "      <td>بائع</td>\n",
       "      <td>26/06/1444</td>\n",
       "      <td>['بيع مجموعة من السلع والخدمات للعملاء، وتوفير...</td>\n",
       "      <td>['   بيع مجموعة من السلع والخدمات للعملاء.', '...</td>\n",
       "      <td>مؤسسة ريان سعد عواد الدهام للحلويات</td>\n",
       "      <td>4-1971557</td>\n",
       "      <td>خاص</td>\n",
       "      <td>Unknown!</td>\n",
       "      <td>NaN</td>\n",
       "      <td>['Language data', 'العربية', 'محترف', 'الانجلي...</td>\n",
       "      <td>الرياض</td>\n",
       "      <td>AR RIYADH...</td>\n",
       "      <td>['Salary', '4500.0']</td>\n",
       "      <td>دوام كامل</td>\n",
       "      <td>0 / 2</td>\n",
       "      <td>20202026405668</td>\n",
       "      <td>2 Years</td>\n",
       "      <td>M</td>\n",
       "    </tr>\n",
       "    <tr>\n",
       "      <th>1444</th>\n",
       "      <td>مشرف مدخلي البيانات</td>\n",
       "      <td>26/06/1444</td>\n",
       "      <td>['الإشراف على مدخلي البيانات والتأكد من صحة ال...</td>\n",
       "      <td>['   تدقيق البيانات بعد إدخالها، والتأكد من صح...</td>\n",
       "      <td>خالد عوض الجوهي للمقاولات</td>\n",
       "      <td>1-2073853</td>\n",
       "      <td>خاص</td>\n",
       "      <td>Unknown!</td>\n",
       "      <td>NaN</td>\n",
       "      <td>['Skill data', 'اتقان الحاسب ', 'متوسط', 'Lang...</td>\n",
       "      <td>الرياض</td>\n",
       "      <td>HAFIRAT N...</td>\n",
       "      <td>['Salary', '4500.0']</td>\n",
       "      <td>دوام كامل</td>\n",
       "      <td>0 / 5</td>\n",
       "      <td>20202026405354</td>\n",
       "      <td>0 Years</td>\n",
       "      <td>both</td>\n",
       "    </tr>\n",
       "    <tr>\n",
       "      <th>1451</th>\n",
       "      <td>فني مختبر طبي</td>\n",
       "      <td>25/06/1444</td>\n",
       "      <td>['تفقد وتشغيل وخدمة معدات المختبر،أخذ عينات ال...</td>\n",
       "      <td>['   تفقد وتشغيل وخدمة معدات حفظ وفحص العينات ...</td>\n",
       "      <td>مجمع ابتسامة العائلة الطبي</td>\n",
       "      <td>1-2599562</td>\n",
       "      <td>خاص</td>\n",
       "      <td>Unknown!</td>\n",
       "      <td>NaN</td>\n",
       "      <td>['Professional certificate \\\\ License data', '...</td>\n",
       "      <td>الرياض</td>\n",
       "      <td>AR RIYADH...</td>\n",
       "      <td>['Salary', '5000.0']</td>\n",
       "      <td>دوام كامل</td>\n",
       "      <td>0 / 2</td>\n",
       "      <td>20202026404173</td>\n",
       "      <td>0 Years</td>\n",
       "      <td>both</td>\n",
       "    </tr>\n",
       "    <tr>\n",
       "      <th>1467</th>\n",
       "      <td>صيدلي</td>\n",
       "      <td>18/06/1444</td>\n",
       "      <td>['دراسة التركيبات الدوائية للعقاقير والعلاجات ...</td>\n",
       "      <td>['   دراسة مواصفات وتركيبات الادوية والعقاقير ...</td>\n",
       "      <td>شركة تقنية الدواجن والألبان للتجارة</td>\n",
       "      <td>1-2415250</td>\n",
       "      <td>خاص</td>\n",
       "      <td>صغيرة فئة ب</td>\n",
       "      <td>NaN</td>\n",
       "      <td>['Professional certificate \\\\ License data', '...</td>\n",
       "      <td>الرياض</td>\n",
       "      <td>AR RIYADH...</td>\n",
       "      <td>['Salary', '7000.0']</td>\n",
       "      <td>دوام كامل</td>\n",
       "      <td>0 / 1</td>\n",
       "      <td>20202026399061</td>\n",
       "      <td>0 Years</td>\n",
       "      <td>both</td>\n",
       "    </tr>\n",
       "    <tr>\n",
       "      <th>1468</th>\n",
       "      <td>مشغل آلة تشطيب رخام</td>\n",
       "      <td>18/06/1444</td>\n",
       "      <td>['تشغيل آلة تشطيب الرخام وابعادء الأجزاء المتف...</td>\n",
       "      <td>['   تسوية الرخام بواسطة أقراص الألماس الحديدي...</td>\n",
       "      <td>مصنع عبدالرحمن بن محمد بن عبدالعزيز العبدالقاد...</td>\n",
       "      <td>15-1971895</td>\n",
       "      <td>خاص</td>\n",
       "      <td>صغيرة فئة أ</td>\n",
       "      <td>NaN</td>\n",
       "      <td>['Skill data', 'متقن للعمل وشغوف ويرغب بالتطور...</td>\n",
       "      <td>المنطقة الشرقية</td>\n",
       "      <td>AL KHUBAR...</td>\n",
       "      <td>['Salary', '4000.0', 'Benefits', 'اجازة سنوية ...</td>\n",
       "      <td>دوام كامل</td>\n",
       "      <td>0 / 3</td>\n",
       "      <td>20202026398972</td>\n",
       "      <td>0 Years</td>\n",
       "      <td>M</td>\n",
       "    </tr>\n",
       "  </tbody>\n",
       "</table>\n",
       "<p>89 rows × 18 columns</p>\n",
       "</div>"
      ],
      "text/plain": [
       "                job_title    job_date  \\\n",
       "3         ميكانيكي سيارات  27/05/1444   \n",
       "25               مدير عام  26/05/1444   \n",
       "40               مدير فرع  25/05/1444   \n",
       "42      موظف استقبال فندق  25/05/1444   \n",
       "47                   بائع  25/05/1444   \n",
       "...                   ...         ...   \n",
       "1438                 بائع  26/06/1444   \n",
       "1444  مشرف مدخلي البيانات  26/06/1444   \n",
       "1451        فني مختبر طبي  25/06/1444   \n",
       "1467                صيدلي  18/06/1444   \n",
       "1468  مشغل آلة تشطيب رخام  18/06/1444   \n",
       "\n",
       "                                               job_desc  \\\n",
       "3     ['تشخيص أعطال السيارات وإصلاحها وتنفيذ برامج ا...   \n",
       "25    ['المشاركة في وضع الأهداف العامة والسياسات وال...   \n",
       "40    ['المشاركة في وضع وإعداد أهداف الفرع في ضوء تو...   \n",
       "42    ['الإشراف على خدمات الضيوف في مكتب الاستقبال، ...   \n",
       "47    ['بيع مجموعة من السلع والخدمات للعملاء، وتوفير...   \n",
       "...                                                 ...   \n",
       "1438  ['بيع مجموعة من السلع والخدمات للعملاء، وتوفير...   \n",
       "1444  ['الإشراف على مدخلي البيانات والتأكد من صحة ال...   \n",
       "1451  ['تفقد وتشغيل وخدمة معدات المختبر،أخذ عينات ال...   \n",
       "1467  ['دراسة التركيبات الدوائية للعقاقير والعلاجات ...   \n",
       "1468  ['تشغيل آلة تشطيب الرخام وابعادء الأجزاء المتف...   \n",
       "\n",
       "                                              job_tasks  \\\n",
       "3     ['   فحص أداء المعدّات الكهربائية والميكانيكية...   \n",
       "25    ['   المشاركة في وضع الأهداف والسياسات والمباد...   \n",
       "40    ['   المشاركة في وضع وإعداد الخطط والأهداف الخ...   \n",
       "42    ['   الحفاظ على قائمة الحجوزات، وتوفير السجلات...   \n",
       "47    ['1- إستقبال الزبائن وعمل أوامر الطلبات ', '2-...   \n",
       "...                                                 ...   \n",
       "1438  ['   بيع مجموعة من السلع والخدمات للعملاء.', '...   \n",
       "1444  ['   تدقيق البيانات بعد إدخالها، والتأكد من صح...   \n",
       "1451  ['   تفقد وتشغيل وخدمة معدات حفظ وفحص العينات ...   \n",
       "1467  ['   دراسة مواصفات وتركيبات الادوية والعقاقير ...   \n",
       "1468  ['   تسوية الرخام بواسطة أقراص الألماس الحديدي...   \n",
       "\n",
       "                                              comp_name     comp_no comp_type  \\\n",
       "3                               مؤسسة لمكو لغيار الزيوت   8-1925495       خاص   \n",
       "25                ورشة اضواء المشاعل للحدادة والالمنيوم  10-2010602       خاص   \n",
       "40                                    شركة الزي للتجارة   9-2079452       خاص   \n",
       "42                             فندق قصر الواحة الفندقية   1-2440535       خاص   \n",
       "47                شركة مطعم بيت الشاورما لتقديم الوجبات   1-2239765       خاص   \n",
       "...                                                 ...         ...       ...   \n",
       "1438                مؤسسة ريان سعد عواد الدهام للحلويات   4-1971557       خاص   \n",
       "1444                          خالد عوض الجوهي للمقاولات   1-2073853       خاص   \n",
       "1451                         مجمع ابتسامة العائلة الطبي   1-2599562       خاص   \n",
       "1467                شركة تقنية الدواجن والألبان للتجارة   1-2415250       خاص   \n",
       "1468  مصنع عبدالرحمن بن محمد بن عبدالعزيز العبدالقاد...  15-1971895       خاص   \n",
       "\n",
       "         comp_size eco_activity  \\\n",
       "3      صغيرة فئة ب          NaN   \n",
       "25     صغيرة فئة أ          NaN   \n",
       "40    متوسطة فئة أ          NaN   \n",
       "42     صغيرة فئة ب          NaN   \n",
       "47    متوسطة فئة ج          NaN   \n",
       "...            ...          ...   \n",
       "1438      Unknown!          NaN   \n",
       "1444      Unknown!          NaN   \n",
       "1451      Unknown!          NaN   \n",
       "1467   صغيرة فئة ب          NaN   \n",
       "1468   صغيرة فئة أ          NaN   \n",
       "\n",
       "                                                 qualif           region  \\\n",
       "3     ['Skill data', 'صيانة السيارات وتقييم الاعطال'...  المنطقة الشرقية   \n",
       "25    ['Skill data', 'حداد', 'متوسط', 'Language data...  المدينة المنورة   \n",
       "40    ['Language data', 'العربية', 'محترف', 'الانجلي...  المنطقة الشرقية   \n",
       "42    ['Skill data', 'الاستقبال الفندقي', 'محترف', '...           الرياض   \n",
       "47               ['Language data', 'العربية ', 'محترف']           الرياض   \n",
       "...                                                 ...              ...   \n",
       "1438  ['Language data', 'العربية', 'محترف', 'الانجلي...           الرياض   \n",
       "1444  ['Skill data', 'اتقان الحاسب ', 'متوسط', 'Lang...           الرياض   \n",
       "1451  ['Professional certificate \\\\ License data', '...           الرياض   \n",
       "1467  ['Professional certificate \\\\ License data', '...           الرياض   \n",
       "1468  ['Skill data', 'متقن للعمل وشغوف ويرغب بالتطور...  المنطقة الشرقية   \n",
       "\n",
       "              city                                           benefits  \\\n",
       "3      AL HUFUF...                               ['Salary', '5000.0']   \n",
       "25    AL MADINA...                               ['Salary', '4000.0']   \n",
       "40      DHAHRAN...  ['Salary', '4500.0', 'Benefits', 'حسب سنوات ال...   \n",
       "42    AR RIYADH...  ['Salary', '4500.0', 'Benefits', 'تارقت شهري',...   \n",
       "47    AR RIYADH...                               ['Salary', '4000.0']   \n",
       "...            ...                                                ...   \n",
       "1438  AR RIYADH...                               ['Salary', '4500.0']   \n",
       "1444  HAFIRAT N...                               ['Salary', '4500.0']   \n",
       "1451  AR RIYADH...                               ['Salary', '5000.0']   \n",
       "1467  AR RIYADH...                               ['Salary', '7000.0']   \n",
       "1468  AL KHUBAR...  ['Salary', '4000.0', 'Benefits', 'اجازة سنوية ...   \n",
       "\n",
       "       contract positions     job_post_id    exper gender  \n",
       "3     دوام كامل    0 / 10  20202026350219  0 Years      M  \n",
       "25    دوام كامل     0 / 1  20202026348601  0 Years      M  \n",
       "40    دوام كامل     0 / 1  20202026347650  2 Years   both  \n",
       "42    دوام كامل     0 / 4  20202026347394  2 Years   both  \n",
       "47    دوام كامل    0 / 50  20202026346891  0 Years      M  \n",
       "...         ...       ...             ...      ...    ...  \n",
       "1438  دوام كامل     0 / 2  20202026405668  2 Years      M  \n",
       "1444  دوام كامل     0 / 5  20202026405354  0 Years   both  \n",
       "1451  دوام كامل     0 / 2  20202026404173  0 Years   both  \n",
       "1467  دوام كامل     0 / 1  20202026399061  0 Years   both  \n",
       "1468  دوام كامل     0 / 3  20202026398972  0 Years      M  \n",
       "\n",
       "[89 rows x 18 columns]"
      ]
     },
     "execution_count": 105,
     "metadata": {},
     "output_type": "execute_result"
    }
   ],
   "source": [
    "jobs_df[jobs_df[\"eco_activity\"].isnull()]"
   ]
  },
  {
   "cell_type": "code",
   "execution_count": 106,
   "id": "6d9cab1e",
   "metadata": {},
   "outputs": [],
   "source": [
    "jobs_df[\"eco_activity\"] = jobs_df['eco_activity'].fillna('Unknown!')"
   ]
  },
  {
   "cell_type": "code",
   "execution_count": 107,
   "id": "397692a7",
   "metadata": {},
   "outputs": [
    {
     "data": {
      "text/plain": [
       "0"
      ]
     },
     "execution_count": 107,
     "metadata": {},
     "output_type": "execute_result"
    }
   ],
   "source": [
    "jobs_df[\"eco_activity\"].isnull().sum()"
   ]
  },
  {
   "cell_type": "code",
   "execution_count": 108,
   "id": "d60e1ec9",
   "metadata": {},
   "outputs": [
    {
     "data": {
      "text/html": [
       "<div>\n",
       "<style scoped>\n",
       "    .dataframe tbody tr th:only-of-type {\n",
       "        vertical-align: middle;\n",
       "    }\n",
       "\n",
       "    .dataframe tbody tr th {\n",
       "        vertical-align: top;\n",
       "    }\n",
       "\n",
       "    .dataframe thead th {\n",
       "        text-align: right;\n",
       "    }\n",
       "</style>\n",
       "<table border=\"1\" class=\"dataframe\">\n",
       "  <thead>\n",
       "    <tr style=\"text-align: right;\">\n",
       "      <th></th>\n",
       "      <th>job_title</th>\n",
       "      <th>job_date</th>\n",
       "      <th>job_desc</th>\n",
       "      <th>job_tasks</th>\n",
       "      <th>comp_name</th>\n",
       "      <th>comp_no</th>\n",
       "      <th>comp_type</th>\n",
       "      <th>comp_size</th>\n",
       "      <th>eco_activity</th>\n",
       "      <th>qualif</th>\n",
       "      <th>region</th>\n",
       "      <th>city</th>\n",
       "      <th>benefits</th>\n",
       "      <th>contract</th>\n",
       "      <th>positions</th>\n",
       "      <th>job_post_id</th>\n",
       "      <th>exper</th>\n",
       "      <th>gender</th>\n",
       "    </tr>\n",
       "  </thead>\n",
       "  <tbody>\n",
       "    <tr>\n",
       "      <th>1</th>\n",
       "      <td>بائع</td>\n",
       "      <td>27/05/1444</td>\n",
       "      <td>['بيع مجموعة من السلع والخدمات للعملاء، وتوفير...</td>\n",
       "      <td>['   بيع مجموعة من السلع والخدمات للعملاء.', '...</td>\n",
       "      <td>شركة عالم الكهرباء للمقاولات</td>\n",
       "      <td>4-1324428</td>\n",
       "      <td>خاص</td>\n",
       "      <td>متوسطة فئة ب</td>\n",
       "      <td>تركيب انظمة التبريد وتكييف الهواء وصيانتها واص...</td>\n",
       "      <td>NaN</td>\n",
       "      <td>المنطقة الشرقية</td>\n",
       "      <td>AD DAMMAM...</td>\n",
       "      <td>['Salary', '5000.0']</td>\n",
       "      <td>دوام كامل</td>\n",
       "      <td>0 / 3</td>\n",
       "      <td>20202026350389</td>\n",
       "      <td>0 Years</td>\n",
       "      <td>both</td>\n",
       "    </tr>\n",
       "    <tr>\n",
       "      <th>14</th>\n",
       "      <td>مصمم جرافيك</td>\n",
       "      <td>26/05/1444</td>\n",
       "      <td>['لديه الخبرة   في اخراج العروض التقديمية الرس...</td>\n",
       "      <td>['لديه الخبرة   في اخراج العروض التقديمية الرس...</td>\n",
       "      <td>مكتب مدارات للاستشارات الهندسية</td>\n",
       "      <td>3-1971776</td>\n",
       "      <td>خاص</td>\n",
       "      <td>متوسطة فئة ب</td>\n",
       "      <td>إدارة المشاريع الانشائية</td>\n",
       "      <td>NaN</td>\n",
       "      <td>حائل</td>\n",
       "      <td>HAIL...</td>\n",
       "      <td>['Salary', '7000.0']</td>\n",
       "      <td>دوام كامل</td>\n",
       "      <td>0 / 1</td>\n",
       "      <td>20202026349504</td>\n",
       "      <td>4 Years</td>\n",
       "      <td>M</td>\n",
       "    </tr>\n",
       "    <tr>\n",
       "      <th>15</th>\n",
       "      <td>مدخل بيانات</td>\n",
       "      <td>26/05/1444</td>\n",
       "      <td>['التمكن من استخدام برامج مايكروسفت أوفيس']</td>\n",
       "      <td>['التمكن من استخدام برامج مايكروسفت أوفيس']</td>\n",
       "      <td>مكتب مدارات للاستشارات الهندسية</td>\n",
       "      <td>3-1971776</td>\n",
       "      <td>خاص</td>\n",
       "      <td>متوسطة فئة ب</td>\n",
       "      <td>إدارة المشاريع الانشائية</td>\n",
       "      <td>NaN</td>\n",
       "      <td>حائل</td>\n",
       "      <td>HAIL...</td>\n",
       "      <td>['Salary', '3000.0']</td>\n",
       "      <td>دوام كامل</td>\n",
       "      <td>0 / 2</td>\n",
       "      <td>20202026349475</td>\n",
       "      <td>2 Years</td>\n",
       "      <td>M</td>\n",
       "    </tr>\n",
       "    <tr>\n",
       "      <th>16</th>\n",
       "      <td>مطور برامج</td>\n",
       "      <td>26/05/1444</td>\n",
       "      <td>[' تحليل  وادارة تطبيقات باستخدام الأدوات البر...</td>\n",
       "      <td>['   تحليل  وادارة تطبيقات باستخدام الأدوات ال...</td>\n",
       "      <td>مكتب مدارات للاستشارات الهندسية</td>\n",
       "      <td>3-1971776</td>\n",
       "      <td>خاص</td>\n",
       "      <td>متوسطة فئة ب</td>\n",
       "      <td>إدارة المشاريع الانشائية</td>\n",
       "      <td>NaN</td>\n",
       "      <td>حائل</td>\n",
       "      <td>HAIL...</td>\n",
       "      <td>['Salary', '9000.0']</td>\n",
       "      <td>دوام كامل</td>\n",
       "      <td>0 / 1</td>\n",
       "      <td>20202026349439</td>\n",
       "      <td>4 Years</td>\n",
       "      <td>M</td>\n",
       "    </tr>\n",
       "    <tr>\n",
       "      <th>17</th>\n",
       "      <td>أخصائي إدارة اداء</td>\n",
       "      <td>26/05/1444</td>\n",
       "      <td>[' فهم مبادئ الإدارة الإستراتيجية وقياس الأداء...</td>\n",
       "      <td>[' فهم مبادئ الإدارة الإستراتيجية وقياس الأداء...</td>\n",
       "      <td>مكتب مدارات للاستشارات الهندسية</td>\n",
       "      <td>3-1971776</td>\n",
       "      <td>خاص</td>\n",
       "      <td>متوسطة فئة ب</td>\n",
       "      <td>إدارة المشاريع الانشائية</td>\n",
       "      <td>NaN</td>\n",
       "      <td>حائل</td>\n",
       "      <td>HAIL...</td>\n",
       "      <td>['Salary', '12000.0']</td>\n",
       "      <td>دوام كامل</td>\n",
       "      <td>0 / 1</td>\n",
       "      <td>20202026349417</td>\n",
       "      <td>10 Years</td>\n",
       "      <td>M</td>\n",
       "    </tr>\n",
       "    <tr>\n",
       "      <th>...</th>\n",
       "      <td>...</td>\n",
       "      <td>...</td>\n",
       "      <td>...</td>\n",
       "      <td>...</td>\n",
       "      <td>...</td>\n",
       "      <td>...</td>\n",
       "      <td>...</td>\n",
       "      <td>...</td>\n",
       "      <td>...</td>\n",
       "      <td>...</td>\n",
       "      <td>...</td>\n",
       "      <td>...</td>\n",
       "      <td>...</td>\n",
       "      <td>...</td>\n",
       "      <td>...</td>\n",
       "      <td>...</td>\n",
       "      <td>...</td>\n",
       "      <td>...</td>\n",
       "    </tr>\n",
       "    <tr>\n",
       "      <th>1454</th>\n",
       "      <td>أخصائي عمليات موارد بشرية</td>\n",
       "      <td>25/06/1444</td>\n",
       "      <td>['تنفيذ الإجراءات والأنظمة والنماذج الخاصة بمر...</td>\n",
       "      <td>['   تنفيذ الإجراءات والأنظمة والنماذج الخاصة ...</td>\n",
       "      <td>شركـة ذوق للتجارة</td>\n",
       "      <td>1-1526321</td>\n",
       "      <td>خاص</td>\n",
       "      <td>صغيرة فئة ب</td>\n",
       "      <td>البيع بالتجزئة للوكلاء بالعمولة بدون محلات</td>\n",
       "      <td>NaN</td>\n",
       "      <td>الرياض</td>\n",
       "      <td>AR RIYADH...</td>\n",
       "      <td>['Salary', '5556.0']</td>\n",
       "      <td>دوام كامل</td>\n",
       "      <td>0 / 1</td>\n",
       "      <td>20202026403956</td>\n",
       "      <td>0 Years</td>\n",
       "      <td>F</td>\n",
       "    </tr>\n",
       "    <tr>\n",
       "      <th>1455</th>\n",
       "      <td>فني تصميم داخلي</td>\n",
       "      <td>24/06/1444</td>\n",
       "      <td>['تصميم أنظمة الألوان وطرز الأثاث، والمواد الم...</td>\n",
       "      <td>['   وضع التصاميم للمشروعات الداخلية، وإدارة ف...</td>\n",
       "      <td>شركة نمو للبحوث والدراسات (شركة شخص واحد)</td>\n",
       "      <td>1-2166711</td>\n",
       "      <td>خاص</td>\n",
       "      <td>صغيرة فئة أ</td>\n",
       "      <td>مراكز البحوث والدراسات الاجتماعية</td>\n",
       "      <td>NaN</td>\n",
       "      <td>الرياض</td>\n",
       "      <td>AR RIYADH...</td>\n",
       "      <td>['Salary', '5000.0', 'Benefits', 'عموله']</td>\n",
       "      <td>دوام كامل</td>\n",
       "      <td>0 / 1</td>\n",
       "      <td>20202026403328</td>\n",
       "      <td>2 Years</td>\n",
       "      <td>both</td>\n",
       "    </tr>\n",
       "    <tr>\n",
       "      <th>1460</th>\n",
       "      <td>كيميائي</td>\n",
       "      <td>23/06/1444</td>\n",
       "      <td>['دراسة خصائص المواد الكميائية للصناعات الكيمي...</td>\n",
       "      <td>['   إعداد برامج تشغيل الأجهزة والمعدات المخبر...</td>\n",
       "      <td>شركة نواف صالح البطي للتجارة</td>\n",
       "      <td>1-2604723</td>\n",
       "      <td>خاص</td>\n",
       "      <td>صغيرة فئة ب</td>\n",
       "      <td>تجارة الجملة والتجزئه في أنواع أخرى من المركبا...</td>\n",
       "      <td>NaN</td>\n",
       "      <td>الرياض</td>\n",
       "      <td>AR RIYADH...</td>\n",
       "      <td>['Salary', '5000.0']</td>\n",
       "      <td>دوام كامل</td>\n",
       "      <td>0 / 1</td>\n",
       "      <td>20202026402275</td>\n",
       "      <td>0 Years</td>\n",
       "      <td>F</td>\n",
       "    </tr>\n",
       "    <tr>\n",
       "      <th>1464</th>\n",
       "      <td>بائع</td>\n",
       "      <td>21/06/1444</td>\n",
       "      <td>['بيع مجموعة من السلع والخدمات للعملاء، وتوفير...</td>\n",
       "      <td>['   بيع مجموعة من السلع والخدمات للعملاء.', '...</td>\n",
       "      <td>شركة النجمة الذهبية للتبريد والتكييف شركة شخص ...</td>\n",
       "      <td>8-1977608</td>\n",
       "      <td>خاص</td>\n",
       "      <td>صغيرة فئة ب</td>\n",
       "      <td>تركيب انظمة التبريد وتكييف الهواء وصيانتها واص...</td>\n",
       "      <td>NaN</td>\n",
       "      <td>المنطقة الشرقية</td>\n",
       "      <td>AL HUFUF...</td>\n",
       "      <td>['Salary', '4000.0']</td>\n",
       "      <td>دوام كامل</td>\n",
       "      <td>0 / 1</td>\n",
       "      <td>20202026401107</td>\n",
       "      <td>2 Years</td>\n",
       "      <td>F</td>\n",
       "    </tr>\n",
       "    <tr>\n",
       "      <th>1465</th>\n",
       "      <td>مهندس تقنية معلومات</td>\n",
       "      <td>19/06/1444</td>\n",
       "      <td>['دراسة احتياجات العميل من الأجهزة الحاسوبية و...</td>\n",
       "      <td>['   متابعة وتقييم عملية جمع وتحليل المعطيات و...</td>\n",
       "      <td>مطعم الاوراق الخضر لتقديم الوجبات</td>\n",
       "      <td>15-1698448</td>\n",
       "      <td>خاص</td>\n",
       "      <td>صغيرة فئة ب</td>\n",
       "      <td>المطاعم مع الخدمة</td>\n",
       "      <td>NaN</td>\n",
       "      <td>الرياض</td>\n",
       "      <td>AR RIYADH...</td>\n",
       "      <td>['Salary', '5500.0']</td>\n",
       "      <td>دوام كامل</td>\n",
       "      <td>0 / 1</td>\n",
       "      <td>20202026400353</td>\n",
       "      <td>0 Years</td>\n",
       "      <td>both</td>\n",
       "    </tr>\n",
       "  </tbody>\n",
       "</table>\n",
       "<p>690 rows × 18 columns</p>\n",
       "</div>"
      ],
      "text/plain": [
       "                      job_title    job_date  \\\n",
       "1                          بائع  27/05/1444   \n",
       "14                  مصمم جرافيك  26/05/1444   \n",
       "15                  مدخل بيانات  26/05/1444   \n",
       "16                   مطور برامج  26/05/1444   \n",
       "17            أخصائي إدارة اداء  26/05/1444   \n",
       "...                         ...         ...   \n",
       "1454  أخصائي عمليات موارد بشرية  25/06/1444   \n",
       "1455            فني تصميم داخلي  24/06/1444   \n",
       "1460                    كيميائي  23/06/1444   \n",
       "1464                       بائع  21/06/1444   \n",
       "1465        مهندس تقنية معلومات  19/06/1444   \n",
       "\n",
       "                                               job_desc  \\\n",
       "1     ['بيع مجموعة من السلع والخدمات للعملاء، وتوفير...   \n",
       "14    ['لديه الخبرة   في اخراج العروض التقديمية الرس...   \n",
       "15          ['التمكن من استخدام برامج مايكروسفت أوفيس']   \n",
       "16    [' تحليل  وادارة تطبيقات باستخدام الأدوات البر...   \n",
       "17    [' فهم مبادئ الإدارة الإستراتيجية وقياس الأداء...   \n",
       "...                                                 ...   \n",
       "1454  ['تنفيذ الإجراءات والأنظمة والنماذج الخاصة بمر...   \n",
       "1455  ['تصميم أنظمة الألوان وطرز الأثاث، والمواد الم...   \n",
       "1460  ['دراسة خصائص المواد الكميائية للصناعات الكيمي...   \n",
       "1464  ['بيع مجموعة من السلع والخدمات للعملاء، وتوفير...   \n",
       "1465  ['دراسة احتياجات العميل من الأجهزة الحاسوبية و...   \n",
       "\n",
       "                                              job_tasks  \\\n",
       "1     ['   بيع مجموعة من السلع والخدمات للعملاء.', '...   \n",
       "14    ['لديه الخبرة   في اخراج العروض التقديمية الرس...   \n",
       "15          ['التمكن من استخدام برامج مايكروسفت أوفيس']   \n",
       "16    ['   تحليل  وادارة تطبيقات باستخدام الأدوات ال...   \n",
       "17    [' فهم مبادئ الإدارة الإستراتيجية وقياس الأداء...   \n",
       "...                                                 ...   \n",
       "1454  ['   تنفيذ الإجراءات والأنظمة والنماذج الخاصة ...   \n",
       "1455  ['   وضع التصاميم للمشروعات الداخلية، وإدارة ف...   \n",
       "1460  ['   إعداد برامج تشغيل الأجهزة والمعدات المخبر...   \n",
       "1464  ['   بيع مجموعة من السلع والخدمات للعملاء.', '...   \n",
       "1465  ['   متابعة وتقييم عملية جمع وتحليل المعطيات و...   \n",
       "\n",
       "                                              comp_name     comp_no comp_type  \\\n",
       "1                          شركة عالم الكهرباء للمقاولات   4-1324428       خاص   \n",
       "14                      مكتب مدارات للاستشارات الهندسية   3-1971776       خاص   \n",
       "15                      مكتب مدارات للاستشارات الهندسية   3-1971776       خاص   \n",
       "16                      مكتب مدارات للاستشارات الهندسية   3-1971776       خاص   \n",
       "17                      مكتب مدارات للاستشارات الهندسية   3-1971776       خاص   \n",
       "...                                                 ...         ...       ...   \n",
       "1454                                  شركـة ذوق للتجارة   1-1526321       خاص   \n",
       "1455          شركة نمو للبحوث والدراسات (شركة شخص واحد)   1-2166711       خاص   \n",
       "1460                       شركة نواف صالح البطي للتجارة   1-2604723       خاص   \n",
       "1464  شركة النجمة الذهبية للتبريد والتكييف شركة شخص ...   8-1977608       خاص   \n",
       "1465                  مطعم الاوراق الخضر لتقديم الوجبات  15-1698448       خاص   \n",
       "\n",
       "         comp_size                                       eco_activity qualif  \\\n",
       "1     متوسطة فئة ب  تركيب انظمة التبريد وتكييف الهواء وصيانتها واص...    NaN   \n",
       "14    متوسطة فئة ب                           إدارة المشاريع الانشائية    NaN   \n",
       "15    متوسطة فئة ب                           إدارة المشاريع الانشائية    NaN   \n",
       "16    متوسطة فئة ب                           إدارة المشاريع الانشائية    NaN   \n",
       "17    متوسطة فئة ب                           إدارة المشاريع الانشائية    NaN   \n",
       "...            ...                                                ...    ...   \n",
       "1454   صغيرة فئة ب         البيع بالتجزئة للوكلاء بالعمولة بدون محلات    NaN   \n",
       "1455   صغيرة فئة أ                  مراكز البحوث والدراسات الاجتماعية    NaN   \n",
       "1460   صغيرة فئة ب  تجارة الجملة والتجزئه في أنواع أخرى من المركبا...    NaN   \n",
       "1464   صغيرة فئة ب  تركيب انظمة التبريد وتكييف الهواء وصيانتها واص...    NaN   \n",
       "1465   صغيرة فئة ب                                  المطاعم مع الخدمة    NaN   \n",
       "\n",
       "               region          city  \\\n",
       "1     المنطقة الشرقية  AD DAMMAM...   \n",
       "14               حائل       HAIL...   \n",
       "15               حائل       HAIL...   \n",
       "16               حائل       HAIL...   \n",
       "17               حائل       HAIL...   \n",
       "...               ...           ...   \n",
       "1454           الرياض  AR RIYADH...   \n",
       "1455           الرياض  AR RIYADH...   \n",
       "1460           الرياض  AR RIYADH...   \n",
       "1464  المنطقة الشرقية   AL HUFUF...   \n",
       "1465           الرياض  AR RIYADH...   \n",
       "\n",
       "                                       benefits   contract positions  \\\n",
       "1                          ['Salary', '5000.0']  دوام كامل     0 / 3   \n",
       "14                         ['Salary', '7000.0']  دوام كامل     0 / 1   \n",
       "15                         ['Salary', '3000.0']  دوام كامل     0 / 2   \n",
       "16                         ['Salary', '9000.0']  دوام كامل     0 / 1   \n",
       "17                        ['Salary', '12000.0']  دوام كامل     0 / 1   \n",
       "...                                         ...        ...       ...   \n",
       "1454                       ['Salary', '5556.0']  دوام كامل     0 / 1   \n",
       "1455  ['Salary', '5000.0', 'Benefits', 'عموله']  دوام كامل     0 / 1   \n",
       "1460                       ['Salary', '5000.0']  دوام كامل     0 / 1   \n",
       "1464                       ['Salary', '4000.0']  دوام كامل     0 / 1   \n",
       "1465                       ['Salary', '5500.0']  دوام كامل     0 / 1   \n",
       "\n",
       "         job_post_id     exper gender  \n",
       "1     20202026350389   0 Years   both  \n",
       "14    20202026349504   4 Years      M  \n",
       "15    20202026349475   2 Years      M  \n",
       "16    20202026349439   4 Years      M  \n",
       "17    20202026349417  10 Years      M  \n",
       "...              ...       ...    ...  \n",
       "1454  20202026403956   0 Years      F  \n",
       "1455  20202026403328   2 Years   both  \n",
       "1460  20202026402275   0 Years      F  \n",
       "1464  20202026401107   2 Years      F  \n",
       "1465  20202026400353   0 Years   both  \n",
       "\n",
       "[690 rows x 18 columns]"
      ]
     },
     "execution_count": 108,
     "metadata": {},
     "output_type": "execute_result"
    }
   ],
   "source": [
    "jobs_df[jobs_df[\"qualif\"].isnull()]"
   ]
  },
  {
   "cell_type": "code",
   "execution_count": 109,
   "id": "28d5df1a",
   "metadata": {},
   "outputs": [],
   "source": [
    "#usually if no qualifications are mentioned it means they dont care about qualifications (domain knowledge)\n",
    "jobs_df[\"qualif\"] = jobs_df['qualif'].fillna('None')"
   ]
  },
  {
   "cell_type": "code",
   "execution_count": 110,
   "id": "47ffe404",
   "metadata": {},
   "outputs": [
    {
     "data": {
      "text/plain": [
       "0"
      ]
     },
     "execution_count": 110,
     "metadata": {},
     "output_type": "execute_result"
    }
   ],
   "source": [
    "jobs_df['qualif'].isnull().sum()"
   ]
  },
  {
   "cell_type": "code",
   "execution_count": 111,
   "id": "6ff3cf43",
   "metadata": {},
   "outputs": [
    {
     "data": {
      "text/plain": [
       "job_title       0\n",
       "job_date        0\n",
       "exper           0\n",
       "job_post_id     0\n",
       "positions       0\n",
       "contract        0\n",
       "benefits        0\n",
       "city            0\n",
       "region          0\n",
       "qualif          0\n",
       "eco_activity    0\n",
       "comp_size       0\n",
       "comp_type       0\n",
       "comp_no         0\n",
       "comp_name       0\n",
       "job_tasks       0\n",
       "job_desc        0\n",
       "gender          0\n",
       "dtype: int64"
      ]
     },
     "execution_count": 111,
     "metadata": {},
     "output_type": "execute_result"
    }
   ],
   "source": [
    "jobs_df.isnull().sum().sort_values(ascending=False)"
   ]
  },
  {
   "cell_type": "markdown",
   "id": "b40de63c-5a1d-49ed-a87e-c5229ee08bbe",
   "metadata": {},
   "source": [
    "#### 7. Check Accuracy:\n",
    "\n",
    "Verify that the data is correct and precise. This could involve comparing data samples with known sources or using validation rules.\n",
    "\n",
    "**The process includes:**\n",
    "1. Validating the appropriateness of data types for the dataset.\n",
    "2. Identifying outliers  using established validation  rule"
   ]
  },
  {
   "cell_type": "code",
   "execution_count": 84,
   "id": "68be5334-ae10-4abd-8097-3259fe5e72c8",
   "metadata": {},
   "outputs": [
    {
     "data": {
      "text/plain": [
       "job_title       object\n",
       "job_date        object\n",
       "job_desc        object\n",
       "job_tasks       object\n",
       "comp_name       object\n",
       "comp_no         object\n",
       "comp_type       object\n",
       "comp_size       object\n",
       "eco_activity    object\n",
       "qualif          object\n",
       "region          object\n",
       "city            object\n",
       "benefits        object\n",
       "contract        object\n",
       "positions       object\n",
       "job_post_id      int64\n",
       "exper           object\n",
       "gender          object\n",
       "dtype: object"
      ]
     },
     "execution_count": 84,
     "metadata": {},
     "output_type": "execute_result"
    }
   ],
   "source": [
    "# check columns types \n",
    "jobs_df.dtypes"
   ]
  },
  {
   "cell_type": "code",
   "execution_count": 86,
   "id": "2ee790ba-dcc0-45f1-b6f8-0133e913e149",
   "metadata": {},
   "outputs": [
    {
     "data": {
      "text/html": [
       "<div>\n",
       "<style scoped>\n",
       "    .dataframe tbody tr th:only-of-type {\n",
       "        vertical-align: middle;\n",
       "    }\n",
       "\n",
       "    .dataframe tbody tr th {\n",
       "        vertical-align: top;\n",
       "    }\n",
       "\n",
       "    .dataframe thead th {\n",
       "        text-align: right;\n",
       "    }\n",
       "</style>\n",
       "<table border=\"1\" class=\"dataframe\">\n",
       "  <thead>\n",
       "    <tr style=\"text-align: right;\">\n",
       "      <th></th>\n",
       "      <th>job_title</th>\n",
       "      <th>job_date</th>\n",
       "      <th>job_desc</th>\n",
       "      <th>job_tasks</th>\n",
       "      <th>comp_name</th>\n",
       "      <th>comp_no</th>\n",
       "      <th>comp_type</th>\n",
       "      <th>comp_size</th>\n",
       "      <th>eco_activity</th>\n",
       "      <th>qualif</th>\n",
       "      <th>region</th>\n",
       "      <th>city</th>\n",
       "      <th>benefits</th>\n",
       "      <th>contract</th>\n",
       "      <th>positions</th>\n",
       "      <th>job_post_id</th>\n",
       "      <th>exper</th>\n",
       "      <th>gender</th>\n",
       "    </tr>\n",
       "  </thead>\n",
       "  <tbody>\n",
       "    <tr>\n",
       "      <th>0</th>\n",
       "      <td>محاسب</td>\n",
       "      <td>27/05/1444</td>\n",
       "      <td>['إعداد وتنظيم مستندات الصرف ومتابعة تحصيل الإ...</td>\n",
       "      <td>['   تدقيق المطالبات المالية والتأكد من اكتمال...</td>\n",
       "      <td>شركة مقر العالم للسفريات</td>\n",
       "      <td>1-317262</td>\n",
       "      <td>خاص</td>\n",
       "      <td>متوسطة فئة أ</td>\n",
       "      <td>أنشطة وكالات السياحة والسفر</td>\n",
       "      <td>['Language data', 'اللغة الانجليزية', 'محترف']</td>\n",
       "      <td>الرياض</td>\n",
       "      <td>AR RIYADH...</td>\n",
       "      <td>['Salary', '5000.0']</td>\n",
       "      <td>دوام كامل</td>\n",
       "      <td>0 / 1</td>\n",
       "      <td>20202026350419</td>\n",
       "      <td>0 Years</td>\n",
       "      <td>both</td>\n",
       "    </tr>\n",
       "    <tr>\n",
       "      <th>1</th>\n",
       "      <td>بائع</td>\n",
       "      <td>27/05/1444</td>\n",
       "      <td>['بيع مجموعة من السلع والخدمات للعملاء، وتوفير...</td>\n",
       "      <td>['   بيع مجموعة من السلع والخدمات للعملاء.', '...</td>\n",
       "      <td>شركة عالم الكهرباء للمقاولات</td>\n",
       "      <td>4-1324428</td>\n",
       "      <td>خاص</td>\n",
       "      <td>متوسطة فئة ب</td>\n",
       "      <td>تركيب انظمة التبريد وتكييف الهواء وصيانتها واص...</td>\n",
       "      <td>0 Years</td>\n",
       "      <td>المنطقة الشرقية</td>\n",
       "      <td>AD DAMMAM...</td>\n",
       "      <td>['Salary', '5000.0']</td>\n",
       "      <td>دوام كامل</td>\n",
       "      <td>0 / 3</td>\n",
       "      <td>20202026350389</td>\n",
       "      <td>0 Years</td>\n",
       "      <td>both</td>\n",
       "    </tr>\n",
       "    <tr>\n",
       "      <th>2</th>\n",
       "      <td>أخصائي عمليات موارد بشرية</td>\n",
       "      <td>27/05/1444</td>\n",
       "      <td>['تنفيذ الإجراءات والأنظمة والنماذج الخاصة بمر...</td>\n",
       "      <td>['   تنفيذ الإجراءات والأنظمة والنماذج الخاصة ...</td>\n",
       "      <td>شركه دار السلام</td>\n",
       "      <td>1-155294</td>\n",
       "      <td>خاص</td>\n",
       "      <td>متوسطة فئة أ</td>\n",
       "      <td>ترميمات المباني السكنية والغير سكنية</td>\n",
       "      <td>['Language data', 'الانجليزيه', 'محترف']</td>\n",
       "      <td>الرياض</td>\n",
       "      <td>ATH THUMA...</td>\n",
       "      <td>['Salary', '4000.0']</td>\n",
       "      <td>دوام كامل</td>\n",
       "      <td>0 / 2</td>\n",
       "      <td>20202026350347</td>\n",
       "      <td>2 Years</td>\n",
       "      <td>both</td>\n",
       "    </tr>\n",
       "    <tr>\n",
       "      <th>3</th>\n",
       "      <td>ميكانيكي سيارات</td>\n",
       "      <td>27/05/1444</td>\n",
       "      <td>['تشخيص أعطال السيارات وإصلاحها وتنفيذ برامج ا...</td>\n",
       "      <td>['   فحص أداء المعدّات الكهربائية والميكانيكية...</td>\n",
       "      <td>مؤسسة لمكو لغيار الزيوت</td>\n",
       "      <td>8-1925495</td>\n",
       "      <td>خاص</td>\n",
       "      <td>صغيرة فئة ب</td>\n",
       "      <td>Unknown!</td>\n",
       "      <td>['Skill data', 'صيانة السيارات وتقييم الاعطال'...</td>\n",
       "      <td>المنطقة الشرقية</td>\n",
       "      <td>AL HUFUF...</td>\n",
       "      <td>['Salary', '5000.0']</td>\n",
       "      <td>دوام كامل</td>\n",
       "      <td>0 / 10</td>\n",
       "      <td>20202026350219</td>\n",
       "      <td>0 Years</td>\n",
       "      <td>M</td>\n",
       "    </tr>\n",
       "    <tr>\n",
       "      <th>4</th>\n",
       "      <td>محاسب</td>\n",
       "      <td>27/05/1444</td>\n",
       "      <td>['إعداد وتنظيم مستندات الصرف ومتابعة تحصيل الإ...</td>\n",
       "      <td>['   تدقيق المطالبات المالية والتأكد من اكتمال...</td>\n",
       "      <td>مؤسسة فكرة اليمامة للمقاولات</td>\n",
       "      <td>1-2356639</td>\n",
       "      <td>خاص</td>\n",
       "      <td>كبيرة</td>\n",
       "      <td>الإنشاءات العامة للمباني السكنية</td>\n",
       "      <td>['Skill data', 'تحمل ضغط العمل', 'محترف', 'Lan...</td>\n",
       "      <td>الرياض</td>\n",
       "      <td>AR RIYADH...</td>\n",
       "      <td>['Salary', '5000.0']</td>\n",
       "      <td>دوام كامل</td>\n",
       "      <td>0 / 1</td>\n",
       "      <td>20202026350043</td>\n",
       "      <td>0 Years</td>\n",
       "      <td>both</td>\n",
       "    </tr>\n",
       "    <tr>\n",
       "      <th>5</th>\n",
       "      <td>مراقب كاميرات أمنية</td>\n",
       "      <td>27/05/1444</td>\n",
       "      <td>['الإشراف على عمليات كاميرات المراقبة الأمنية،...</td>\n",
       "      <td>['   الإشراف على عمليات كاميرات المراقبة، والت...</td>\n",
       "      <td>مطاعم تراث الدمشقية للوجبات السريعة</td>\n",
       "      <td>1-1527188</td>\n",
       "      <td>خاص</td>\n",
       "      <td>صغيرة فئة ب</td>\n",
       "      <td>تشغيل المقاصف والكفتيريات على أساس إمتياز محدد...</td>\n",
       "      <td>['Skill data', 'اجادة الحاسب والتقنية ', 'متوس...</td>\n",
       "      <td>الرياض</td>\n",
       "      <td>AR RIYADH...</td>\n",
       "      <td>['Salary', '4500.0']</td>\n",
       "      <td>عمل عن بعد</td>\n",
       "      <td>0 / 1</td>\n",
       "      <td>20202026350031</td>\n",
       "      <td>0 Years</td>\n",
       "      <td>both</td>\n",
       "    </tr>\n",
       "    <tr>\n",
       "      <th>6</th>\n",
       "      <td>سكرتير تنفيذي</td>\n",
       "      <td>27/05/1444</td>\n",
       "      <td>['تنظيم المواعيد وإعداد المذكرات وإجراء المراس...</td>\n",
       "      <td>['   تنظيم مواعيد المدير/الرئيس وتذكيره بها، و...</td>\n",
       "      <td>شركة بيانات و دعم القرار للاستشارات في مجال ال...</td>\n",
       "      <td>9-2027654</td>\n",
       "      <td>خاص</td>\n",
       "      <td>صغيرة فئة أ</td>\n",
       "      <td>إعادة تأهيل وهيكلة العمليات الإدارية والمالية ...</td>\n",
       "      <td>['Language data', 'لغة انجليزية', 'محترف']</td>\n",
       "      <td>الرياض</td>\n",
       "      <td>AR RIYADH...</td>\n",
       "      <td>['Salary', '6000.0']</td>\n",
       "      <td>دوام كامل</td>\n",
       "      <td>0 / 2</td>\n",
       "      <td>20202026349999</td>\n",
       "      <td>4 Years</td>\n",
       "      <td>F</td>\n",
       "    </tr>\n",
       "    <tr>\n",
       "      <th>7</th>\n",
       "      <td>مدير مكتب</td>\n",
       "      <td>27/05/1444</td>\n",
       "      <td>['الإشراف المباشرعلى أنشطة إدارة وتخطيط وتنظيم...</td>\n",
       "      <td>['   إدارة وتوجيه عمليات وإجراءات تنسيق اجتماع...</td>\n",
       "      <td>شركة بيانات و دعم القرار للاستشارات في مجال ال...</td>\n",
       "      <td>9-2027654</td>\n",
       "      <td>خاص</td>\n",
       "      <td>صغيرة فئة أ</td>\n",
       "      <td>إعادة تأهيل وهيكلة العمليات الإدارية والمالية ...</td>\n",
       "      <td>['Language data', 'لغة انجليزية', 'محترف']</td>\n",
       "      <td>الرياض</td>\n",
       "      <td>AR RIYADH...</td>\n",
       "      <td>['Salary', '8000.0']</td>\n",
       "      <td>دوام كامل</td>\n",
       "      <td>0 / 1</td>\n",
       "      <td>20202026349997</td>\n",
       "      <td>4 Years</td>\n",
       "      <td>F</td>\n",
       "    </tr>\n",
       "    <tr>\n",
       "      <th>8</th>\n",
       "      <td>أخصائي إدارة مشاريع</td>\n",
       "      <td>27/05/1444</td>\n",
       "      <td>['تحليل عناصر وفعاليات المشروع ووضع الخطط والب...</td>\n",
       "      <td>['   تحليل عناصر وفعاليات المشروع وارتباطها وت...</td>\n",
       "      <td>شركة بيانات و دعم القرار للاستشارات في مجال ال...</td>\n",
       "      <td>9-2027654</td>\n",
       "      <td>خاص</td>\n",
       "      <td>صغيرة فئة أ</td>\n",
       "      <td>إعادة تأهيل وهيكلة العمليات الإدارية والمالية ...</td>\n",
       "      <td>['Language data', 'لغة انجليزية', 'محترف', 'Pr...</td>\n",
       "      <td>الرياض</td>\n",
       "      <td>AR RIYADH...</td>\n",
       "      <td>['Salary', '10000.0']</td>\n",
       "      <td>دوام كامل</td>\n",
       "      <td>0 / 3</td>\n",
       "      <td>20202026349992</td>\n",
       "      <td>2 Years</td>\n",
       "      <td>F</td>\n",
       "    </tr>\n",
       "    <tr>\n",
       "      <th>9</th>\n",
       "      <td>مصمم جرافيك</td>\n",
       "      <td>26/05/1444</td>\n",
       "      <td>['تطوير الأفكار الإبداعية والمفاهيم لتوصيل الر...</td>\n",
       "      <td>['   التنسيق مع مالك التصميم (عملاء محليون أو ...</td>\n",
       "      <td>شركة بيانات و دعم القرار للاستشارات في مجال ال...</td>\n",
       "      <td>9-2027654</td>\n",
       "      <td>خاص</td>\n",
       "      <td>صغيرة فئة أ</td>\n",
       "      <td>إعادة تأهيل وهيكلة العمليات الإدارية والمالية ...</td>\n",
       "      <td>['Language data', 'لغة انجليزية', 'متوسط']</td>\n",
       "      <td>الرياض</td>\n",
       "      <td>AR RIYADH...</td>\n",
       "      <td>['Salary', '5000.0']</td>\n",
       "      <td>دوام كامل</td>\n",
       "      <td>0 / 2</td>\n",
       "      <td>20202026349583</td>\n",
       "      <td>4 Years</td>\n",
       "      <td>F</td>\n",
       "    </tr>\n",
       "  </tbody>\n",
       "</table>\n",
       "</div>"
      ],
      "text/plain": [
       "                   job_title    job_date  \\\n",
       "0                      محاسب  27/05/1444   \n",
       "1                       بائع  27/05/1444   \n",
       "2  أخصائي عمليات موارد بشرية  27/05/1444   \n",
       "3            ميكانيكي سيارات  27/05/1444   \n",
       "4                      محاسب  27/05/1444   \n",
       "5        مراقب كاميرات أمنية  27/05/1444   \n",
       "6              سكرتير تنفيذي  27/05/1444   \n",
       "7                  مدير مكتب  27/05/1444   \n",
       "8        أخصائي إدارة مشاريع  27/05/1444   \n",
       "9                مصمم جرافيك  26/05/1444   \n",
       "\n",
       "                                            job_desc  \\\n",
       "0  ['إعداد وتنظيم مستندات الصرف ومتابعة تحصيل الإ...   \n",
       "1  ['بيع مجموعة من السلع والخدمات للعملاء، وتوفير...   \n",
       "2  ['تنفيذ الإجراءات والأنظمة والنماذج الخاصة بمر...   \n",
       "3  ['تشخيص أعطال السيارات وإصلاحها وتنفيذ برامج ا...   \n",
       "4  ['إعداد وتنظيم مستندات الصرف ومتابعة تحصيل الإ...   \n",
       "5  ['الإشراف على عمليات كاميرات المراقبة الأمنية،...   \n",
       "6  ['تنظيم المواعيد وإعداد المذكرات وإجراء المراس...   \n",
       "7  ['الإشراف المباشرعلى أنشطة إدارة وتخطيط وتنظيم...   \n",
       "8  ['تحليل عناصر وفعاليات المشروع ووضع الخطط والب...   \n",
       "9  ['تطوير الأفكار الإبداعية والمفاهيم لتوصيل الر...   \n",
       "\n",
       "                                           job_tasks  \\\n",
       "0  ['   تدقيق المطالبات المالية والتأكد من اكتمال...   \n",
       "1  ['   بيع مجموعة من السلع والخدمات للعملاء.', '...   \n",
       "2  ['   تنفيذ الإجراءات والأنظمة والنماذج الخاصة ...   \n",
       "3  ['   فحص أداء المعدّات الكهربائية والميكانيكية...   \n",
       "4  ['   تدقيق المطالبات المالية والتأكد من اكتمال...   \n",
       "5  ['   الإشراف على عمليات كاميرات المراقبة، والت...   \n",
       "6  ['   تنظيم مواعيد المدير/الرئيس وتذكيره بها، و...   \n",
       "7  ['   إدارة وتوجيه عمليات وإجراءات تنسيق اجتماع...   \n",
       "8  ['   تحليل عناصر وفعاليات المشروع وارتباطها وت...   \n",
       "9  ['   التنسيق مع مالك التصميم (عملاء محليون أو ...   \n",
       "\n",
       "                                           comp_name    comp_no comp_type  \\\n",
       "0                           شركة مقر العالم للسفريات   1-317262       خاص   \n",
       "1                       شركة عالم الكهرباء للمقاولات  4-1324428       خاص   \n",
       "2                                    شركه دار السلام   1-155294       خاص   \n",
       "3                            مؤسسة لمكو لغيار الزيوت  8-1925495       خاص   \n",
       "4                       مؤسسة فكرة اليمامة للمقاولات  1-2356639       خاص   \n",
       "5                مطاعم تراث الدمشقية للوجبات السريعة  1-1527188       خاص   \n",
       "6  شركة بيانات و دعم القرار للاستشارات في مجال ال...  9-2027654       خاص   \n",
       "7  شركة بيانات و دعم القرار للاستشارات في مجال ال...  9-2027654       خاص   \n",
       "8  شركة بيانات و دعم القرار للاستشارات في مجال ال...  9-2027654       خاص   \n",
       "9  شركة بيانات و دعم القرار للاستشارات في مجال ال...  9-2027654       خاص   \n",
       "\n",
       "      comp_size                                       eco_activity  \\\n",
       "0  متوسطة فئة أ                        أنشطة وكالات السياحة والسفر   \n",
       "1  متوسطة فئة ب  تركيب انظمة التبريد وتكييف الهواء وصيانتها واص...   \n",
       "2  متوسطة فئة أ               ترميمات المباني السكنية والغير سكنية   \n",
       "3   صغيرة فئة ب                                           Unknown!   \n",
       "4         كبيرة                   الإنشاءات العامة للمباني السكنية   \n",
       "5   صغيرة فئة ب  تشغيل المقاصف والكفتيريات على أساس إمتياز محدد...   \n",
       "6   صغيرة فئة أ  إعادة تأهيل وهيكلة العمليات الإدارية والمالية ...   \n",
       "7   صغيرة فئة أ  إعادة تأهيل وهيكلة العمليات الإدارية والمالية ...   \n",
       "8   صغيرة فئة أ  إعادة تأهيل وهيكلة العمليات الإدارية والمالية ...   \n",
       "9   صغيرة فئة أ  إعادة تأهيل وهيكلة العمليات الإدارية والمالية ...   \n",
       "\n",
       "                                              qualif           region  \\\n",
       "0     ['Language data', 'اللغة الانجليزية', 'محترف']           الرياض   \n",
       "1                                            0 Years  المنطقة الشرقية   \n",
       "2           ['Language data', 'الانجليزيه', 'محترف']           الرياض   \n",
       "3  ['Skill data', 'صيانة السيارات وتقييم الاعطال'...  المنطقة الشرقية   \n",
       "4  ['Skill data', 'تحمل ضغط العمل', 'محترف', 'Lan...           الرياض   \n",
       "5  ['Skill data', 'اجادة الحاسب والتقنية ', 'متوس...           الرياض   \n",
       "6         ['Language data', 'لغة انجليزية', 'محترف']           الرياض   \n",
       "7         ['Language data', 'لغة انجليزية', 'محترف']           الرياض   \n",
       "8  ['Language data', 'لغة انجليزية', 'محترف', 'Pr...           الرياض   \n",
       "9         ['Language data', 'لغة انجليزية', 'متوسط']           الرياض   \n",
       "\n",
       "           city               benefits    contract positions     job_post_id  \\\n",
       "0  AR RIYADH...   ['Salary', '5000.0']   دوام كامل     0 / 1  20202026350419   \n",
       "1  AD DAMMAM...   ['Salary', '5000.0']   دوام كامل     0 / 3  20202026350389   \n",
       "2  ATH THUMA...   ['Salary', '4000.0']   دوام كامل     0 / 2  20202026350347   \n",
       "3   AL HUFUF...   ['Salary', '5000.0']   دوام كامل    0 / 10  20202026350219   \n",
       "4  AR RIYADH...   ['Salary', '5000.0']   دوام كامل     0 / 1  20202026350043   \n",
       "5  AR RIYADH...   ['Salary', '4500.0']  عمل عن بعد     0 / 1  20202026350031   \n",
       "6  AR RIYADH...   ['Salary', '6000.0']   دوام كامل     0 / 2  20202026349999   \n",
       "7  AR RIYADH...   ['Salary', '8000.0']   دوام كامل     0 / 1  20202026349997   \n",
       "8  AR RIYADH...  ['Salary', '10000.0']   دوام كامل     0 / 3  20202026349992   \n",
       "9  AR RIYADH...   ['Salary', '5000.0']   دوام كامل     0 / 2  20202026349583   \n",
       "\n",
       "     exper gender  \n",
       "0  0 Years   both  \n",
       "1  0 Years   both  \n",
       "2  2 Years   both  \n",
       "3  0 Years      M  \n",
       "4  0 Years   both  \n",
       "5  0 Years   both  \n",
       "6  4 Years      F  \n",
       "7  4 Years      F  \n",
       "8  2 Years      F  \n",
       "9  4 Years      F  "
      ]
     },
     "execution_count": 86,
     "metadata": {},
     "output_type": "execute_result"
    }
   ],
   "source": [
    "# go to clean them \n",
    "jobs_df.head(10)"
   ]
  },
  {
   "cell_type": "code",
   "execution_count": 120,
   "id": "7565416d",
   "metadata": {},
   "outputs": [],
   "source": [
    "jobs_df['experience (Year)'] = jobs_df[\"exper\"].map(lambda x:int(x.split()[0]))"
   ]
  },
  {
   "cell_type": "code",
   "execution_count": 121,
   "id": "cf961c5f",
   "metadata": {},
   "outputs": [
    {
     "data": {
      "text/html": [
       "<div>\n",
       "<style scoped>\n",
       "    .dataframe tbody tr th:only-of-type {\n",
       "        vertical-align: middle;\n",
       "    }\n",
       "\n",
       "    .dataframe tbody tr th {\n",
       "        vertical-align: top;\n",
       "    }\n",
       "\n",
       "    .dataframe thead th {\n",
       "        text-align: right;\n",
       "    }\n",
       "</style>\n",
       "<table border=\"1\" class=\"dataframe\">\n",
       "  <thead>\n",
       "    <tr style=\"text-align: right;\">\n",
       "      <th></th>\n",
       "      <th>job_title</th>\n",
       "      <th>job_date</th>\n",
       "      <th>job_desc</th>\n",
       "      <th>job_tasks</th>\n",
       "      <th>comp_name</th>\n",
       "      <th>comp_no</th>\n",
       "      <th>comp_type</th>\n",
       "      <th>comp_size</th>\n",
       "      <th>eco_activity</th>\n",
       "      <th>qualif</th>\n",
       "      <th>region</th>\n",
       "      <th>city</th>\n",
       "      <th>benefits</th>\n",
       "      <th>contract</th>\n",
       "      <th>positions</th>\n",
       "      <th>job_post_id</th>\n",
       "      <th>exper</th>\n",
       "      <th>gender</th>\n",
       "      <th>experience (Year)</th>\n",
       "    </tr>\n",
       "  </thead>\n",
       "  <tbody>\n",
       "    <tr>\n",
       "      <th>0</th>\n",
       "      <td>محاسب</td>\n",
       "      <td>27/05/1444</td>\n",
       "      <td>['إعداد وتنظيم مستندات الصرف ومتابعة تحصيل الإ...</td>\n",
       "      <td>['   تدقيق المطالبات المالية والتأكد من اكتمال...</td>\n",
       "      <td>شركة مقر العالم للسفريات</td>\n",
       "      <td>1-317262</td>\n",
       "      <td>خاص</td>\n",
       "      <td>متوسطة فئة أ</td>\n",
       "      <td>أنشطة وكالات السياحة والسفر</td>\n",
       "      <td>['Language data', 'اللغة الانجليزية', 'محترف']</td>\n",
       "      <td>الرياض</td>\n",
       "      <td>AR RIYADH...</td>\n",
       "      <td>['Salary', '5000.0']</td>\n",
       "      <td>دوام كامل</td>\n",
       "      <td>0 / 1</td>\n",
       "      <td>20202026350419</td>\n",
       "      <td>0 Years</td>\n",
       "      <td>both</td>\n",
       "      <td>0</td>\n",
       "    </tr>\n",
       "    <tr>\n",
       "      <th>1</th>\n",
       "      <td>بائع</td>\n",
       "      <td>27/05/1444</td>\n",
       "      <td>['بيع مجموعة من السلع والخدمات للعملاء، وتوفير...</td>\n",
       "      <td>['   بيع مجموعة من السلع والخدمات للعملاء.', '...</td>\n",
       "      <td>شركة عالم الكهرباء للمقاولات</td>\n",
       "      <td>4-1324428</td>\n",
       "      <td>خاص</td>\n",
       "      <td>متوسطة فئة ب</td>\n",
       "      <td>تركيب انظمة التبريد وتكييف الهواء وصيانتها واص...</td>\n",
       "      <td>None</td>\n",
       "      <td>المنطقة الشرقية</td>\n",
       "      <td>AD DAMMAM...</td>\n",
       "      <td>['Salary', '5000.0']</td>\n",
       "      <td>دوام كامل</td>\n",
       "      <td>0 / 3</td>\n",
       "      <td>20202026350389</td>\n",
       "      <td>0 Years</td>\n",
       "      <td>both</td>\n",
       "      <td>0</td>\n",
       "    </tr>\n",
       "    <tr>\n",
       "      <th>2</th>\n",
       "      <td>أخصائي عمليات موارد بشرية</td>\n",
       "      <td>27/05/1444</td>\n",
       "      <td>['تنفيذ الإجراءات والأنظمة والنماذج الخاصة بمر...</td>\n",
       "      <td>['   تنفيذ الإجراءات والأنظمة والنماذج الخاصة ...</td>\n",
       "      <td>شركه دار السلام</td>\n",
       "      <td>1-155294</td>\n",
       "      <td>خاص</td>\n",
       "      <td>متوسطة فئة أ</td>\n",
       "      <td>ترميمات المباني السكنية والغير سكنية</td>\n",
       "      <td>['Language data', 'الانجليزيه', 'محترف']</td>\n",
       "      <td>الرياض</td>\n",
       "      <td>ATH THUMA...</td>\n",
       "      <td>['Salary', '4000.0']</td>\n",
       "      <td>دوام كامل</td>\n",
       "      <td>0 / 2</td>\n",
       "      <td>20202026350347</td>\n",
       "      <td>2 Years</td>\n",
       "      <td>both</td>\n",
       "      <td>2</td>\n",
       "    </tr>\n",
       "    <tr>\n",
       "      <th>3</th>\n",
       "      <td>ميكانيكي سيارات</td>\n",
       "      <td>27/05/1444</td>\n",
       "      <td>['تشخيص أعطال السيارات وإصلاحها وتنفيذ برامج ا...</td>\n",
       "      <td>['   فحص أداء المعدّات الكهربائية والميكانيكية...</td>\n",
       "      <td>مؤسسة لمكو لغيار الزيوت</td>\n",
       "      <td>8-1925495</td>\n",
       "      <td>خاص</td>\n",
       "      <td>صغيرة فئة ب</td>\n",
       "      <td>Unknown!</td>\n",
       "      <td>['Skill data', 'صيانة السيارات وتقييم الاعطال'...</td>\n",
       "      <td>المنطقة الشرقية</td>\n",
       "      <td>AL HUFUF...</td>\n",
       "      <td>['Salary', '5000.0']</td>\n",
       "      <td>دوام كامل</td>\n",
       "      <td>0 / 10</td>\n",
       "      <td>20202026350219</td>\n",
       "      <td>0 Years</td>\n",
       "      <td>M</td>\n",
       "      <td>0</td>\n",
       "    </tr>\n",
       "    <tr>\n",
       "      <th>4</th>\n",
       "      <td>محاسب</td>\n",
       "      <td>27/05/1444</td>\n",
       "      <td>['إعداد وتنظيم مستندات الصرف ومتابعة تحصيل الإ...</td>\n",
       "      <td>['   تدقيق المطالبات المالية والتأكد من اكتمال...</td>\n",
       "      <td>مؤسسة فكرة اليمامة للمقاولات</td>\n",
       "      <td>1-2356639</td>\n",
       "      <td>خاص</td>\n",
       "      <td>كبيرة</td>\n",
       "      <td>الإنشاءات العامة للمباني السكنية</td>\n",
       "      <td>['Skill data', 'تحمل ضغط العمل', 'محترف', 'Lan...</td>\n",
       "      <td>الرياض</td>\n",
       "      <td>AR RIYADH...</td>\n",
       "      <td>['Salary', '5000.0']</td>\n",
       "      <td>دوام كامل</td>\n",
       "      <td>0 / 1</td>\n",
       "      <td>20202026350043</td>\n",
       "      <td>0 Years</td>\n",
       "      <td>both</td>\n",
       "      <td>0</td>\n",
       "    </tr>\n",
       "  </tbody>\n",
       "</table>\n",
       "</div>"
      ],
      "text/plain": [
       "                   job_title    job_date  \\\n",
       "0                      محاسب  27/05/1444   \n",
       "1                       بائع  27/05/1444   \n",
       "2  أخصائي عمليات موارد بشرية  27/05/1444   \n",
       "3            ميكانيكي سيارات  27/05/1444   \n",
       "4                      محاسب  27/05/1444   \n",
       "\n",
       "                                            job_desc  \\\n",
       "0  ['إعداد وتنظيم مستندات الصرف ومتابعة تحصيل الإ...   \n",
       "1  ['بيع مجموعة من السلع والخدمات للعملاء، وتوفير...   \n",
       "2  ['تنفيذ الإجراءات والأنظمة والنماذج الخاصة بمر...   \n",
       "3  ['تشخيص أعطال السيارات وإصلاحها وتنفيذ برامج ا...   \n",
       "4  ['إعداد وتنظيم مستندات الصرف ومتابعة تحصيل الإ...   \n",
       "\n",
       "                                           job_tasks  \\\n",
       "0  ['   تدقيق المطالبات المالية والتأكد من اكتمال...   \n",
       "1  ['   بيع مجموعة من السلع والخدمات للعملاء.', '...   \n",
       "2  ['   تنفيذ الإجراءات والأنظمة والنماذج الخاصة ...   \n",
       "3  ['   فحص أداء المعدّات الكهربائية والميكانيكية...   \n",
       "4  ['   تدقيق المطالبات المالية والتأكد من اكتمال...   \n",
       "\n",
       "                      comp_name    comp_no comp_type     comp_size  \\\n",
       "0      شركة مقر العالم للسفريات   1-317262       خاص  متوسطة فئة أ   \n",
       "1  شركة عالم الكهرباء للمقاولات  4-1324428       خاص  متوسطة فئة ب   \n",
       "2               شركه دار السلام   1-155294       خاص  متوسطة فئة أ   \n",
       "3       مؤسسة لمكو لغيار الزيوت  8-1925495       خاص   صغيرة فئة ب   \n",
       "4  مؤسسة فكرة اليمامة للمقاولات  1-2356639       خاص         كبيرة   \n",
       "\n",
       "                                        eco_activity  \\\n",
       "0                        أنشطة وكالات السياحة والسفر   \n",
       "1  تركيب انظمة التبريد وتكييف الهواء وصيانتها واص...   \n",
       "2               ترميمات المباني السكنية والغير سكنية   \n",
       "3                                           Unknown!   \n",
       "4                   الإنشاءات العامة للمباني السكنية   \n",
       "\n",
       "                                              qualif           region  \\\n",
       "0     ['Language data', 'اللغة الانجليزية', 'محترف']           الرياض   \n",
       "1                                               None  المنطقة الشرقية   \n",
       "2           ['Language data', 'الانجليزيه', 'محترف']           الرياض   \n",
       "3  ['Skill data', 'صيانة السيارات وتقييم الاعطال'...  المنطقة الشرقية   \n",
       "4  ['Skill data', 'تحمل ضغط العمل', 'محترف', 'Lan...           الرياض   \n",
       "\n",
       "           city              benefits   contract positions     job_post_id  \\\n",
       "0  AR RIYADH...  ['Salary', '5000.0']  دوام كامل     0 / 1  20202026350419   \n",
       "1  AD DAMMAM...  ['Salary', '5000.0']  دوام كامل     0 / 3  20202026350389   \n",
       "2  ATH THUMA...  ['Salary', '4000.0']  دوام كامل     0 / 2  20202026350347   \n",
       "3   AL HUFUF...  ['Salary', '5000.0']  دوام كامل    0 / 10  20202026350219   \n",
       "4  AR RIYADH...  ['Salary', '5000.0']  دوام كامل     0 / 1  20202026350043   \n",
       "\n",
       "     exper gender  experience (Year)  \n",
       "0  0 Years   both                  0  \n",
       "1  0 Years   both                  0  \n",
       "2  2 Years   both                  2  \n",
       "3  0 Years      M                  0  \n",
       "4  0 Years   both                  0  "
      ]
     },
     "execution_count": 121,
     "metadata": {},
     "output_type": "execute_result"
    }
   ],
   "source": [
    "jobs_df.head()"
   ]
  },
  {
   "cell_type": "code",
   "execution_count": 122,
   "id": "9cfb6120",
   "metadata": {},
   "outputs": [
    {
     "data": {
      "text/plain": [
       "job_title            object\n",
       "job_date             object\n",
       "job_desc             object\n",
       "job_tasks            object\n",
       "comp_name            object\n",
       "comp_no              object\n",
       "comp_type            object\n",
       "comp_size            object\n",
       "eco_activity         object\n",
       "qualif               object\n",
       "region               object\n",
       "city                 object\n",
       "benefits             object\n",
       "contract             object\n",
       "positions            object\n",
       "job_post_id           int64\n",
       "exper                object\n",
       "gender               object\n",
       "experience (Year)     int64\n",
       "dtype: object"
      ]
     },
     "execution_count": 122,
     "metadata": {},
     "output_type": "execute_result"
    }
   ],
   "source": [
    "jobs_df.dtypes"
   ]
  },
  {
   "cell_type": "code",
   "execution_count": 127,
   "id": "02ad7ecd",
   "metadata": {},
   "outputs": [
    {
     "ename": "KeyError",
     "evalue": "\"['exper'] not found in axis\"",
     "output_type": "error",
     "traceback": [
      "\u001b[1;31m---------------------------------------------------------------------------\u001b[0m",
      "\u001b[1;31mKeyError\u001b[0m                                  Traceback (most recent call last)",
      "Cell \u001b[1;32mIn[127], line 1\u001b[0m\n\u001b[1;32m----> 1\u001b[0m jobs_df \u001b[38;5;241m=\u001b[39m \u001b[43mjobs_df\u001b[49m\u001b[38;5;241;43m.\u001b[39;49m\u001b[43mdrop\u001b[49m\u001b[43m(\u001b[49m\u001b[38;5;124;43m\"\u001b[39;49m\u001b[38;5;124;43mexper\u001b[39;49m\u001b[38;5;124;43m\"\u001b[39;49m\u001b[43m,\u001b[49m\u001b[43maxis\u001b[49m\u001b[38;5;241;43m=\u001b[39;49m\u001b[38;5;241;43m1\u001b[39;49m\u001b[43m)\u001b[49m\n\u001b[0;32m      2\u001b[0m jobs_df\n",
      "File \u001b[1;32mc:\\Users\\USER\\AppData\\Local\\Programs\\Python\\Python311\\Lib\\site-packages\\pandas\\core\\frame.py:5581\u001b[0m, in \u001b[0;36mDataFrame.drop\u001b[1;34m(self, labels, axis, index, columns, level, inplace, errors)\u001b[0m\n\u001b[0;32m   5433\u001b[0m \u001b[38;5;28;01mdef\u001b[39;00m \u001b[38;5;21mdrop\u001b[39m(\n\u001b[0;32m   5434\u001b[0m     \u001b[38;5;28mself\u001b[39m,\n\u001b[0;32m   5435\u001b[0m     labels: IndexLabel \u001b[38;5;241m|\u001b[39m \u001b[38;5;28;01mNone\u001b[39;00m \u001b[38;5;241m=\u001b[39m \u001b[38;5;28;01mNone\u001b[39;00m,\n\u001b[1;32m   (...)\u001b[0m\n\u001b[0;32m   5442\u001b[0m     errors: IgnoreRaise \u001b[38;5;241m=\u001b[39m \u001b[38;5;124m\"\u001b[39m\u001b[38;5;124mraise\u001b[39m\u001b[38;5;124m\"\u001b[39m,\n\u001b[0;32m   5443\u001b[0m ) \u001b[38;5;241m-\u001b[39m\u001b[38;5;241m>\u001b[39m DataFrame \u001b[38;5;241m|\u001b[39m \u001b[38;5;28;01mNone\u001b[39;00m:\n\u001b[0;32m   5444\u001b[0m \u001b[38;5;250m    \u001b[39m\u001b[38;5;124;03m\"\"\"\u001b[39;00m\n\u001b[0;32m   5445\u001b[0m \u001b[38;5;124;03m    Drop specified labels from rows or columns.\u001b[39;00m\n\u001b[0;32m   5446\u001b[0m \n\u001b[1;32m   (...)\u001b[0m\n\u001b[0;32m   5579\u001b[0m \u001b[38;5;124;03m            weight  1.0     0.8\u001b[39;00m\n\u001b[0;32m   5580\u001b[0m \u001b[38;5;124;03m    \"\"\"\u001b[39;00m\n\u001b[1;32m-> 5581\u001b[0m     \u001b[38;5;28;01mreturn\u001b[39;00m \u001b[38;5;28;43msuper\u001b[39;49m\u001b[43m(\u001b[49m\u001b[43m)\u001b[49m\u001b[38;5;241;43m.\u001b[39;49m\u001b[43mdrop\u001b[49m\u001b[43m(\u001b[49m\n\u001b[0;32m   5582\u001b[0m \u001b[43m        \u001b[49m\u001b[43mlabels\u001b[49m\u001b[38;5;241;43m=\u001b[39;49m\u001b[43mlabels\u001b[49m\u001b[43m,\u001b[49m\n\u001b[0;32m   5583\u001b[0m \u001b[43m        \u001b[49m\u001b[43maxis\u001b[49m\u001b[38;5;241;43m=\u001b[39;49m\u001b[43maxis\u001b[49m\u001b[43m,\u001b[49m\n\u001b[0;32m   5584\u001b[0m \u001b[43m        \u001b[49m\u001b[43mindex\u001b[49m\u001b[38;5;241;43m=\u001b[39;49m\u001b[43mindex\u001b[49m\u001b[43m,\u001b[49m\n\u001b[0;32m   5585\u001b[0m \u001b[43m        \u001b[49m\u001b[43mcolumns\u001b[49m\u001b[38;5;241;43m=\u001b[39;49m\u001b[43mcolumns\u001b[49m\u001b[43m,\u001b[49m\n\u001b[0;32m   5586\u001b[0m \u001b[43m        \u001b[49m\u001b[43mlevel\u001b[49m\u001b[38;5;241;43m=\u001b[39;49m\u001b[43mlevel\u001b[49m\u001b[43m,\u001b[49m\n\u001b[0;32m   5587\u001b[0m \u001b[43m        \u001b[49m\u001b[43minplace\u001b[49m\u001b[38;5;241;43m=\u001b[39;49m\u001b[43minplace\u001b[49m\u001b[43m,\u001b[49m\n\u001b[0;32m   5588\u001b[0m \u001b[43m        \u001b[49m\u001b[43merrors\u001b[49m\u001b[38;5;241;43m=\u001b[39;49m\u001b[43merrors\u001b[49m\u001b[43m,\u001b[49m\n\u001b[0;32m   5589\u001b[0m \u001b[43m    \u001b[49m\u001b[43m)\u001b[49m\n",
      "File \u001b[1;32mc:\\Users\\USER\\AppData\\Local\\Programs\\Python\\Python311\\Lib\\site-packages\\pandas\\core\\generic.py:4788\u001b[0m, in \u001b[0;36mNDFrame.drop\u001b[1;34m(self, labels, axis, index, columns, level, inplace, errors)\u001b[0m\n\u001b[0;32m   4786\u001b[0m \u001b[38;5;28;01mfor\u001b[39;00m axis, labels \u001b[38;5;129;01min\u001b[39;00m axes\u001b[38;5;241m.\u001b[39mitems():\n\u001b[0;32m   4787\u001b[0m     \u001b[38;5;28;01mif\u001b[39;00m labels \u001b[38;5;129;01mis\u001b[39;00m \u001b[38;5;129;01mnot\u001b[39;00m \u001b[38;5;28;01mNone\u001b[39;00m:\n\u001b[1;32m-> 4788\u001b[0m         obj \u001b[38;5;241m=\u001b[39m \u001b[43mobj\u001b[49m\u001b[38;5;241;43m.\u001b[39;49m\u001b[43m_drop_axis\u001b[49m\u001b[43m(\u001b[49m\u001b[43mlabels\u001b[49m\u001b[43m,\u001b[49m\u001b[43m \u001b[49m\u001b[43maxis\u001b[49m\u001b[43m,\u001b[49m\u001b[43m \u001b[49m\u001b[43mlevel\u001b[49m\u001b[38;5;241;43m=\u001b[39;49m\u001b[43mlevel\u001b[49m\u001b[43m,\u001b[49m\u001b[43m \u001b[49m\u001b[43merrors\u001b[49m\u001b[38;5;241;43m=\u001b[39;49m\u001b[43merrors\u001b[49m\u001b[43m)\u001b[49m\n\u001b[0;32m   4790\u001b[0m \u001b[38;5;28;01mif\u001b[39;00m inplace:\n\u001b[0;32m   4791\u001b[0m     \u001b[38;5;28mself\u001b[39m\u001b[38;5;241m.\u001b[39m_update_inplace(obj)\n",
      "File \u001b[1;32mc:\\Users\\USER\\AppData\\Local\\Programs\\Python\\Python311\\Lib\\site-packages\\pandas\\core\\generic.py:4830\u001b[0m, in \u001b[0;36mNDFrame._drop_axis\u001b[1;34m(self, labels, axis, level, errors, only_slice)\u001b[0m\n\u001b[0;32m   4828\u001b[0m         new_axis \u001b[38;5;241m=\u001b[39m axis\u001b[38;5;241m.\u001b[39mdrop(labels, level\u001b[38;5;241m=\u001b[39mlevel, errors\u001b[38;5;241m=\u001b[39merrors)\n\u001b[0;32m   4829\u001b[0m     \u001b[38;5;28;01melse\u001b[39;00m:\n\u001b[1;32m-> 4830\u001b[0m         new_axis \u001b[38;5;241m=\u001b[39m \u001b[43maxis\u001b[49m\u001b[38;5;241;43m.\u001b[39;49m\u001b[43mdrop\u001b[49m\u001b[43m(\u001b[49m\u001b[43mlabels\u001b[49m\u001b[43m,\u001b[49m\u001b[43m \u001b[49m\u001b[43merrors\u001b[49m\u001b[38;5;241;43m=\u001b[39;49m\u001b[43merrors\u001b[49m\u001b[43m)\u001b[49m\n\u001b[0;32m   4831\u001b[0m     indexer \u001b[38;5;241m=\u001b[39m axis\u001b[38;5;241m.\u001b[39mget_indexer(new_axis)\n\u001b[0;32m   4833\u001b[0m \u001b[38;5;66;03m# Case for non-unique axis\u001b[39;00m\n\u001b[0;32m   4834\u001b[0m \u001b[38;5;28;01melse\u001b[39;00m:\n",
      "File \u001b[1;32mc:\\Users\\USER\\AppData\\Local\\Programs\\Python\\Python311\\Lib\\site-packages\\pandas\\core\\indexes\\base.py:7070\u001b[0m, in \u001b[0;36mIndex.drop\u001b[1;34m(self, labels, errors)\u001b[0m\n\u001b[0;32m   7068\u001b[0m \u001b[38;5;28;01mif\u001b[39;00m mask\u001b[38;5;241m.\u001b[39many():\n\u001b[0;32m   7069\u001b[0m     \u001b[38;5;28;01mif\u001b[39;00m errors \u001b[38;5;241m!=\u001b[39m \u001b[38;5;124m\"\u001b[39m\u001b[38;5;124mignore\u001b[39m\u001b[38;5;124m\"\u001b[39m:\n\u001b[1;32m-> 7070\u001b[0m         \u001b[38;5;28;01mraise\u001b[39;00m \u001b[38;5;167;01mKeyError\u001b[39;00m(\u001b[38;5;124mf\u001b[39m\u001b[38;5;124m\"\u001b[39m\u001b[38;5;132;01m{\u001b[39;00mlabels[mask]\u001b[38;5;241m.\u001b[39mtolist()\u001b[38;5;132;01m}\u001b[39;00m\u001b[38;5;124m not found in axis\u001b[39m\u001b[38;5;124m\"\u001b[39m)\n\u001b[0;32m   7071\u001b[0m     indexer \u001b[38;5;241m=\u001b[39m indexer[\u001b[38;5;241m~\u001b[39mmask]\n\u001b[0;32m   7072\u001b[0m \u001b[38;5;28;01mreturn\u001b[39;00m \u001b[38;5;28mself\u001b[39m\u001b[38;5;241m.\u001b[39mdelete(indexer)\n",
      "\u001b[1;31mKeyError\u001b[0m: \"['exper'] not found in axis\""
     ]
    }
   ],
   "source": [
    "#removed the exper but because i accidently ran it again i got an error because its already removed\n",
    "jobs_df = jobs_df.drop(\"exper\",axis=1)\n"
   ]
  },
  {
   "cell_type": "code",
   "execution_count": 128,
   "id": "3cdfc6dd",
   "metadata": {},
   "outputs": [
    {
     "data": {
      "text/html": [
       "<div>\n",
       "<style scoped>\n",
       "    .dataframe tbody tr th:only-of-type {\n",
       "        vertical-align: middle;\n",
       "    }\n",
       "\n",
       "    .dataframe tbody tr th {\n",
       "        vertical-align: top;\n",
       "    }\n",
       "\n",
       "    .dataframe thead th {\n",
       "        text-align: right;\n",
       "    }\n",
       "</style>\n",
       "<table border=\"1\" class=\"dataframe\">\n",
       "  <thead>\n",
       "    <tr style=\"text-align: right;\">\n",
       "      <th></th>\n",
       "      <th>job_title</th>\n",
       "      <th>job_date</th>\n",
       "      <th>job_desc</th>\n",
       "      <th>job_tasks</th>\n",
       "      <th>comp_name</th>\n",
       "      <th>comp_no</th>\n",
       "      <th>comp_type</th>\n",
       "      <th>comp_size</th>\n",
       "      <th>eco_activity</th>\n",
       "      <th>qualif</th>\n",
       "      <th>region</th>\n",
       "      <th>city</th>\n",
       "      <th>benefits</th>\n",
       "      <th>contract</th>\n",
       "      <th>positions</th>\n",
       "      <th>job_post_id</th>\n",
       "      <th>gender</th>\n",
       "      <th>experience (Year)</th>\n",
       "    </tr>\n",
       "  </thead>\n",
       "  <tbody>\n",
       "    <tr>\n",
       "      <th>0</th>\n",
       "      <td>محاسب</td>\n",
       "      <td>27/05/1444</td>\n",
       "      <td>['إعداد وتنظيم مستندات الصرف ومتابعة تحصيل الإ...</td>\n",
       "      <td>['   تدقيق المطالبات المالية والتأكد من اكتمال...</td>\n",
       "      <td>شركة مقر العالم للسفريات</td>\n",
       "      <td>1-317262</td>\n",
       "      <td>خاص</td>\n",
       "      <td>متوسطة فئة أ</td>\n",
       "      <td>أنشطة وكالات السياحة والسفر</td>\n",
       "      <td>['Language data', 'اللغة الانجليزية', 'محترف']</td>\n",
       "      <td>الرياض</td>\n",
       "      <td>AR RIYADH...</td>\n",
       "      <td>['Salary', '5000.0']</td>\n",
       "      <td>دوام كامل</td>\n",
       "      <td>0 / 1</td>\n",
       "      <td>20202026350419</td>\n",
       "      <td>both</td>\n",
       "      <td>0</td>\n",
       "    </tr>\n",
       "    <tr>\n",
       "      <th>1</th>\n",
       "      <td>بائع</td>\n",
       "      <td>27/05/1444</td>\n",
       "      <td>['بيع مجموعة من السلع والخدمات للعملاء، وتوفير...</td>\n",
       "      <td>['   بيع مجموعة من السلع والخدمات للعملاء.', '...</td>\n",
       "      <td>شركة عالم الكهرباء للمقاولات</td>\n",
       "      <td>4-1324428</td>\n",
       "      <td>خاص</td>\n",
       "      <td>متوسطة فئة ب</td>\n",
       "      <td>تركيب انظمة التبريد وتكييف الهواء وصيانتها واص...</td>\n",
       "      <td>None</td>\n",
       "      <td>المنطقة الشرقية</td>\n",
       "      <td>AD DAMMAM...</td>\n",
       "      <td>['Salary', '5000.0']</td>\n",
       "      <td>دوام كامل</td>\n",
       "      <td>0 / 3</td>\n",
       "      <td>20202026350389</td>\n",
       "      <td>both</td>\n",
       "      <td>0</td>\n",
       "    </tr>\n",
       "    <tr>\n",
       "      <th>2</th>\n",
       "      <td>أخصائي عمليات موارد بشرية</td>\n",
       "      <td>27/05/1444</td>\n",
       "      <td>['تنفيذ الإجراءات والأنظمة والنماذج الخاصة بمر...</td>\n",
       "      <td>['   تنفيذ الإجراءات والأنظمة والنماذج الخاصة ...</td>\n",
       "      <td>شركه دار السلام</td>\n",
       "      <td>1-155294</td>\n",
       "      <td>خاص</td>\n",
       "      <td>متوسطة فئة أ</td>\n",
       "      <td>ترميمات المباني السكنية والغير سكنية</td>\n",
       "      <td>['Language data', 'الانجليزيه', 'محترف']</td>\n",
       "      <td>الرياض</td>\n",
       "      <td>ATH THUMA...</td>\n",
       "      <td>['Salary', '4000.0']</td>\n",
       "      <td>دوام كامل</td>\n",
       "      <td>0 / 2</td>\n",
       "      <td>20202026350347</td>\n",
       "      <td>both</td>\n",
       "      <td>2</td>\n",
       "    </tr>\n",
       "    <tr>\n",
       "      <th>3</th>\n",
       "      <td>ميكانيكي سيارات</td>\n",
       "      <td>27/05/1444</td>\n",
       "      <td>['تشخيص أعطال السيارات وإصلاحها وتنفيذ برامج ا...</td>\n",
       "      <td>['   فحص أداء المعدّات الكهربائية والميكانيكية...</td>\n",
       "      <td>مؤسسة لمكو لغيار الزيوت</td>\n",
       "      <td>8-1925495</td>\n",
       "      <td>خاص</td>\n",
       "      <td>صغيرة فئة ب</td>\n",
       "      <td>Unknown!</td>\n",
       "      <td>['Skill data', 'صيانة السيارات وتقييم الاعطال'...</td>\n",
       "      <td>المنطقة الشرقية</td>\n",
       "      <td>AL HUFUF...</td>\n",
       "      <td>['Salary', '5000.0']</td>\n",
       "      <td>دوام كامل</td>\n",
       "      <td>0 / 10</td>\n",
       "      <td>20202026350219</td>\n",
       "      <td>M</td>\n",
       "      <td>0</td>\n",
       "    </tr>\n",
       "    <tr>\n",
       "      <th>4</th>\n",
       "      <td>محاسب</td>\n",
       "      <td>27/05/1444</td>\n",
       "      <td>['إعداد وتنظيم مستندات الصرف ومتابعة تحصيل الإ...</td>\n",
       "      <td>['   تدقيق المطالبات المالية والتأكد من اكتمال...</td>\n",
       "      <td>مؤسسة فكرة اليمامة للمقاولات</td>\n",
       "      <td>1-2356639</td>\n",
       "      <td>خاص</td>\n",
       "      <td>كبيرة</td>\n",
       "      <td>الإنشاءات العامة للمباني السكنية</td>\n",
       "      <td>['Skill data', 'تحمل ضغط العمل', 'محترف', 'Lan...</td>\n",
       "      <td>الرياض</td>\n",
       "      <td>AR RIYADH...</td>\n",
       "      <td>['Salary', '5000.0']</td>\n",
       "      <td>دوام كامل</td>\n",
       "      <td>0 / 1</td>\n",
       "      <td>20202026350043</td>\n",
       "      <td>both</td>\n",
       "      <td>0</td>\n",
       "    </tr>\n",
       "    <tr>\n",
       "      <th>...</th>\n",
       "      <td>...</td>\n",
       "      <td>...</td>\n",
       "      <td>...</td>\n",
       "      <td>...</td>\n",
       "      <td>...</td>\n",
       "      <td>...</td>\n",
       "      <td>...</td>\n",
       "      <td>...</td>\n",
       "      <td>...</td>\n",
       "      <td>...</td>\n",
       "      <td>...</td>\n",
       "      <td>...</td>\n",
       "      <td>...</td>\n",
       "      <td>...</td>\n",
       "      <td>...</td>\n",
       "      <td>...</td>\n",
       "      <td>...</td>\n",
       "      <td>...</td>\n",
       "    </tr>\n",
       "    <tr>\n",
       "      <th>1464</th>\n",
       "      <td>بائع</td>\n",
       "      <td>21/06/1444</td>\n",
       "      <td>['بيع مجموعة من السلع والخدمات للعملاء، وتوفير...</td>\n",
       "      <td>['   بيع مجموعة من السلع والخدمات للعملاء.', '...</td>\n",
       "      <td>شركة النجمة الذهبية للتبريد والتكييف شركة شخص ...</td>\n",
       "      <td>8-1977608</td>\n",
       "      <td>خاص</td>\n",
       "      <td>صغيرة فئة ب</td>\n",
       "      <td>تركيب انظمة التبريد وتكييف الهواء وصيانتها واص...</td>\n",
       "      <td>None</td>\n",
       "      <td>المنطقة الشرقية</td>\n",
       "      <td>AL HUFUF...</td>\n",
       "      <td>['Salary', '4000.0']</td>\n",
       "      <td>دوام كامل</td>\n",
       "      <td>0 / 1</td>\n",
       "      <td>20202026401107</td>\n",
       "      <td>F</td>\n",
       "      <td>2</td>\n",
       "    </tr>\n",
       "    <tr>\n",
       "      <th>1465</th>\n",
       "      <td>مهندس تقنية معلومات</td>\n",
       "      <td>19/06/1444</td>\n",
       "      <td>['دراسة احتياجات العميل من الأجهزة الحاسوبية و...</td>\n",
       "      <td>['   متابعة وتقييم عملية جمع وتحليل المعطيات و...</td>\n",
       "      <td>مطعم الاوراق الخضر لتقديم الوجبات</td>\n",
       "      <td>15-1698448</td>\n",
       "      <td>خاص</td>\n",
       "      <td>صغيرة فئة ب</td>\n",
       "      <td>المطاعم مع الخدمة</td>\n",
       "      <td>None</td>\n",
       "      <td>الرياض</td>\n",
       "      <td>AR RIYADH...</td>\n",
       "      <td>['Salary', '5500.0']</td>\n",
       "      <td>دوام كامل</td>\n",
       "      <td>0 / 1</td>\n",
       "      <td>20202026400353</td>\n",
       "      <td>both</td>\n",
       "      <td>0</td>\n",
       "    </tr>\n",
       "    <tr>\n",
       "      <th>1466</th>\n",
       "      <td>سكرتير</td>\n",
       "      <td>19/06/1444</td>\n",
       "      <td>['دعم المدير أو الإدارة من خلال كتابة الوثائق ...</td>\n",
       "      <td>['   تدوين الملاحظات، التي يتم إملاؤها، بطريقة...</td>\n",
       "      <td>شركة ملتقى التجار لحاضنات و مسرعات الأعمال</td>\n",
       "      <td>9-2013930</td>\n",
       "      <td>خاص</td>\n",
       "      <td>صغيرة فئة ب</td>\n",
       "      <td>أنشطة حاضنات ومسرعات الأعمال</td>\n",
       "      <td>['Skill data', 'فن التواصل', 'محترف', 'Languag...</td>\n",
       "      <td>مكة المكرمة</td>\n",
       "      <td>JEDDAH...</td>\n",
       "      <td>['Salary', '4000.0']</td>\n",
       "      <td>دوام كامل</td>\n",
       "      <td>0 / 1</td>\n",
       "      <td>20202026399849</td>\n",
       "      <td>both</td>\n",
       "      <td>2</td>\n",
       "    </tr>\n",
       "    <tr>\n",
       "      <th>1467</th>\n",
       "      <td>صيدلي</td>\n",
       "      <td>18/06/1444</td>\n",
       "      <td>['دراسة التركيبات الدوائية للعقاقير والعلاجات ...</td>\n",
       "      <td>['   دراسة مواصفات وتركيبات الادوية والعقاقير ...</td>\n",
       "      <td>شركة تقنية الدواجن والألبان للتجارة</td>\n",
       "      <td>1-2415250</td>\n",
       "      <td>خاص</td>\n",
       "      <td>صغيرة فئة ب</td>\n",
       "      <td>Unknown!</td>\n",
       "      <td>['Professional certificate \\\\ License data', '...</td>\n",
       "      <td>الرياض</td>\n",
       "      <td>AR RIYADH...</td>\n",
       "      <td>['Salary', '7000.0']</td>\n",
       "      <td>دوام كامل</td>\n",
       "      <td>0 / 1</td>\n",
       "      <td>20202026399061</td>\n",
       "      <td>both</td>\n",
       "      <td>0</td>\n",
       "    </tr>\n",
       "    <tr>\n",
       "      <th>1468</th>\n",
       "      <td>مشغل آلة تشطيب رخام</td>\n",
       "      <td>18/06/1444</td>\n",
       "      <td>['تشغيل آلة تشطيب الرخام وابعادء الأجزاء المتف...</td>\n",
       "      <td>['   تسوية الرخام بواسطة أقراص الألماس الحديدي...</td>\n",
       "      <td>مصنع عبدالرحمن بن محمد بن عبدالعزيز العبدالقاد...</td>\n",
       "      <td>15-1971895</td>\n",
       "      <td>خاص</td>\n",
       "      <td>صغيرة فئة أ</td>\n",
       "      <td>Unknown!</td>\n",
       "      <td>['Skill data', 'متقن للعمل وشغوف ويرغب بالتطور...</td>\n",
       "      <td>المنطقة الشرقية</td>\n",
       "      <td>AL KHUBAR...</td>\n",
       "      <td>['Salary', '4000.0', 'Benefits', 'اجازة سنوية ...</td>\n",
       "      <td>دوام كامل</td>\n",
       "      <td>0 / 3</td>\n",
       "      <td>20202026398972</td>\n",
       "      <td>M</td>\n",
       "      <td>0</td>\n",
       "    </tr>\n",
       "  </tbody>\n",
       "</table>\n",
       "<p>1469 rows × 18 columns</p>\n",
       "</div>"
      ],
      "text/plain": [
       "                      job_title    job_date  \\\n",
       "0                         محاسب  27/05/1444   \n",
       "1                          بائع  27/05/1444   \n",
       "2     أخصائي عمليات موارد بشرية  27/05/1444   \n",
       "3               ميكانيكي سيارات  27/05/1444   \n",
       "4                         محاسب  27/05/1444   \n",
       "...                         ...         ...   \n",
       "1464                       بائع  21/06/1444   \n",
       "1465        مهندس تقنية معلومات  19/06/1444   \n",
       "1466                     سكرتير  19/06/1444   \n",
       "1467                      صيدلي  18/06/1444   \n",
       "1468        مشغل آلة تشطيب رخام  18/06/1444   \n",
       "\n",
       "                                               job_desc  \\\n",
       "0     ['إعداد وتنظيم مستندات الصرف ومتابعة تحصيل الإ...   \n",
       "1     ['بيع مجموعة من السلع والخدمات للعملاء، وتوفير...   \n",
       "2     ['تنفيذ الإجراءات والأنظمة والنماذج الخاصة بمر...   \n",
       "3     ['تشخيص أعطال السيارات وإصلاحها وتنفيذ برامج ا...   \n",
       "4     ['إعداد وتنظيم مستندات الصرف ومتابعة تحصيل الإ...   \n",
       "...                                                 ...   \n",
       "1464  ['بيع مجموعة من السلع والخدمات للعملاء، وتوفير...   \n",
       "1465  ['دراسة احتياجات العميل من الأجهزة الحاسوبية و...   \n",
       "1466  ['دعم المدير أو الإدارة من خلال كتابة الوثائق ...   \n",
       "1467  ['دراسة التركيبات الدوائية للعقاقير والعلاجات ...   \n",
       "1468  ['تشغيل آلة تشطيب الرخام وابعادء الأجزاء المتف...   \n",
       "\n",
       "                                              job_tasks  \\\n",
       "0     ['   تدقيق المطالبات المالية والتأكد من اكتمال...   \n",
       "1     ['   بيع مجموعة من السلع والخدمات للعملاء.', '...   \n",
       "2     ['   تنفيذ الإجراءات والأنظمة والنماذج الخاصة ...   \n",
       "3     ['   فحص أداء المعدّات الكهربائية والميكانيكية...   \n",
       "4     ['   تدقيق المطالبات المالية والتأكد من اكتمال...   \n",
       "...                                                 ...   \n",
       "1464  ['   بيع مجموعة من السلع والخدمات للعملاء.', '...   \n",
       "1465  ['   متابعة وتقييم عملية جمع وتحليل المعطيات و...   \n",
       "1466  ['   تدوين الملاحظات، التي يتم إملاؤها، بطريقة...   \n",
       "1467  ['   دراسة مواصفات وتركيبات الادوية والعقاقير ...   \n",
       "1468  ['   تسوية الرخام بواسطة أقراص الألماس الحديدي...   \n",
       "\n",
       "                                              comp_name     comp_no comp_type  \\\n",
       "0                              شركة مقر العالم للسفريات    1-317262       خاص   \n",
       "1                          شركة عالم الكهرباء للمقاولات   4-1324428       خاص   \n",
       "2                                       شركه دار السلام    1-155294       خاص   \n",
       "3                               مؤسسة لمكو لغيار الزيوت   8-1925495       خاص   \n",
       "4                          مؤسسة فكرة اليمامة للمقاولات   1-2356639       خاص   \n",
       "...                                                 ...         ...       ...   \n",
       "1464  شركة النجمة الذهبية للتبريد والتكييف شركة شخص ...   8-1977608       خاص   \n",
       "1465                  مطعم الاوراق الخضر لتقديم الوجبات  15-1698448       خاص   \n",
       "1466         شركة ملتقى التجار لحاضنات و مسرعات الأعمال   9-2013930       خاص   \n",
       "1467                شركة تقنية الدواجن والألبان للتجارة   1-2415250       خاص   \n",
       "1468  مصنع عبدالرحمن بن محمد بن عبدالعزيز العبدالقاد...  15-1971895       خاص   \n",
       "\n",
       "         comp_size                                       eco_activity  \\\n",
       "0     متوسطة فئة أ                        أنشطة وكالات السياحة والسفر   \n",
       "1     متوسطة فئة ب  تركيب انظمة التبريد وتكييف الهواء وصيانتها واص...   \n",
       "2     متوسطة فئة أ               ترميمات المباني السكنية والغير سكنية   \n",
       "3      صغيرة فئة ب                                           Unknown!   \n",
       "4            كبيرة                   الإنشاءات العامة للمباني السكنية   \n",
       "...            ...                                                ...   \n",
       "1464   صغيرة فئة ب  تركيب انظمة التبريد وتكييف الهواء وصيانتها واص...   \n",
       "1465   صغيرة فئة ب                                  المطاعم مع الخدمة   \n",
       "1466   صغيرة فئة ب                       أنشطة حاضنات ومسرعات الأعمال   \n",
       "1467   صغيرة فئة ب                                           Unknown!   \n",
       "1468   صغيرة فئة أ                                           Unknown!   \n",
       "\n",
       "                                                 qualif           region  \\\n",
       "0        ['Language data', 'اللغة الانجليزية', 'محترف']           الرياض   \n",
       "1                                                  None  المنطقة الشرقية   \n",
       "2              ['Language data', 'الانجليزيه', 'محترف']           الرياض   \n",
       "3     ['Skill data', 'صيانة السيارات وتقييم الاعطال'...  المنطقة الشرقية   \n",
       "4     ['Skill data', 'تحمل ضغط العمل', 'محترف', 'Lan...           الرياض   \n",
       "...                                                 ...              ...   \n",
       "1464                                               None  المنطقة الشرقية   \n",
       "1465                                               None           الرياض   \n",
       "1466  ['Skill data', 'فن التواصل', 'محترف', 'Languag...      مكة المكرمة   \n",
       "1467  ['Professional certificate \\\\ License data', '...           الرياض   \n",
       "1468  ['Skill data', 'متقن للعمل وشغوف ويرغب بالتطور...  المنطقة الشرقية   \n",
       "\n",
       "              city                                           benefits  \\\n",
       "0     AR RIYADH...                               ['Salary', '5000.0']   \n",
       "1     AD DAMMAM...                               ['Salary', '5000.0']   \n",
       "2     ATH THUMA...                               ['Salary', '4000.0']   \n",
       "3      AL HUFUF...                               ['Salary', '5000.0']   \n",
       "4     AR RIYADH...                               ['Salary', '5000.0']   \n",
       "...            ...                                                ...   \n",
       "1464   AL HUFUF...                               ['Salary', '4000.0']   \n",
       "1465  AR RIYADH...                               ['Salary', '5500.0']   \n",
       "1466     JEDDAH...                               ['Salary', '4000.0']   \n",
       "1467  AR RIYADH...                               ['Salary', '7000.0']   \n",
       "1468  AL KHUBAR...  ['Salary', '4000.0', 'Benefits', 'اجازة سنوية ...   \n",
       "\n",
       "       contract positions     job_post_id gender  experience (Year)  \n",
       "0     دوام كامل     0 / 1  20202026350419   both                  0  \n",
       "1     دوام كامل     0 / 3  20202026350389   both                  0  \n",
       "2     دوام كامل     0 / 2  20202026350347   both                  2  \n",
       "3     دوام كامل    0 / 10  20202026350219      M                  0  \n",
       "4     دوام كامل     0 / 1  20202026350043   both                  0  \n",
       "...         ...       ...             ...    ...                ...  \n",
       "1464  دوام كامل     0 / 1  20202026401107      F                  2  \n",
       "1465  دوام كامل     0 / 1  20202026400353   both                  0  \n",
       "1466  دوام كامل     0 / 1  20202026399849   both                  2  \n",
       "1467  دوام كامل     0 / 1  20202026399061   both                  0  \n",
       "1468  دوام كامل     0 / 3  20202026398972      M                  0  \n",
       "\n",
       "[1469 rows x 18 columns]"
      ]
     },
     "execution_count": 128,
     "metadata": {},
     "output_type": "execute_result"
    }
   ],
   "source": [
    "jobs_df"
   ]
  },
  {
   "cell_type": "code",
   "execution_count": 136,
   "id": "37490bc1",
   "metadata": {},
   "outputs": [],
   "source": [
    "jobs_df['total positions'] = jobs_df['positions'].map(lambda x:int(x.split()[2]))"
   ]
  },
  {
   "cell_type": "code",
   "execution_count": 137,
   "id": "44d76439",
   "metadata": {},
   "outputs": [
    {
     "data": {
      "text/html": [
       "<div>\n",
       "<style scoped>\n",
       "    .dataframe tbody tr th:only-of-type {\n",
       "        vertical-align: middle;\n",
       "    }\n",
       "\n",
       "    .dataframe tbody tr th {\n",
       "        vertical-align: top;\n",
       "    }\n",
       "\n",
       "    .dataframe thead th {\n",
       "        text-align: right;\n",
       "    }\n",
       "</style>\n",
       "<table border=\"1\" class=\"dataframe\">\n",
       "  <thead>\n",
       "    <tr style=\"text-align: right;\">\n",
       "      <th></th>\n",
       "      <th>job_title</th>\n",
       "      <th>job_date</th>\n",
       "      <th>job_desc</th>\n",
       "      <th>job_tasks</th>\n",
       "      <th>comp_name</th>\n",
       "      <th>comp_no</th>\n",
       "      <th>comp_type</th>\n",
       "      <th>comp_size</th>\n",
       "      <th>eco_activity</th>\n",
       "      <th>qualif</th>\n",
       "      <th>region</th>\n",
       "      <th>city</th>\n",
       "      <th>benefits</th>\n",
       "      <th>contract</th>\n",
       "      <th>positions</th>\n",
       "      <th>job_post_id</th>\n",
       "      <th>gender</th>\n",
       "      <th>experience (Year)</th>\n",
       "      <th>total positions</th>\n",
       "    </tr>\n",
       "  </thead>\n",
       "  <tbody>\n",
       "    <tr>\n",
       "      <th>0</th>\n",
       "      <td>محاسب</td>\n",
       "      <td>27/05/1444</td>\n",
       "      <td>['إعداد وتنظيم مستندات الصرف ومتابعة تحصيل الإ...</td>\n",
       "      <td>['   تدقيق المطالبات المالية والتأكد من اكتمال...</td>\n",
       "      <td>شركة مقر العالم للسفريات</td>\n",
       "      <td>1-317262</td>\n",
       "      <td>خاص</td>\n",
       "      <td>متوسطة فئة أ</td>\n",
       "      <td>أنشطة وكالات السياحة والسفر</td>\n",
       "      <td>['Language data', 'اللغة الانجليزية', 'محترف']</td>\n",
       "      <td>الرياض</td>\n",
       "      <td>AR RIYADH...</td>\n",
       "      <td>['Salary', '5000.0']</td>\n",
       "      <td>دوام كامل</td>\n",
       "      <td>0 / 1</td>\n",
       "      <td>20202026350419</td>\n",
       "      <td>both</td>\n",
       "      <td>0</td>\n",
       "      <td>1</td>\n",
       "    </tr>\n",
       "    <tr>\n",
       "      <th>1</th>\n",
       "      <td>بائع</td>\n",
       "      <td>27/05/1444</td>\n",
       "      <td>['بيع مجموعة من السلع والخدمات للعملاء، وتوفير...</td>\n",
       "      <td>['   بيع مجموعة من السلع والخدمات للعملاء.', '...</td>\n",
       "      <td>شركة عالم الكهرباء للمقاولات</td>\n",
       "      <td>4-1324428</td>\n",
       "      <td>خاص</td>\n",
       "      <td>متوسطة فئة ب</td>\n",
       "      <td>تركيب انظمة التبريد وتكييف الهواء وصيانتها واص...</td>\n",
       "      <td>None</td>\n",
       "      <td>المنطقة الشرقية</td>\n",
       "      <td>AD DAMMAM...</td>\n",
       "      <td>['Salary', '5000.0']</td>\n",
       "      <td>دوام كامل</td>\n",
       "      <td>0 / 3</td>\n",
       "      <td>20202026350389</td>\n",
       "      <td>both</td>\n",
       "      <td>0</td>\n",
       "      <td>3</td>\n",
       "    </tr>\n",
       "    <tr>\n",
       "      <th>2</th>\n",
       "      <td>أخصائي عمليات موارد بشرية</td>\n",
       "      <td>27/05/1444</td>\n",
       "      <td>['تنفيذ الإجراءات والأنظمة والنماذج الخاصة بمر...</td>\n",
       "      <td>['   تنفيذ الإجراءات والأنظمة والنماذج الخاصة ...</td>\n",
       "      <td>شركه دار السلام</td>\n",
       "      <td>1-155294</td>\n",
       "      <td>خاص</td>\n",
       "      <td>متوسطة فئة أ</td>\n",
       "      <td>ترميمات المباني السكنية والغير سكنية</td>\n",
       "      <td>['Language data', 'الانجليزيه', 'محترف']</td>\n",
       "      <td>الرياض</td>\n",
       "      <td>ATH THUMA...</td>\n",
       "      <td>['Salary', '4000.0']</td>\n",
       "      <td>دوام كامل</td>\n",
       "      <td>0 / 2</td>\n",
       "      <td>20202026350347</td>\n",
       "      <td>both</td>\n",
       "      <td>2</td>\n",
       "      <td>2</td>\n",
       "    </tr>\n",
       "    <tr>\n",
       "      <th>3</th>\n",
       "      <td>ميكانيكي سيارات</td>\n",
       "      <td>27/05/1444</td>\n",
       "      <td>['تشخيص أعطال السيارات وإصلاحها وتنفيذ برامج ا...</td>\n",
       "      <td>['   فحص أداء المعدّات الكهربائية والميكانيكية...</td>\n",
       "      <td>مؤسسة لمكو لغيار الزيوت</td>\n",
       "      <td>8-1925495</td>\n",
       "      <td>خاص</td>\n",
       "      <td>صغيرة فئة ب</td>\n",
       "      <td>Unknown!</td>\n",
       "      <td>['Skill data', 'صيانة السيارات وتقييم الاعطال'...</td>\n",
       "      <td>المنطقة الشرقية</td>\n",
       "      <td>AL HUFUF...</td>\n",
       "      <td>['Salary', '5000.0']</td>\n",
       "      <td>دوام كامل</td>\n",
       "      <td>0 / 10</td>\n",
       "      <td>20202026350219</td>\n",
       "      <td>M</td>\n",
       "      <td>0</td>\n",
       "      <td>10</td>\n",
       "    </tr>\n",
       "    <tr>\n",
       "      <th>4</th>\n",
       "      <td>محاسب</td>\n",
       "      <td>27/05/1444</td>\n",
       "      <td>['إعداد وتنظيم مستندات الصرف ومتابعة تحصيل الإ...</td>\n",
       "      <td>['   تدقيق المطالبات المالية والتأكد من اكتمال...</td>\n",
       "      <td>مؤسسة فكرة اليمامة للمقاولات</td>\n",
       "      <td>1-2356639</td>\n",
       "      <td>خاص</td>\n",
       "      <td>كبيرة</td>\n",
       "      <td>الإنشاءات العامة للمباني السكنية</td>\n",
       "      <td>['Skill data', 'تحمل ضغط العمل', 'محترف', 'Lan...</td>\n",
       "      <td>الرياض</td>\n",
       "      <td>AR RIYADH...</td>\n",
       "      <td>['Salary', '5000.0']</td>\n",
       "      <td>دوام كامل</td>\n",
       "      <td>0 / 1</td>\n",
       "      <td>20202026350043</td>\n",
       "      <td>both</td>\n",
       "      <td>0</td>\n",
       "      <td>1</td>\n",
       "    </tr>\n",
       "    <tr>\n",
       "      <th>...</th>\n",
       "      <td>...</td>\n",
       "      <td>...</td>\n",
       "      <td>...</td>\n",
       "      <td>...</td>\n",
       "      <td>...</td>\n",
       "      <td>...</td>\n",
       "      <td>...</td>\n",
       "      <td>...</td>\n",
       "      <td>...</td>\n",
       "      <td>...</td>\n",
       "      <td>...</td>\n",
       "      <td>...</td>\n",
       "      <td>...</td>\n",
       "      <td>...</td>\n",
       "      <td>...</td>\n",
       "      <td>...</td>\n",
       "      <td>...</td>\n",
       "      <td>...</td>\n",
       "      <td>...</td>\n",
       "    </tr>\n",
       "    <tr>\n",
       "      <th>1464</th>\n",
       "      <td>بائع</td>\n",
       "      <td>21/06/1444</td>\n",
       "      <td>['بيع مجموعة من السلع والخدمات للعملاء، وتوفير...</td>\n",
       "      <td>['   بيع مجموعة من السلع والخدمات للعملاء.', '...</td>\n",
       "      <td>شركة النجمة الذهبية للتبريد والتكييف شركة شخص ...</td>\n",
       "      <td>8-1977608</td>\n",
       "      <td>خاص</td>\n",
       "      <td>صغيرة فئة ب</td>\n",
       "      <td>تركيب انظمة التبريد وتكييف الهواء وصيانتها واص...</td>\n",
       "      <td>None</td>\n",
       "      <td>المنطقة الشرقية</td>\n",
       "      <td>AL HUFUF...</td>\n",
       "      <td>['Salary', '4000.0']</td>\n",
       "      <td>دوام كامل</td>\n",
       "      <td>0 / 1</td>\n",
       "      <td>20202026401107</td>\n",
       "      <td>F</td>\n",
       "      <td>2</td>\n",
       "      <td>1</td>\n",
       "    </tr>\n",
       "    <tr>\n",
       "      <th>1465</th>\n",
       "      <td>مهندس تقنية معلومات</td>\n",
       "      <td>19/06/1444</td>\n",
       "      <td>['دراسة احتياجات العميل من الأجهزة الحاسوبية و...</td>\n",
       "      <td>['   متابعة وتقييم عملية جمع وتحليل المعطيات و...</td>\n",
       "      <td>مطعم الاوراق الخضر لتقديم الوجبات</td>\n",
       "      <td>15-1698448</td>\n",
       "      <td>خاص</td>\n",
       "      <td>صغيرة فئة ب</td>\n",
       "      <td>المطاعم مع الخدمة</td>\n",
       "      <td>None</td>\n",
       "      <td>الرياض</td>\n",
       "      <td>AR RIYADH...</td>\n",
       "      <td>['Salary', '5500.0']</td>\n",
       "      <td>دوام كامل</td>\n",
       "      <td>0 / 1</td>\n",
       "      <td>20202026400353</td>\n",
       "      <td>both</td>\n",
       "      <td>0</td>\n",
       "      <td>1</td>\n",
       "    </tr>\n",
       "    <tr>\n",
       "      <th>1466</th>\n",
       "      <td>سكرتير</td>\n",
       "      <td>19/06/1444</td>\n",
       "      <td>['دعم المدير أو الإدارة من خلال كتابة الوثائق ...</td>\n",
       "      <td>['   تدوين الملاحظات، التي يتم إملاؤها، بطريقة...</td>\n",
       "      <td>شركة ملتقى التجار لحاضنات و مسرعات الأعمال</td>\n",
       "      <td>9-2013930</td>\n",
       "      <td>خاص</td>\n",
       "      <td>صغيرة فئة ب</td>\n",
       "      <td>أنشطة حاضنات ومسرعات الأعمال</td>\n",
       "      <td>['Skill data', 'فن التواصل', 'محترف', 'Languag...</td>\n",
       "      <td>مكة المكرمة</td>\n",
       "      <td>JEDDAH...</td>\n",
       "      <td>['Salary', '4000.0']</td>\n",
       "      <td>دوام كامل</td>\n",
       "      <td>0 / 1</td>\n",
       "      <td>20202026399849</td>\n",
       "      <td>both</td>\n",
       "      <td>2</td>\n",
       "      <td>1</td>\n",
       "    </tr>\n",
       "    <tr>\n",
       "      <th>1467</th>\n",
       "      <td>صيدلي</td>\n",
       "      <td>18/06/1444</td>\n",
       "      <td>['دراسة التركيبات الدوائية للعقاقير والعلاجات ...</td>\n",
       "      <td>['   دراسة مواصفات وتركيبات الادوية والعقاقير ...</td>\n",
       "      <td>شركة تقنية الدواجن والألبان للتجارة</td>\n",
       "      <td>1-2415250</td>\n",
       "      <td>خاص</td>\n",
       "      <td>صغيرة فئة ب</td>\n",
       "      <td>Unknown!</td>\n",
       "      <td>['Professional certificate \\\\ License data', '...</td>\n",
       "      <td>الرياض</td>\n",
       "      <td>AR RIYADH...</td>\n",
       "      <td>['Salary', '7000.0']</td>\n",
       "      <td>دوام كامل</td>\n",
       "      <td>0 / 1</td>\n",
       "      <td>20202026399061</td>\n",
       "      <td>both</td>\n",
       "      <td>0</td>\n",
       "      <td>1</td>\n",
       "    </tr>\n",
       "    <tr>\n",
       "      <th>1468</th>\n",
       "      <td>مشغل آلة تشطيب رخام</td>\n",
       "      <td>18/06/1444</td>\n",
       "      <td>['تشغيل آلة تشطيب الرخام وابعادء الأجزاء المتف...</td>\n",
       "      <td>['   تسوية الرخام بواسطة أقراص الألماس الحديدي...</td>\n",
       "      <td>مصنع عبدالرحمن بن محمد بن عبدالعزيز العبدالقاد...</td>\n",
       "      <td>15-1971895</td>\n",
       "      <td>خاص</td>\n",
       "      <td>صغيرة فئة أ</td>\n",
       "      <td>Unknown!</td>\n",
       "      <td>['Skill data', 'متقن للعمل وشغوف ويرغب بالتطور...</td>\n",
       "      <td>المنطقة الشرقية</td>\n",
       "      <td>AL KHUBAR...</td>\n",
       "      <td>['Salary', '4000.0', 'Benefits', 'اجازة سنوية ...</td>\n",
       "      <td>دوام كامل</td>\n",
       "      <td>0 / 3</td>\n",
       "      <td>20202026398972</td>\n",
       "      <td>M</td>\n",
       "      <td>0</td>\n",
       "      <td>3</td>\n",
       "    </tr>\n",
       "  </tbody>\n",
       "</table>\n",
       "<p>1469 rows × 19 columns</p>\n",
       "</div>"
      ],
      "text/plain": [
       "                      job_title    job_date  \\\n",
       "0                         محاسب  27/05/1444   \n",
       "1                          بائع  27/05/1444   \n",
       "2     أخصائي عمليات موارد بشرية  27/05/1444   \n",
       "3               ميكانيكي سيارات  27/05/1444   \n",
       "4                         محاسب  27/05/1444   \n",
       "...                         ...         ...   \n",
       "1464                       بائع  21/06/1444   \n",
       "1465        مهندس تقنية معلومات  19/06/1444   \n",
       "1466                     سكرتير  19/06/1444   \n",
       "1467                      صيدلي  18/06/1444   \n",
       "1468        مشغل آلة تشطيب رخام  18/06/1444   \n",
       "\n",
       "                                               job_desc  \\\n",
       "0     ['إعداد وتنظيم مستندات الصرف ومتابعة تحصيل الإ...   \n",
       "1     ['بيع مجموعة من السلع والخدمات للعملاء، وتوفير...   \n",
       "2     ['تنفيذ الإجراءات والأنظمة والنماذج الخاصة بمر...   \n",
       "3     ['تشخيص أعطال السيارات وإصلاحها وتنفيذ برامج ا...   \n",
       "4     ['إعداد وتنظيم مستندات الصرف ومتابعة تحصيل الإ...   \n",
       "...                                                 ...   \n",
       "1464  ['بيع مجموعة من السلع والخدمات للعملاء، وتوفير...   \n",
       "1465  ['دراسة احتياجات العميل من الأجهزة الحاسوبية و...   \n",
       "1466  ['دعم المدير أو الإدارة من خلال كتابة الوثائق ...   \n",
       "1467  ['دراسة التركيبات الدوائية للعقاقير والعلاجات ...   \n",
       "1468  ['تشغيل آلة تشطيب الرخام وابعادء الأجزاء المتف...   \n",
       "\n",
       "                                              job_tasks  \\\n",
       "0     ['   تدقيق المطالبات المالية والتأكد من اكتمال...   \n",
       "1     ['   بيع مجموعة من السلع والخدمات للعملاء.', '...   \n",
       "2     ['   تنفيذ الإجراءات والأنظمة والنماذج الخاصة ...   \n",
       "3     ['   فحص أداء المعدّات الكهربائية والميكانيكية...   \n",
       "4     ['   تدقيق المطالبات المالية والتأكد من اكتمال...   \n",
       "...                                                 ...   \n",
       "1464  ['   بيع مجموعة من السلع والخدمات للعملاء.', '...   \n",
       "1465  ['   متابعة وتقييم عملية جمع وتحليل المعطيات و...   \n",
       "1466  ['   تدوين الملاحظات، التي يتم إملاؤها، بطريقة...   \n",
       "1467  ['   دراسة مواصفات وتركيبات الادوية والعقاقير ...   \n",
       "1468  ['   تسوية الرخام بواسطة أقراص الألماس الحديدي...   \n",
       "\n",
       "                                              comp_name     comp_no comp_type  \\\n",
       "0                              شركة مقر العالم للسفريات    1-317262       خاص   \n",
       "1                          شركة عالم الكهرباء للمقاولات   4-1324428       خاص   \n",
       "2                                       شركه دار السلام    1-155294       خاص   \n",
       "3                               مؤسسة لمكو لغيار الزيوت   8-1925495       خاص   \n",
       "4                          مؤسسة فكرة اليمامة للمقاولات   1-2356639       خاص   \n",
       "...                                                 ...         ...       ...   \n",
       "1464  شركة النجمة الذهبية للتبريد والتكييف شركة شخص ...   8-1977608       خاص   \n",
       "1465                  مطعم الاوراق الخضر لتقديم الوجبات  15-1698448       خاص   \n",
       "1466         شركة ملتقى التجار لحاضنات و مسرعات الأعمال   9-2013930       خاص   \n",
       "1467                شركة تقنية الدواجن والألبان للتجارة   1-2415250       خاص   \n",
       "1468  مصنع عبدالرحمن بن محمد بن عبدالعزيز العبدالقاد...  15-1971895       خاص   \n",
       "\n",
       "         comp_size                                       eco_activity  \\\n",
       "0     متوسطة فئة أ                        أنشطة وكالات السياحة والسفر   \n",
       "1     متوسطة فئة ب  تركيب انظمة التبريد وتكييف الهواء وصيانتها واص...   \n",
       "2     متوسطة فئة أ               ترميمات المباني السكنية والغير سكنية   \n",
       "3      صغيرة فئة ب                                           Unknown!   \n",
       "4            كبيرة                   الإنشاءات العامة للمباني السكنية   \n",
       "...            ...                                                ...   \n",
       "1464   صغيرة فئة ب  تركيب انظمة التبريد وتكييف الهواء وصيانتها واص...   \n",
       "1465   صغيرة فئة ب                                  المطاعم مع الخدمة   \n",
       "1466   صغيرة فئة ب                       أنشطة حاضنات ومسرعات الأعمال   \n",
       "1467   صغيرة فئة ب                                           Unknown!   \n",
       "1468   صغيرة فئة أ                                           Unknown!   \n",
       "\n",
       "                                                 qualif           region  \\\n",
       "0        ['Language data', 'اللغة الانجليزية', 'محترف']           الرياض   \n",
       "1                                                  None  المنطقة الشرقية   \n",
       "2              ['Language data', 'الانجليزيه', 'محترف']           الرياض   \n",
       "3     ['Skill data', 'صيانة السيارات وتقييم الاعطال'...  المنطقة الشرقية   \n",
       "4     ['Skill data', 'تحمل ضغط العمل', 'محترف', 'Lan...           الرياض   \n",
       "...                                                 ...              ...   \n",
       "1464                                               None  المنطقة الشرقية   \n",
       "1465                                               None           الرياض   \n",
       "1466  ['Skill data', 'فن التواصل', 'محترف', 'Languag...      مكة المكرمة   \n",
       "1467  ['Professional certificate \\\\ License data', '...           الرياض   \n",
       "1468  ['Skill data', 'متقن للعمل وشغوف ويرغب بالتطور...  المنطقة الشرقية   \n",
       "\n",
       "              city                                           benefits  \\\n",
       "0     AR RIYADH...                               ['Salary', '5000.0']   \n",
       "1     AD DAMMAM...                               ['Salary', '5000.0']   \n",
       "2     ATH THUMA...                               ['Salary', '4000.0']   \n",
       "3      AL HUFUF...                               ['Salary', '5000.0']   \n",
       "4     AR RIYADH...                               ['Salary', '5000.0']   \n",
       "...            ...                                                ...   \n",
       "1464   AL HUFUF...                               ['Salary', '4000.0']   \n",
       "1465  AR RIYADH...                               ['Salary', '5500.0']   \n",
       "1466     JEDDAH...                               ['Salary', '4000.0']   \n",
       "1467  AR RIYADH...                               ['Salary', '7000.0']   \n",
       "1468  AL KHUBAR...  ['Salary', '4000.0', 'Benefits', 'اجازة سنوية ...   \n",
       "\n",
       "       contract positions     job_post_id gender  experience (Year)  \\\n",
       "0     دوام كامل     0 / 1  20202026350419   both                  0   \n",
       "1     دوام كامل     0 / 3  20202026350389   both                  0   \n",
       "2     دوام كامل     0 / 2  20202026350347   both                  2   \n",
       "3     دوام كامل    0 / 10  20202026350219      M                  0   \n",
       "4     دوام كامل     0 / 1  20202026350043   both                  0   \n",
       "...         ...       ...             ...    ...                ...   \n",
       "1464  دوام كامل     0 / 1  20202026401107      F                  2   \n",
       "1465  دوام كامل     0 / 1  20202026400353   both                  0   \n",
       "1466  دوام كامل     0 / 1  20202026399849   both                  2   \n",
       "1467  دوام كامل     0 / 1  20202026399061   both                  0   \n",
       "1468  دوام كامل     0 / 3  20202026398972      M                  0   \n",
       "\n",
       "      total positions  \n",
       "0                   1  \n",
       "1                   3  \n",
       "2                   2  \n",
       "3                  10  \n",
       "4                   1  \n",
       "...               ...  \n",
       "1464                1  \n",
       "1465                1  \n",
       "1466                1  \n",
       "1467                1  \n",
       "1468                3  \n",
       "\n",
       "[1469 rows x 19 columns]"
      ]
     },
     "execution_count": 137,
     "metadata": {},
     "output_type": "execute_result"
    }
   ],
   "source": [
    "jobs_df"
   ]
  },
  {
   "cell_type": "code",
   "execution_count": 139,
   "id": "1d1bcc12",
   "metadata": {},
   "outputs": [],
   "source": [
    "jobs_df['positions'] = jobs_df['positions'].map(lambda x:int(x.split()[0]))"
   ]
  },
  {
   "cell_type": "code",
   "execution_count": 140,
   "id": "aaff8692",
   "metadata": {},
   "outputs": [
    {
     "data": {
      "text/html": [
       "<div>\n",
       "<style scoped>\n",
       "    .dataframe tbody tr th:only-of-type {\n",
       "        vertical-align: middle;\n",
       "    }\n",
       "\n",
       "    .dataframe tbody tr th {\n",
       "        vertical-align: top;\n",
       "    }\n",
       "\n",
       "    .dataframe thead th {\n",
       "        text-align: right;\n",
       "    }\n",
       "</style>\n",
       "<table border=\"1\" class=\"dataframe\">\n",
       "  <thead>\n",
       "    <tr style=\"text-align: right;\">\n",
       "      <th></th>\n",
       "      <th>job_title</th>\n",
       "      <th>job_date</th>\n",
       "      <th>job_desc</th>\n",
       "      <th>job_tasks</th>\n",
       "      <th>comp_name</th>\n",
       "      <th>comp_no</th>\n",
       "      <th>comp_type</th>\n",
       "      <th>comp_size</th>\n",
       "      <th>eco_activity</th>\n",
       "      <th>qualif</th>\n",
       "      <th>region</th>\n",
       "      <th>city</th>\n",
       "      <th>benefits</th>\n",
       "      <th>contract</th>\n",
       "      <th>positions</th>\n",
       "      <th>job_post_id</th>\n",
       "      <th>gender</th>\n",
       "      <th>experience (Year)</th>\n",
       "      <th>total positions</th>\n",
       "    </tr>\n",
       "  </thead>\n",
       "  <tbody>\n",
       "    <tr>\n",
       "      <th>0</th>\n",
       "      <td>محاسب</td>\n",
       "      <td>27/05/1444</td>\n",
       "      <td>['إعداد وتنظيم مستندات الصرف ومتابعة تحصيل الإ...</td>\n",
       "      <td>['   تدقيق المطالبات المالية والتأكد من اكتمال...</td>\n",
       "      <td>شركة مقر العالم للسفريات</td>\n",
       "      <td>1-317262</td>\n",
       "      <td>خاص</td>\n",
       "      <td>متوسطة فئة أ</td>\n",
       "      <td>أنشطة وكالات السياحة والسفر</td>\n",
       "      <td>['Language data', 'اللغة الانجليزية', 'محترف']</td>\n",
       "      <td>الرياض</td>\n",
       "      <td>AR RIYADH...</td>\n",
       "      <td>['Salary', '5000.0']</td>\n",
       "      <td>دوام كامل</td>\n",
       "      <td>0</td>\n",
       "      <td>20202026350419</td>\n",
       "      <td>both</td>\n",
       "      <td>0</td>\n",
       "      <td>1</td>\n",
       "    </tr>\n",
       "    <tr>\n",
       "      <th>1</th>\n",
       "      <td>بائع</td>\n",
       "      <td>27/05/1444</td>\n",
       "      <td>['بيع مجموعة من السلع والخدمات للعملاء، وتوفير...</td>\n",
       "      <td>['   بيع مجموعة من السلع والخدمات للعملاء.', '...</td>\n",
       "      <td>شركة عالم الكهرباء للمقاولات</td>\n",
       "      <td>4-1324428</td>\n",
       "      <td>خاص</td>\n",
       "      <td>متوسطة فئة ب</td>\n",
       "      <td>تركيب انظمة التبريد وتكييف الهواء وصيانتها واص...</td>\n",
       "      <td>None</td>\n",
       "      <td>المنطقة الشرقية</td>\n",
       "      <td>AD DAMMAM...</td>\n",
       "      <td>['Salary', '5000.0']</td>\n",
       "      <td>دوام كامل</td>\n",
       "      <td>0</td>\n",
       "      <td>20202026350389</td>\n",
       "      <td>both</td>\n",
       "      <td>0</td>\n",
       "      <td>3</td>\n",
       "    </tr>\n",
       "    <tr>\n",
       "      <th>2</th>\n",
       "      <td>أخصائي عمليات موارد بشرية</td>\n",
       "      <td>27/05/1444</td>\n",
       "      <td>['تنفيذ الإجراءات والأنظمة والنماذج الخاصة بمر...</td>\n",
       "      <td>['   تنفيذ الإجراءات والأنظمة والنماذج الخاصة ...</td>\n",
       "      <td>شركه دار السلام</td>\n",
       "      <td>1-155294</td>\n",
       "      <td>خاص</td>\n",
       "      <td>متوسطة فئة أ</td>\n",
       "      <td>ترميمات المباني السكنية والغير سكنية</td>\n",
       "      <td>['Language data', 'الانجليزيه', 'محترف']</td>\n",
       "      <td>الرياض</td>\n",
       "      <td>ATH THUMA...</td>\n",
       "      <td>['Salary', '4000.0']</td>\n",
       "      <td>دوام كامل</td>\n",
       "      <td>0</td>\n",
       "      <td>20202026350347</td>\n",
       "      <td>both</td>\n",
       "      <td>2</td>\n",
       "      <td>2</td>\n",
       "    </tr>\n",
       "    <tr>\n",
       "      <th>3</th>\n",
       "      <td>ميكانيكي سيارات</td>\n",
       "      <td>27/05/1444</td>\n",
       "      <td>['تشخيص أعطال السيارات وإصلاحها وتنفيذ برامج ا...</td>\n",
       "      <td>['   فحص أداء المعدّات الكهربائية والميكانيكية...</td>\n",
       "      <td>مؤسسة لمكو لغيار الزيوت</td>\n",
       "      <td>8-1925495</td>\n",
       "      <td>خاص</td>\n",
       "      <td>صغيرة فئة ب</td>\n",
       "      <td>Unknown!</td>\n",
       "      <td>['Skill data', 'صيانة السيارات وتقييم الاعطال'...</td>\n",
       "      <td>المنطقة الشرقية</td>\n",
       "      <td>AL HUFUF...</td>\n",
       "      <td>['Salary', '5000.0']</td>\n",
       "      <td>دوام كامل</td>\n",
       "      <td>0</td>\n",
       "      <td>20202026350219</td>\n",
       "      <td>M</td>\n",
       "      <td>0</td>\n",
       "      <td>10</td>\n",
       "    </tr>\n",
       "    <tr>\n",
       "      <th>4</th>\n",
       "      <td>محاسب</td>\n",
       "      <td>27/05/1444</td>\n",
       "      <td>['إعداد وتنظيم مستندات الصرف ومتابعة تحصيل الإ...</td>\n",
       "      <td>['   تدقيق المطالبات المالية والتأكد من اكتمال...</td>\n",
       "      <td>مؤسسة فكرة اليمامة للمقاولات</td>\n",
       "      <td>1-2356639</td>\n",
       "      <td>خاص</td>\n",
       "      <td>كبيرة</td>\n",
       "      <td>الإنشاءات العامة للمباني السكنية</td>\n",
       "      <td>['Skill data', 'تحمل ضغط العمل', 'محترف', 'Lan...</td>\n",
       "      <td>الرياض</td>\n",
       "      <td>AR RIYADH...</td>\n",
       "      <td>['Salary', '5000.0']</td>\n",
       "      <td>دوام كامل</td>\n",
       "      <td>0</td>\n",
       "      <td>20202026350043</td>\n",
       "      <td>both</td>\n",
       "      <td>0</td>\n",
       "      <td>1</td>\n",
       "    </tr>\n",
       "  </tbody>\n",
       "</table>\n",
       "</div>"
      ],
      "text/plain": [
       "                   job_title    job_date  \\\n",
       "0                      محاسب  27/05/1444   \n",
       "1                       بائع  27/05/1444   \n",
       "2  أخصائي عمليات موارد بشرية  27/05/1444   \n",
       "3            ميكانيكي سيارات  27/05/1444   \n",
       "4                      محاسب  27/05/1444   \n",
       "\n",
       "                                            job_desc  \\\n",
       "0  ['إعداد وتنظيم مستندات الصرف ومتابعة تحصيل الإ...   \n",
       "1  ['بيع مجموعة من السلع والخدمات للعملاء، وتوفير...   \n",
       "2  ['تنفيذ الإجراءات والأنظمة والنماذج الخاصة بمر...   \n",
       "3  ['تشخيص أعطال السيارات وإصلاحها وتنفيذ برامج ا...   \n",
       "4  ['إعداد وتنظيم مستندات الصرف ومتابعة تحصيل الإ...   \n",
       "\n",
       "                                           job_tasks  \\\n",
       "0  ['   تدقيق المطالبات المالية والتأكد من اكتمال...   \n",
       "1  ['   بيع مجموعة من السلع والخدمات للعملاء.', '...   \n",
       "2  ['   تنفيذ الإجراءات والأنظمة والنماذج الخاصة ...   \n",
       "3  ['   فحص أداء المعدّات الكهربائية والميكانيكية...   \n",
       "4  ['   تدقيق المطالبات المالية والتأكد من اكتمال...   \n",
       "\n",
       "                      comp_name    comp_no comp_type     comp_size  \\\n",
       "0      شركة مقر العالم للسفريات   1-317262       خاص  متوسطة فئة أ   \n",
       "1  شركة عالم الكهرباء للمقاولات  4-1324428       خاص  متوسطة فئة ب   \n",
       "2               شركه دار السلام   1-155294       خاص  متوسطة فئة أ   \n",
       "3       مؤسسة لمكو لغيار الزيوت  8-1925495       خاص   صغيرة فئة ب   \n",
       "4  مؤسسة فكرة اليمامة للمقاولات  1-2356639       خاص         كبيرة   \n",
       "\n",
       "                                        eco_activity  \\\n",
       "0                        أنشطة وكالات السياحة والسفر   \n",
       "1  تركيب انظمة التبريد وتكييف الهواء وصيانتها واص...   \n",
       "2               ترميمات المباني السكنية والغير سكنية   \n",
       "3                                           Unknown!   \n",
       "4                   الإنشاءات العامة للمباني السكنية   \n",
       "\n",
       "                                              qualif           region  \\\n",
       "0     ['Language data', 'اللغة الانجليزية', 'محترف']           الرياض   \n",
       "1                                               None  المنطقة الشرقية   \n",
       "2           ['Language data', 'الانجليزيه', 'محترف']           الرياض   \n",
       "3  ['Skill data', 'صيانة السيارات وتقييم الاعطال'...  المنطقة الشرقية   \n",
       "4  ['Skill data', 'تحمل ضغط العمل', 'محترف', 'Lan...           الرياض   \n",
       "\n",
       "           city              benefits   contract  positions     job_post_id  \\\n",
       "0  AR RIYADH...  ['Salary', '5000.0']  دوام كامل          0  20202026350419   \n",
       "1  AD DAMMAM...  ['Salary', '5000.0']  دوام كامل          0  20202026350389   \n",
       "2  ATH THUMA...  ['Salary', '4000.0']  دوام كامل          0  20202026350347   \n",
       "3   AL HUFUF...  ['Salary', '5000.0']  دوام كامل          0  20202026350219   \n",
       "4  AR RIYADH...  ['Salary', '5000.0']  دوام كامل          0  20202026350043   \n",
       "\n",
       "  gender  experience (Year)  total positions  \n",
       "0   both                  0                1  \n",
       "1   both                  0                3  \n",
       "2   both                  2                2  \n",
       "3      M                  0               10  \n",
       "4   both                  0                1  "
      ]
     },
     "execution_count": 140,
     "metadata": {},
     "output_type": "execute_result"
    }
   ],
   "source": [
    "jobs_df.head()"
   ]
  },
  {
   "cell_type": "code",
   "execution_count": 141,
   "id": "f5d3c5a7",
   "metadata": {},
   "outputs": [
    {
     "data": {
      "text/plain": [
       "job_title            object\n",
       "job_date             object\n",
       "job_desc             object\n",
       "job_tasks            object\n",
       "comp_name            object\n",
       "comp_no              object\n",
       "comp_type            object\n",
       "comp_size            object\n",
       "eco_activity         object\n",
       "qualif               object\n",
       "region               object\n",
       "city                 object\n",
       "benefits             object\n",
       "contract             object\n",
       "positions             int64\n",
       "job_post_id           int64\n",
       "gender               object\n",
       "experience (Year)     int64\n",
       "total positions       int64\n",
       "dtype: object"
      ]
     },
     "execution_count": 141,
     "metadata": {},
     "output_type": "execute_result"
    }
   ],
   "source": [
    "jobs_df.dtypes"
   ]
  },
  {
   "cell_type": "code",
   "execution_count": 227,
   "id": "049ddd89",
   "metadata": {},
   "outputs": [],
   "source": [
    "jobs_df[\"salary\"] = jobs_df['benefits'].map(lambda x:float(x.split(\"'\")[3]))"
   ]
  },
  {
   "cell_type": "code",
   "execution_count": null,
   "id": "870c2ee9",
   "metadata": {},
   "outputs": [],
   "source": []
  },
  {
   "cell_type": "code",
   "execution_count": null,
   "id": "084f4414",
   "metadata": {},
   "outputs": [],
   "source": []
  },
  {
   "cell_type": "code",
   "execution_count": 228,
   "id": "c69b303a-5459-45f9-a28e-fcee45c21c05",
   "metadata": {},
   "outputs": [
    {
     "data": {
      "text/html": [
       "\n",
       "        <iframe\n",
       "            width=\"100%\"\n",
       "            height=\"475\"\n",
       "            src=\"http://DESKTOP-G5FSSUJ:40000/dtale/iframe/14\"\n",
       "            frameborder=\"0\"\n",
       "            allowfullscreen\n",
       "            \n",
       "        ></iframe>\n",
       "        "
      ],
      "text/plain": [
       "<IPython.lib.display.IFrame at 0x12b323679d0>"
      ]
     },
     "metadata": {},
     "output_type": "display_data"
    },
    {
     "data": {
      "text/plain": []
     },
     "execution_count": 228,
     "metadata": {},
     "output_type": "execute_result"
    }
   ],
   "source": [
    "# check outliers \n",
    "#used box plot in dtale but didnt find any outliers\n",
    "dt.show(jobs_df)"
   ]
  },
  {
   "cell_type": "markdown",
   "id": "4aca9d42-add6-45db-92cf-1f6dae5f277b",
   "metadata": {},
   "source": [
    "**What is an Outlier?** \n",
    "Outlier is an row/observation that appears far away and diverges from an overall pattern in a sample.\n",
    "\n",
    "**What are the types of Outliers?**\n",
    "1. Univariate: These outliers can be found when we look at distribution of a single variable\n",
    "2. Multivariate: are outliers in an n-dimensional space. In order to find them, you have to look at distributions in multi-dimensions. example (hight=100, weight=100) for a person\n",
    "\n",
    "**What causes Outliers?**\n",
    "Whenever we come across outliers, the ideal way to tackle them is to find out the reason of having these outliers. The method to deal with them would then depend on the reason of their occurrence.\n",
    "\n",
    "Let’s understand various types of outliers:\n",
    "\n",
    "1. Data Entry Errors:- Human errors such as errors caused during data collection, recording, or entry can cause outliers in data.\n",
    "2. Measurement Error: It is the most common source of outliers. This is caused when the measurement instrument used turns out to be faulty.\n",
    "3. Data Processing Error: Whenever we perform data mining, we extract data from multiple sources. It is possible that some manipulation or extraction errors may lead to outliers in the dataset.\n",
    "4. Sampling error: For instance, we have to measure the height of athletes. By mistake, we include a few basketball players in the sample. This inclusion is likely to cause outliers in the dataset.\n",
    "5. Natural Outlier: When an outlier is not artificial (due to error), it is a natural outlier. For instance: In my last assignment with one of the renowned insurance company, I noticed that the performance of top 50 financial advisors was far higher than rest of the population. Surprisingly, it was not due to any error. Hence, whenever we perform any data mining activity with advisors, we used to treat this segment separately.\n",
    "\n",
    "\n",
    "**What is the impact of Outliers on a dataset?**\n",
    "\n",
    "\n",
    "![image.png](https://www.analyticsvidhya.com/wp-content/uploads/2015/02/Outlier_31.png)\n",
    "\n",
    "\n",
    "\n",
    "**How to detect Outliers?**\n",
    "\n",
    "1. Most commonly used method to detect outliers is visualization (Univariate Graphical Analysis).\n",
    "\n",
    "We use 3 common visualization methods:\n",
    ">- Box-plot: A box plot is a method for graphically depicting groups of numerical data through their quartiles. The box extends from the Q1 to Q3 quartile values of the data, with a line at the median (Q2). The whiskers extend from the edges of the box to show the range of the data. Outlier points are those past the end of the whiskers. Box plots show robust measures of location and spread as well as providing information about symmetry and outliers.\n",
    ">\n",
    ">  \n",
    ">![image.png](https://miro.medium.com/v2/resize:fit:698/format:webp/1*VK5iHA2AB28HSZwWwUbNYg.png)\n",
    ">\n",
    ">\n",
    ">- Histogram\n",
    ">- Scatter Plot: A scatter plot is a mathematical diagram using Cartesian coordinates to display values for two variables for a set of data. The data are displayed as a collection of points, each having the value of one variable determining the position on the horizontal axis and the value of the other variable determining the position on the vertical axis. The points that are far from the population can be termed as an outlier.\n",
    ">\n",
    ">  \n",
    ">![image.png](https://miro.medium.com/v2/resize:fit:4800/format:webp/1*Ov6aH-8yIwNoUxtMFwgx4g.png)\n",
    ">\n",
    ">\n",
    "\n",
    "2. Using statistical method (Univariate Non-Graphical analysis):\n",
    ">- Any value, which is beyond the range of -1.5 x IQR to 1.5 x IQR\n",
    " \n",
    "![image.png](https://www.whatissixsigma.net/wp-content/uploads/2015/07/Box-Plot-Diagram-to-identify-Outliers-figure-1.png)\n",
    "\n",
    ">- Use capping methods. Any value which out of range of 5th and 95th percentile can be considered as outlier\n",
    ">- Data points, three or more standard deviation away from mean are considered outlier: The Z-score is the signed number of standard deviations by which the value of an observation or data point is above the mean value of what is being observed or measured. While calculating the Z-score we re-scale and center the data and look for data points that are too far from zero. These data points which are way too far from zero will be treated as the outliers. In most of the cases, a threshold of 3 or -3 is used i.e if the Z-score value is greater than or less than 3 or -3 respectively, that data point will be identified as outliers.\n",
    "> - Outlier detection is merely a special case of the examination of data for influential data points and it also depends on the business understanding\n"
   ]
  },
  {
   "cell_type": "code",
   "execution_count": 23,
   "id": "74ea6194-cc01-45d8-be38-c4543eb1714e",
   "metadata": {},
   "outputs": [],
   "source": [
    "# go to univariate graphical analysis\n",
    "# go to lesson : data visualisation 1 - chart type section\n",
    "# then go to univariate graphical analysis\n",
    "# detect outliers using graphs varbaly"
   ]
  },
  {
   "cell_type": "code",
   "execution_count": 24,
   "id": "48ecf77b-480c-4f64-9485-95be805bc357",
   "metadata": {},
   "outputs": [],
   "source": [
    "# go to lesson: statistics 1 then statistics 3\n",
    "# then go to univariate Non graphical analysis\n",
    "# detect outliers using numerical statistics "
   ]
  },
  {
   "cell_type": "code",
   "execution_count": null,
   "id": "ee200da8-62b0-492d-b118-f4d665a1fb16",
   "metadata": {},
   "outputs": [],
   "source": []
  },
  {
   "cell_type": "code",
   "execution_count": 25,
   "id": "4e66d611-6958-4860-8522-9ada7fce40b0",
   "metadata": {},
   "outputs": [],
   "source": [
    "# go to delete ouliers"
   ]
  },
  {
   "attachments": {},
   "cell_type": "markdown",
   "id": "4e886ec7-388c-414b-ada7-803c2fb1f2cb",
   "metadata": {},
   "source": [
    "## 2. Data Cleaning: \n",
    "\n",
    "Preliminary findings from data profiling can lead to cleaning the data by:\n",
    "- Handling missing values\n",
    "- Correcting errors.\n",
    "- Dealing with outliers.\n",
    "\n",
    "-------------------\n",
    "\n"
   ]
  },
  {
   "cell_type": "markdown",
   "id": "21876b48-f5ec-4970-85a9-0520d45d8841",
   "metadata": {},
   "source": [
    "### Handling missing values:"
   ]
  },
  {
   "cell_type": "markdown",
   "id": "c890d5a2-2a65-4090-9427-f89c0f011d3f",
   "metadata": {},
   "source": [
    "**Why my data has missing values?**\n",
    "They may occur at two stages:\n",
    "1. Data Extraction: It is possible that there are problems with extraction process. Errors at data extraction stage are typically easy to find and can be corrected easily as well.\n",
    "2. Data collection: These errors occur at time of data collection and are harder to correct.\n",
    "\n",
    "**Why do we need to handle the missing data?**\n",
    "To avoid:\n",
    "- Bias the conclusions.\n",
    "- Leading the business to make wrong decisions.\n",
    "\n",
    "**Which are the methods to treat missing values ?**\n",
    "1. Deletion: we delete rows where any of the variable is missing. Simplicity is one of the major advantage of this method, but this method reduces the power of model because it reduces the sample size.\n",
    "\n",
    "2. Imputation: is a method to fill in the missing values with estimated ones. This imputation is one of the most frequently used methods.\n",
    "\n",
    "    2.1. Mean/ Mode/ Median Imputation: It consists of replacing the missing data for a given attribute by the mean or median (quantitative attribute) or mode (qualitative attribute) of all known values of that variable.\n",
    "    > It can be of two types:\n",
    "    > - Generalized Imputation: In this case, we calculate the mean or median for all non missing values of that variable then replace missing value with mean or median.\n",
    "    > - Similar case Imputation: In this case, we calculate average for each group individually of non missing values then replace the missing value based on the group.\n",
    "\n",
    "    2.2. Constant Value\n",
    "   \n",
    "    2.3. Forward Filling\n",
    "   \n",
    "    2.4. Backward Filling\n",
    "\n",
    "6. Prediction Model:  Prediction model is one of the sophisticated method for handling missing data. Here, we create a predictive model to estimate values that will substitute the missing data.  In this case, we divide our data set into two sets: One set with no missing values for the variable and another one with missing values. First data set become training data set of the model while second data set with missing values is test data set and variable with missing values is treated as target variable. Next, we create a model to predict target variable based on other attributes of the training data set and populate missing values of test data set.\n",
    "\n",
    "> There are 2 drawbacks for this approach:\n",
    "> - The model estimated values are usually more well-behaved than the true values\n",
    "> - If there are no relationships with attributes in the data set and the attribute with missing values, then the model will not be precise for estimating missing values.\n",
    "\n",
    "9. KNN Imputation: In this method of imputation, the missing values of an attribute are imputed using the given number of attributes that are most similar to the attribute whose values are missing. The similarity of two attributes is determined using a distance function. It is also known to have certain advantage & disadvantages.\n",
    "\n",
    "   > **Advantages:**\n",
    "   > - k-nearest neighbour can predict both qualitative & quantitative attributes\n",
    "   > - Creation of predictive model for each attribute with missing data is not required\n",
    "   > - Attributes with multiple missing values can be easily treated\n",
    "   > - Correlation structure of the data is taken into consideration\n",
    "\n",
    "   > **Disadvantage:**\n",
    "   > - KNN algorithm is very time-consuming in analyzing large database. It searches through all the dataset looking for the most similar instances.\n",
    "   > - Choice of k-value is very critical. Higher value of k would include attributes which are significantly different from what we need whereas lower value of k implies missing out of significant attributes.\n",
    "\n",
    "--------------------\n"
   ]
  },
  {
   "cell_type": "code",
   "execution_count": null,
   "id": "57e741fb-71c1-46ad-a526-d8f0b1564dc3",
   "metadata": {},
   "outputs": [],
   "source": [
    "#already did data cleaning"
   ]
  },
  {
   "cell_type": "code",
   "execution_count": 80,
   "id": "01287962-8077-4c01-8d1d-5f8aed6cb37a",
   "metadata": {},
   "outputs": [],
   "source": [
    "# go back to 6th dimention --> Completeness"
   ]
  },
  {
   "cell_type": "markdown",
   "id": "f7cee10f-0af8-44e5-b595-8e965294daad",
   "metadata": {},
   "source": [
    "### Correcting errors\n",
    "\n",
    "-------------------"
   ]
  },
  {
   "cell_type": "code",
   "execution_count": null,
   "id": "06273b88-a169-42e8-81f5-5d71cb3f9c21",
   "metadata": {},
   "outputs": [],
   "source": [
    "#already did data cleaning"
   ]
  },
  {
   "cell_type": "code",
   "execution_count": null,
   "id": "f1d95da5-a3ba-473a-8243-aa177cadae20",
   "metadata": {},
   "outputs": [],
   "source": [
    "# go back to 7th dimension Accuracy "
   ]
  },
  {
   "cell_type": "markdown",
   "id": "5ecc7dbb-6867-44cf-8f99-1b969a80be40",
   "metadata": {},
   "source": [
    "### Dealing with outliers:"
   ]
  },
  {
   "attachments": {},
   "cell_type": "markdown",
   "id": "88347887-4bdf-48af-9486-cb8fe80c97af",
   "metadata": {},
   "source": [
    "**How to remove Outliers?**\n",
    "Most of the ways to deal with outliers are similar to the methods of missing values like deleting rows, transforming them, binning them, treat them as a separate group, imputing values and other statistical methods. Here, we will discuss the common techniques used to deal with outliers:\n",
    "\n",
    "1. Deleting rows: We delete outlier values if it is due to data entry error, data processing error or outlier rows are very small in numbers. We can also use trimming at both ends to remove outliers.\n",
    "\n",
    "2. Imputing: Like imputation of missing values, we can also impute outliers. We can use mean, median, mode imputation methods. Before imputing values, we should analyse if it is natural outlier or artificial. If it is artificial, we can go with imputing values. We can also use statistical model to predict values of outlier rows and after that we can impute it with predicted values.\n",
    "\n",
    "3. Treat separately: If there are significant number of outliers, we should treat them separately in the statistical model. One of the approach is to treat both groups as two different groups and build individual model for both groups and then combine the output.\n"
   ]
  },
  {
   "cell_type": "code",
   "execution_count": null,
   "id": "25a585f0-2b9c-42fa-bf21-cacc6aa3be3f",
   "metadata": {},
   "outputs": [],
   "source": []
  },
  {
   "cell_type": "markdown",
   "id": "98548b66-e309-4eb8-a5dc-65fe0abbf1e8",
   "metadata": {},
   "source": [
    "## 3. Univariate Analysis: \n",
    "\n",
    "This involves examining single variables to understand their characteristics (distribution, central tendency, dispersion, and shape).\n",
    "\n",
    "We calculate **numerical values** about the data that tells us about the distribution of the data. We also **draw graphs** showing visually how the data is distributed. **To answer the following questions about Features/characteristics of Data:**\n",
    "- Where is the center of the data? (location)\n",
    "- How much does the data vary? (scale)\n",
    "- What is the shape of the data? (shape)\n",
    "\n",
    "**The benefits of this analysis:**\n",
    "Statistics summary gives a high-level idea to identify whether the data has any outliers, data entry error, distribution of data such as the data is normally distributed or left/right skewed\n",
    "\n",
    "**In this step, we will explore variables one by one using following approaches:**"
   ]
  },
  {
   "cell_type": "markdown",
   "id": "d6718111-7ac2-4fff-9851-654655b62e0b",
   "metadata": {},
   "source": [
    "### 1. Univariate Graphical Analysis:\n",
    "Method to perform uni-variate analysis will depend on whether the variable type is categorical or numerical."
   ]
  },
  {
   "cell_type": "code",
   "execution_count": 162,
   "id": "db79d803-b75c-4686-a623-e8420321a90f",
   "metadata": {},
   "outputs": [
    {
     "data": {
      "application/vnd.plotly.v1+json": {
       "config": {
        "plotlyServerURL": "https://plot.ly"
       },
       "data": [
        {
         "alignmentgroup": "True",
         "hovertemplate": "Region=%{x}<br> Number of Jobs=%{y}<extra></extra>",
         "legendgroup": "",
         "marker": {
          "color": "#636efa",
          "pattern": {
           "shape": ""
          }
         },
         "name": "",
         "offsetgroup": "",
         "orientation": "v",
         "showlegend": false,
         "textposition": "auto",
         "type": "bar",
         "x": [
          "الرياض",
          "المنطقة الشرقية",
          "الرياض",
          "المنطقة الشرقية",
          "الرياض",
          "الرياض",
          "الرياض",
          "الرياض",
          "الرياض",
          "الرياض",
          "الرياض",
          "المنطقة الشرقية",
          "الرياض",
          "مكة المكرمة",
          "حائل",
          "حائل",
          "حائل",
          "حائل",
          "مكة المكرمة",
          "مكة المكرمة",
          "الرياض",
          "مكة المكرمة",
          "الرياض",
          "الرياض",
          "مكة المكرمة",
          "المدينة المنورة",
          "الرياض",
          "الرياض",
          "الرياض",
          "الرياض",
          "الرياض",
          "الرياض",
          "المنطقة الشرقية",
          "المدينة المنورة",
          "المدينة المنورة",
          "المدينة المنورة",
          "المدينة المنورة",
          "المدينة المنورة",
          "المدينة المنورة",
          "المنطقة الشرقية",
          "المنطقة الشرقية",
          "الباحة",
          "الرياض",
          "مكة المكرمة",
          "الرياض",
          "المنطقة الشرقية",
          "الرياض",
          "الرياض",
          "الرياض",
          "الرياض",
          "الرياض",
          "الرياض",
          "المنطقة الشرقية",
          "الرياض",
          "الرياض",
          "الرياض",
          "الرياض",
          "الرياض",
          "الرياض",
          "الرياض",
          "عسير",
          "القصيم",
          "القصيم",
          "الرياض",
          "الرياض",
          "الرياض",
          "الرياض",
          "الرياض",
          "الرياض",
          "الرياض",
          "الرياض",
          "الرياض",
          "الرياض",
          "عسير",
          "مكة المكرمة",
          "الرياض",
          "مكة المكرمة",
          "الرياض",
          "الرياض",
          "الرياض",
          "الرياض",
          "مكة المكرمة",
          "مكة المكرمة",
          "مكة المكرمة",
          "مكة المكرمة",
          "المنطقة الشرقية",
          "الرياض",
          "مكة المكرمة",
          "مكة المكرمة",
          "الرياض",
          "عسير",
          "المنطقة الشرقية",
          "المنطقة الشرقية",
          "مكة المكرمة",
          "الرياض",
          "الرياض",
          "الرياض",
          "الباحة",
          "الباحة",
          "الرياض",
          "المدينة المنورة",
          "الرياض",
          "الرياض",
          "الرياض",
          "مكة المكرمة",
          "الرياض",
          "مكة المكرمة",
          "الرياض",
          "مكة المكرمة",
          "مكة المكرمة",
          "الرياض",
          "المنطقة الشرقية",
          "المنطقة الشرقية",
          "الرياض",
          "مكة المكرمة",
          "الرياض",
          "مكة المكرمة",
          "مكة المكرمة",
          "الرياض",
          "الرياض",
          "الرياض",
          "الرياض",
          "الرياض",
          "المدينة المنورة",
          "تبوك",
          "المدينة المنورة",
          "المدينة المنورة",
          "القصيم",
          "مكة المكرمة",
          "مكة المكرمة",
          "الرياض",
          "الرياض",
          "الرياض",
          "الرياض",
          "الرياض",
          "الرياض",
          "الرياض",
          "مكة المكرمة",
          "مكة المكرمة",
          "الرياض",
          "المدينة المنورة",
          "الرياض",
          "الرياض",
          "الرياض",
          "الرياض",
          "الرياض",
          "الرياض",
          "الرياض",
          "مكة المكرمة",
          "الرياض",
          "المدينة المنورة",
          "الرياض",
          "الرياض",
          "الرياض",
          "المدينة المنورة",
          "مكة المكرمة",
          "جازان",
          "الرياض",
          "المدينة المنورة",
          "الرياض",
          "الرياض",
          "مكة المكرمة",
          "مكة المكرمة",
          "مكة المكرمة",
          "مكة المكرمة",
          "مكة المكرمة",
          "مكة المكرمة",
          "مكة المكرمة",
          "مكة المكرمة",
          "الرياض",
          "الرياض",
          "الرياض",
          "الرياض",
          "الرياض",
          "الرياض",
          "مكة المكرمة",
          "الرياض",
          "الرياض",
          "الرياض",
          "مكة المكرمة",
          "الرياض",
          "الرياض",
          "المدينة المنورة",
          "المنطقة الشرقية",
          "الرياض",
          "الرياض",
          "المنطقة الشرقية",
          "مكة المكرمة",
          "الرياض",
          "الرياض",
          "الرياض",
          "الباحة",
          "الرياض",
          "مكة المكرمة",
          "المنطقة الشرقية",
          "مكة المكرمة",
          "الحدود الشمالية",
          "المدينة المنورة",
          "مكة المكرمة",
          "الباحة",
          "الرياض",
          "المنطقة الشرقية",
          "الرياض",
          "المنطقة الشرقية",
          "الرياض",
          "المنطقة الشرقية",
          "المنطقة الشرقية",
          "المنطقة الشرقية",
          "الرياض",
          "الرياض",
          "القصيم",
          "المدينة المنورة",
          "الرياض",
          "المدينة المنورة",
          "مكة المكرمة",
          "الباحة",
          "مكة المكرمة",
          "مكة المكرمة",
          "مكة المكرمة",
          "مكة المكرمة",
          "الرياض",
          "الرياض",
          "الحدود الشمالية",
          "الرياض",
          "الرياض",
          "الحدود الشمالية",
          "مكة المكرمة",
          "مكة المكرمة",
          "الرياض",
          "مكة المكرمة",
          "الرياض",
          "الرياض",
          "الرياض",
          "الرياض",
          "الرياض",
          "الرياض",
          "مكة المكرمة",
          "مكة المكرمة",
          "الرياض",
          "الرياض",
          "مكة المكرمة",
          "المنطقة الشرقية",
          "مكة المكرمة",
          "الرياض",
          "الرياض",
          "الرياض",
          "مكة المكرمة",
          "الباحة",
          "الرياض",
          "المنطقة الشرقية",
          "المنطقة الشرقية",
          "مكة المكرمة",
          "القصيم",
          "القصيم",
          "المدينة المنورة",
          "القصيم",
          "الرياض",
          "مكة المكرمة",
          "مكة المكرمة",
          "مكة المكرمة",
          "الرياض",
          "الباحة",
          "الرياض",
          "المدينة المنورة",
          "القصيم",
          "مكة المكرمة",
          "مكة المكرمة",
          "الرياض",
          "الرياض",
          "الرياض",
          "مكة المكرمة",
          "مكة المكرمة",
          "الرياض",
          "المنطقة الشرقية",
          "المدينة المنورة",
          "الرياض",
          "المدينة المنورة",
          "المدينة المنورة",
          "المدينة المنورة",
          "الرياض",
          "الرياض",
          "الرياض",
          "مكة المكرمة",
          "مكة المكرمة",
          "المنطقة الشرقية",
          "المنطقة الشرقية",
          "مكة المكرمة",
          "المنطقة الشرقية",
          "المنطقة الشرقية",
          "مكة المكرمة",
          "المدينة المنورة",
          "الرياض",
          "مكة المكرمة",
          "المنطقة الشرقية",
          "مكة المكرمة",
          "القصيم",
          "الرياض",
          "الرياض",
          "الرياض",
          "المنطقة الشرقية",
          "الرياض",
          "الرياض",
          "الرياض",
          "مكة المكرمة",
          "مكة المكرمة",
          "المنطقة الشرقية",
          "الرياض",
          "مكة المكرمة",
          "الباحة",
          "الرياض",
          "المدينة المنورة",
          "الرياض",
          "الرياض",
          "مكة المكرمة",
          "المنطقة الشرقية",
          "الرياض",
          "مكة المكرمة",
          "القصيم",
          "المدينة المنورة",
          "نجران",
          "حائل",
          "مكة المكرمة",
          "نجران",
          "نجران",
          "نجران",
          "المدينة المنورة",
          "مكة المكرمة",
          "الرياض",
          "مكة المكرمة",
          "مكة المكرمة",
          "المدينة المنورة",
          "الرياض",
          "المنطقة الشرقية",
          "المدينة المنورة",
          "المدينة المنورة",
          "الرياض",
          "الرياض",
          "الرياض",
          "مكة المكرمة",
          "الجوف",
          "الرياض",
          "مكة المكرمة",
          "الرياض",
          "المنطقة الشرقية",
          "الرياض",
          "حائل",
          "مكة المكرمة",
          "مكة المكرمة",
          "مكة المكرمة",
          "الرياض",
          "الرياض",
          "الرياض",
          "الرياض",
          "الباحة",
          "الرياض",
          "الرياض",
          "جازان",
          "الرياض",
          "الرياض",
          "الباحة",
          "المدينة المنورة",
          "الباحة",
          "المدينة المنورة",
          "مكة المكرمة",
          "مكة المكرمة",
          "الجوف",
          "الرياض",
          "مكة المكرمة",
          "مكة المكرمة",
          "الرياض",
          "الرياض",
          "المنطقة الشرقية",
          "المنطقة الشرقية",
          "القصيم",
          "الرياض",
          "المدينة المنورة",
          "مكة المكرمة",
          "مكة المكرمة",
          "مكة المكرمة",
          "مكة المكرمة",
          "المنطقة الشرقية",
          "المنطقة الشرقية",
          "المنطقة الشرقية",
          "مكة المكرمة",
          "مكة المكرمة",
          "الرياض",
          "المنطقة الشرقية",
          "المنطقة الشرقية",
          "المنطقة الشرقية",
          "المنطقة الشرقية",
          "الرياض",
          "الرياض",
          "المنطقة الشرقية",
          "جازان",
          "الباحة",
          "المدينة المنورة",
          "مكة المكرمة",
          "مكة المكرمة",
          "الرياض",
          "المنطقة الشرقية",
          "المنطقة الشرقية",
          "الرياض",
          "الرياض",
          "الرياض",
          "المنطقة الشرقية",
          "مكة المكرمة",
          "المنطقة الشرقية",
          "الرياض",
          "المنطقة الشرقية",
          "المنطقة الشرقية",
          "القصيم",
          "الرياض",
          "الرياض",
          "مكة المكرمة",
          "الرياض",
          "الرياض",
          "الرياض",
          "المنطقة الشرقية",
          "المنطقة الشرقية",
          "الرياض",
          "الرياض",
          "الرياض",
          "مكة المكرمة",
          "الرياض",
          "مكة المكرمة",
          "الرياض",
          "الرياض",
          "الرياض",
          "مكة المكرمة",
          "مكة المكرمة",
          "الرياض",
          "المنطقة الشرقية",
          "المدينة المنورة",
          "الرياض",
          "الرياض",
          "الرياض",
          "الرياض",
          "الرياض",
          "الرياض",
          "مكة المكرمة",
          "حائل",
          "الرياض",
          "مكة المكرمة",
          "مكة المكرمة",
          "مكة المكرمة",
          "مكة المكرمة",
          "المدينة المنورة",
          "المنطقة الشرقية",
          "الرياض",
          "جازان",
          "مكة المكرمة",
          "مكة المكرمة",
          "مكة المكرمة",
          "الرياض",
          "مكة المكرمة",
          "المنطقة الشرقية",
          "الرياض",
          "الرياض",
          "المنطقة الشرقية",
          "مكة المكرمة",
          "الرياض",
          "الرياض",
          "الرياض",
          "مكة المكرمة",
          "القصيم",
          "حائل",
          "تبوك",
          "المدينة المنورة",
          "الرياض",
          "مكة المكرمة",
          "الرياض",
          "مكة المكرمة",
          "الرياض",
          "مكة المكرمة",
          "مكة المكرمة",
          "مكة المكرمة",
          "المدينة المنورة",
          "الرياض",
          "المدينة المنورة",
          "الرياض",
          "المنطقة الشرقية",
          "المنطقة الشرقية",
          "الرياض",
          "تبوك",
          "الرياض",
          "الرياض",
          "الرياض",
          "الرياض",
          "الرياض",
          "الرياض",
          "المنطقة الشرقية",
          "المنطقة الشرقية",
          "الرياض",
          "الرياض",
          "مكة المكرمة",
          "الرياض",
          "الباحة",
          "الرياض",
          "مكة المكرمة",
          "اخرى",
          "مكة المكرمة",
          "الرياض",
          "الرياض",
          "الرياض",
          "مكة المكرمة",
          "مكة المكرمة",
          "المنطقة الشرقية",
          "الرياض",
          "الرياض",
          "مكة المكرمة",
          "الرياض",
          "الرياض",
          "الرياض",
          "مكة المكرمة",
          "الرياض",
          "مكة المكرمة",
          "مكة المكرمة",
          "الرياض",
          "الرياض",
          "الرياض",
          "مكة المكرمة",
          "مكة المكرمة",
          "مكة المكرمة",
          "الرياض",
          "مكة المكرمة",
          "مكة المكرمة",
          "المنطقة الشرقية",
          "الرياض",
          "مكة المكرمة",
          "مكة المكرمة",
          "الرياض",
          "الباحة",
          "الباحة",
          "الرياض",
          "مكة المكرمة",
          "الرياض",
          "الرياض",
          "مكة المكرمة",
          "الرياض",
          "الرياض",
          "المنطقة الشرقية",
          "المنطقة الشرقية",
          "المنطقة الشرقية",
          "المنطقة الشرقية",
          "المنطقة الشرقية",
          "الرياض",
          "الرياض",
          "الرياض",
          "الرياض",
          "الرياض",
          "الرياض",
          "الرياض",
          "الرياض",
          "مكة المكرمة",
          "مكة المكرمة",
          "مكة المكرمة",
          "مكة المكرمة",
          "مكة المكرمة",
          "مكة المكرمة",
          "مكة المكرمة",
          "المنطقة الشرقية",
          "مكة المكرمة",
          "المنطقة الشرقية",
          "الرياض",
          "الرياض",
          "مكة المكرمة",
          "عسير",
          "مكة المكرمة",
          "المنطقة الشرقية",
          "مكة المكرمة",
          "مكة المكرمة",
          "الرياض",
          "الرياض",
          "الرياض",
          "الرياض",
          "الرياض",
          "الرياض",
          "الرياض",
          "الرياض",
          "الرياض",
          "الرياض",
          "الرياض",
          "مكة المكرمة",
          "الرياض",
          "عسير",
          "الرياض",
          "مكة المكرمة",
          "الرياض",
          "الرياض",
          "المنطقة الشرقية",
          "عسير",
          "مكة المكرمة",
          "عسير",
          "عسير",
          "عسير",
          "عسير",
          "عسير",
          "عسير",
          "مكة المكرمة",
          "المنطقة الشرقية",
          "المنطقة الشرقية",
          "الرياض",
          "الرياض",
          "الرياض",
          "الرياض",
          "المنطقة الشرقية",
          "الباحة",
          "الرياض",
          "المنطقة الشرقية",
          "المنطقة الشرقية",
          "الرياض",
          "المنطقة الشرقية",
          "المنطقة الشرقية",
          "الرياض",
          "المنطقة الشرقية",
          "الباحة",
          "المنطقة الشرقية",
          "عسير",
          "الباحة",
          "المنطقة الشرقية",
          "المنطقة الشرقية",
          "الباحة",
          "الباحة",
          "المنطقة الشرقية",
          "المنطقة الشرقية",
          "المنطقة الشرقية",
          "مكة المكرمة",
          "المنطقة الشرقية",
          "المنطقة الشرقية",
          "المنطقة الشرقية",
          "مكة المكرمة",
          "مكة المكرمة",
          "مكة المكرمة",
          "مكة المكرمة",
          "مكة المكرمة",
          "مكة المكرمة",
          "مكة المكرمة",
          "مكة المكرمة",
          "مكة المكرمة",
          "مكة المكرمة",
          "مكة المكرمة",
          "مكة المكرمة",
          "نجران",
          "مكة المكرمة",
          "مكة المكرمة",
          "نجران",
          "مكة المكرمة",
          "مكة المكرمة",
          "المنطقة الشرقية",
          "مكة المكرمة",
          "المنطقة الشرقية",
          "المنطقة الشرقية",
          "مكة المكرمة",
          "مكة المكرمة",
          "الرياض",
          "مكة المكرمة",
          "الرياض",
          "الرياض",
          "مكة المكرمة",
          "الرياض",
          "المنطقة الشرقية",
          "مكة المكرمة",
          "المنطقة الشرقية",
          "مكة المكرمة",
          "مكة المكرمة",
          "الرياض",
          "مكة المكرمة",
          "المنطقة الشرقية",
          "الرياض",
          "الرياض",
          "الرياض",
          "الرياض",
          "الرياض",
          "الرياض",
          "الرياض",
          "المنطقة الشرقية",
          "مكة المكرمة",
          "المنطقة الشرقية",
          "المنطقة الشرقية",
          "المنطقة الشرقية",
          "الرياض",
          "الرياض",
          "المنطقة الشرقية",
          "الباحة",
          "الباحة",
          "الباحة",
          "حائل",
          "مكة المكرمة",
          "مكة المكرمة",
          "الرياض",
          "الرياض",
          "الرياض",
          "المنطقة الشرقية",
          "مكة المكرمة",
          "الرياض",
          "مكة المكرمة",
          "المنطقة الشرقية",
          "مكة المكرمة",
          "مكة المكرمة",
          "المنطقة الشرقية",
          "مكة المكرمة",
          "مكة المكرمة",
          "مكة المكرمة",
          "الرياض",
          "مكة المكرمة",
          "المنطقة الشرقية",
          "المنطقة الشرقية",
          "الرياض",
          "عسير",
          "الرياض",
          "الرياض",
          "الرياض",
          "الرياض",
          "مكة المكرمة",
          "مكة المكرمة",
          "مكة المكرمة",
          "الرياض",
          "الرياض",
          "الرياض",
          "مكة المكرمة",
          "الرياض",
          "مكة المكرمة",
          "الرياض",
          "الرياض",
          "المنطقة الشرقية",
          "المنطقة الشرقية",
          "مكة المكرمة",
          "المنطقة الشرقية",
          "الرياض",
          "الرياض",
          "الرياض",
          "المنطقة الشرقية",
          "مكة المكرمة",
          "الرياض",
          "الرياض",
          "مكة المكرمة",
          "المنطقة الشرقية",
          "الرياض",
          "الرياض",
          "الرياض",
          "المنطقة الشرقية",
          "المنطقة الشرقية",
          "المنطقة الشرقية",
          "الرياض",
          "الرياض",
          "الرياض",
          "الرياض",
          "مكة المكرمة",
          "الرياض",
          "مكة المكرمة",
          "الرياض",
          "مكة المكرمة",
          "الرياض",
          "مكة المكرمة",
          "الرياض",
          "الرياض",
          "مكة المكرمة",
          "الرياض",
          "الرياض",
          "الرياض",
          "الرياض",
          "الرياض",
          "الرياض",
          "مكة المكرمة",
          "مكة المكرمة",
          "الرياض",
          "مكة المكرمة",
          "المنطقة الشرقية",
          "المنطقة الشرقية",
          "مكة المكرمة",
          "حائل",
          "الرياض",
          "الرياض",
          "الرياض",
          "المنطقة الشرقية",
          "الرياض",
          "الرياض",
          "الرياض",
          "مكة المكرمة",
          "الرياض",
          "مكة المكرمة",
          "الرياض",
          "الرياض",
          "مكة المكرمة",
          "مكة المكرمة",
          "الرياض",
          "حائل",
          "الرياض",
          "الرياض",
          "الرياض",
          "الباحة",
          "الباحة",
          "الباحة",
          "الباحة",
          "الباحة",
          "القصيم",
          "الباحة",
          "القصيم",
          "الباحة",
          "الباحة",
          "مكة المكرمة",
          "الرياض",
          "مكة المكرمة",
          "مكة المكرمة",
          "تبوك",
          "مكة المكرمة",
          "المنطقة الشرقية",
          "الرياض",
          "المنطقة الشرقية",
          "الرياض",
          "الرياض",
          "الباحة",
          "الرياض",
          "الرياض",
          "الرياض",
          "الرياض",
          "الرياض",
          "الرياض",
          "الرياض",
          "حائل",
          "مكة المكرمة",
          "الرياض",
          "الرياض",
          "مكة المكرمة",
          "مكة المكرمة",
          "الرياض",
          "الرياض",
          "الرياض",
          "الرياض",
          "الرياض",
          "الرياض",
          "الرياض",
          "الرياض",
          "الرياض",
          "عسير",
          "عسير",
          "الرياض",
          "مكة المكرمة",
          "الرياض",
          "الرياض",
          "عسير",
          "حائل",
          "مكة المكرمة",
          "مكة المكرمة",
          "المدينة المنورة",
          "المنطقة الشرقية",
          "الرياض",
          "الرياض",
          "الرياض",
          "الرياض",
          "الرياض",
          "الرياض",
          "عسير",
          "عسير",
          "عسير",
          "مكة المكرمة",
          "المدينة المنورة",
          "المنطقة الشرقية",
          "مكة المكرمة",
          "المدينة المنورة",
          "جازان",
          "المدينة المنورة",
          "المنطقة الشرقية",
          "الرياض",
          "عسير",
          "عسير",
          "مكة المكرمة",
          "المدينة المنورة",
          "الجوف",
          "الرياض",
          "المدينة المنورة",
          "الرياض",
          "مكة المكرمة",
          "مكة المكرمة",
          "مكة المكرمة",
          "المنطقة الشرقية",
          "الرياض",
          "القصيم",
          "المنطقة الشرقية",
          "المنطقة الشرقية",
          "المدينة المنورة",
          "مكة المكرمة",
          "عسير",
          "المنطقة الشرقية",
          "مكة المكرمة",
          "الرياض",
          "مكة المكرمة",
          "مكة المكرمة",
          "مكة المكرمة",
          "الرياض",
          "المنطقة الشرقية",
          "مكة المكرمة",
          "مكة المكرمة",
          "عسير",
          "مكة المكرمة",
          "المدينة المنورة",
          "المدينة المنورة",
          "المدينة المنورة",
          "الرياض",
          "الرياض",
          "المدينة المنورة",
          "المدينة المنورة",
          "مكة المكرمة",
          "مكة المكرمة",
          "الرياض",
          "مكة المكرمة",
          "الرياض",
          "الرياض",
          "مكة المكرمة",
          "المنطقة الشرقية",
          "مكة المكرمة",
          "المدينة المنورة",
          "الجوف",
          "الرياض",
          "مكة المكرمة",
          "مكة المكرمة",
          "عسير",
          "المنطقة الشرقية",
          "الرياض",
          "القصيم",
          "مكة المكرمة",
          "الرياض",
          "الرياض",
          "الرياض",
          "المنطقة الشرقية",
          "المنطقة الشرقية",
          "المنطقة الشرقية",
          "المنطقة الشرقية",
          "مكة المكرمة",
          "المنطقة الشرقية",
          "مكة المكرمة",
          "مكة المكرمة",
          "المنطقة الشرقية",
          "المدينة المنورة",
          "الرياض",
          "الرياض",
          "الرياض",
          "المنطقة الشرقية",
          "الرياض",
          "الرياض",
          "مكة المكرمة",
          "المنطقة الشرقية",
          "المدينة المنورة",
          "الرياض",
          "الرياض",
          "مكة المكرمة",
          "مكة المكرمة",
          "الرياض",
          "مكة المكرمة",
          "المدينة المنورة",
          "عسير",
          "القصيم",
          "مكة المكرمة",
          "عسير",
          "المنطقة الشرقية",
          "مكة المكرمة",
          "الرياض",
          "مكة المكرمة",
          "مكة المكرمة",
          "المنطقة الشرقية",
          "مكة المكرمة",
          "الرياض",
          "مكة المكرمة",
          "المنطقة الشرقية",
          "القصيم",
          "مكة المكرمة",
          "المنطقة الشرقية",
          "المنطقة الشرقية",
          "عسير",
          "المنطقة الشرقية",
          "المدينة المنورة",
          "مكة المكرمة",
          "مكة المكرمة",
          "عسير",
          "الرياض",
          "الرياض",
          "الرياض",
          "المنطقة الشرقية",
          "المنطقة الشرقية",
          "المنطقة الشرقية",
          "جازان",
          "مكة المكرمة",
          "الرياض",
          "الرياض",
          "المدينة المنورة",
          "الرياض",
          "عسير",
          "الرياض",
          "الرياض",
          "المنطقة الشرقية",
          "الرياض",
          "الرياض",
          "مكة المكرمة",
          "مكة المكرمة",
          "المنطقة الشرقية",
          "عسير",
          "تبوك",
          "مكة المكرمة",
          "مكة المكرمة",
          "الرياض",
          "الرياض",
          "المنطقة الشرقية",
          "الرياض",
          "الرياض",
          "عسير",
          "عسير",
          "الباحة",
          "القصيم",
          "عسير",
          "الرياض",
          "الرياض",
          "مكة المكرمة",
          "الرياض",
          "المنطقة الشرقية",
          "الرياض",
          "الرياض",
          "الرياض",
          "المنطقة الشرقية",
          "المنطقة الشرقية",
          "الرياض",
          "المنطقة الشرقية",
          "المنطقة الشرقية",
          "المنطقة الشرقية",
          "الرياض",
          "الرياض",
          "الرياض",
          "الرياض",
          "الرياض",
          "مكة المكرمة",
          "الرياض",
          "الرياض",
          "الرياض",
          "مكة المكرمة",
          "مكة المكرمة",
          "المنطقة الشرقية",
          "مكة المكرمة",
          "مكة المكرمة",
          "مكة المكرمة",
          "مكة المكرمة",
          "الرياض",
          "الرياض",
          "المدينة المنورة",
          "المنطقة الشرقية",
          "عسير",
          "المنطقة الشرقية",
          "المنطقة الشرقية",
          "المدينة المنورة",
          "الرياض",
          "الرياض",
          "الرياض",
          "الباحة",
          "المنطقة الشرقية",
          "المنطقة الشرقية",
          "المنطقة الشرقية",
          "المنطقة الشرقية",
          "الرياض",
          "الرياض",
          "الرياض",
          "مكة المكرمة",
          "مكة المكرمة",
          "المنطقة الشرقية",
          "الرياض",
          "الرياض",
          "الرياض",
          "الرياض",
          "الرياض",
          "الرياض",
          "الرياض",
          "الرياض",
          "الرياض",
          "مكة المكرمة",
          "الرياض",
          "المنطقة الشرقية",
          "مكة المكرمة",
          "مكة المكرمة",
          "الرياض",
          "جازان",
          "المدينة المنورة",
          "المنطقة الشرقية",
          "المنطقة الشرقية",
          "المنطقة الشرقية",
          "الرياض",
          "الرياض",
          "المنطقة الشرقية",
          "الرياض",
          "مكة المكرمة",
          "مكة المكرمة",
          "مكة المكرمة",
          "الباحة",
          "الباحة",
          "الباحة",
          "الباحة",
          "الباحة",
          "الباحة",
          "الباحة",
          "الباحة",
          "الباحة",
          "الرياض",
          "مكة المكرمة",
          "القصيم",
          "مكة المكرمة",
          "المنطقة الشرقية",
          "الرياض",
          "مكة المكرمة",
          "القصيم",
          "مكة المكرمة",
          "مكة المكرمة",
          "مكة المكرمة",
          "الرياض",
          "الرياض",
          "الرياض",
          "القصيم",
          "الرياض",
          "الرياض",
          "الرياض",
          "الرياض",
          "الرياض",
          "الرياض",
          "مكة المكرمة",
          "الرياض",
          "الرياض",
          "الرياض",
          "الرياض",
          "الرياض",
          "الرياض",
          "الرياض",
          "الرياض",
          "الرياض",
          "مكة المكرمة",
          "مكة المكرمة",
          "الرياض",
          "المدينة المنورة",
          "مكة المكرمة",
          "المنطقة الشرقية",
          "مكة المكرمة",
          "مكة المكرمة",
          "عسير",
          "المدينة المنورة",
          "المدينة المنورة",
          "المدينة المنورة",
          "المدينة المنورة",
          "الرياض",
          "الرياض",
          "المدينة المنورة",
          "المدينة المنورة",
          "مكة المكرمة",
          "الرياض",
          "مكة المكرمة",
          "الرياض",
          "الرياض",
          "مكة المكرمة",
          "المنطقة الشرقية",
          "المدينة المنورة",
          "الجوف",
          "عسير",
          "مكة المكرمة",
          "الرياض",
          "الرياض",
          "الرياض",
          "المنطقة الشرقية",
          "الرياض",
          "مكة المكرمة",
          "مكة المكرمة",
          "الباحة",
          "عسير",
          "عسير",
          "المدينة المنورة",
          "مكة المكرمة",
          "المنطقة الشرقية",
          "الحدود الشمالية",
          "الرياض",
          "المدينة المنورة",
          "المنطقة الشرقية",
          "مكة المكرمة",
          "مكة المكرمة",
          "القصيم",
          "الرياض",
          "القصيم",
          "عسير",
          "الرياض",
          "تبوك",
          "تبوك",
          "تبوك",
          "تبوك",
          "الرياض",
          "الرياض",
          "المدينة المنورة",
          "الرياض",
          "الرياض",
          "القصيم",
          "المدينة المنورة",
          "تبوك",
          "المنطقة الشرقية",
          "مكة المكرمة",
          "مكة المكرمة",
          "مكة المكرمة",
          "مكة المكرمة",
          "مكة المكرمة",
          "الرياض",
          "الرياض",
          "مكة المكرمة",
          "المنطقة الشرقية",
          "المنطقة الشرقية",
          "المدينة المنورة",
          "المنطقة الشرقية",
          "مكة المكرمة",
          "مكة المكرمة",
          "الرياض",
          "مكة المكرمة",
          "الرياض",
          "الرياض",
          "الرياض",
          "الرياض",
          "الرياض",
          "الرياض",
          "المنطقة الشرقية",
          "الرياض",
          "الرياض",
          "الرياض",
          "الرياض",
          "الرياض",
          "الرياض",
          "مكة المكرمة",
          "مكة المكرمة",
          "الرياض",
          "الرياض",
          "تبوك",
          "الرياض",
          "الرياض",
          "الرياض",
          "الرياض",
          "الرياض",
          "مكة المكرمة",
          "مكة المكرمة",
          "مكة المكرمة",
          "مكة المكرمة",
          "مكة المكرمة",
          "مكة المكرمة",
          "الرياض",
          "الرياض",
          "المدينة المنورة",
          "مكة المكرمة",
          "نجران",
          "الرياض",
          "الرياض",
          "مكة المكرمة",
          "مكة المكرمة",
          "مكة المكرمة",
          "الرياض",
          "مكة المكرمة",
          "مكة المكرمة",
          "مكة المكرمة",
          "مكة المكرمة",
          "مكة المكرمة",
          "مكة المكرمة",
          "مكة المكرمة",
          "مكة المكرمة",
          "مكة المكرمة",
          "الرياض",
          "المنطقة الشرقية",
          "مكة المكرمة",
          "مكة المكرمة",
          "مكة المكرمة",
          "القصيم",
          "القصيم",
          "مكة المكرمة",
          "مكة المكرمة",
          "الرياض",
          "مكة المكرمة",
          "مكة المكرمة",
          "مكة المكرمة",
          "المنطقة الشرقية",
          "المنطقة الشرقية",
          "حائل",
          "مكة المكرمة",
          "المنطقة الشرقية",
          "الرياض",
          "الرياض",
          "مكة المكرمة",
          "مكة المكرمة",
          "الرياض",
          "مكة المكرمة",
          "الرياض",
          "الرياض",
          "المدينة المنورة",
          "الرياض",
          "الرياض",
          "مكة المكرمة",
          "المنطقة الشرقية",
          "مكة المكرمة",
          "مكة المكرمة",
          "مكة المكرمة",
          "مكة المكرمة",
          "مكة المكرمة",
          "المنطقة الشرقية",
          "المنطقة الشرقية",
          "المنطقة الشرقية",
          "المنطقة الشرقية",
          "مكة المكرمة",
          "القصيم",
          "المنطقة الشرقية",
          "القصيم",
          "مكة المكرمة",
          "مكة المكرمة",
          "المنطقة الشرقية",
          "المنطقة الشرقية",
          "الرياض",
          "الرياض",
          "الرياض",
          "الرياض",
          "الرياض",
          "المنطقة الشرقية",
          "الرياض",
          "الرياض",
          "المنطقة الشرقية",
          "المنطقة الشرقية",
          "الرياض",
          "الرياض",
          "المنطقة الشرقية",
          "المنطقة الشرقية",
          "الرياض",
          "الرياض",
          "المنطقة الشرقية",
          "الرياض",
          "الرياض",
          "الرياض",
          "المنطقة الشرقية",
          "مكة المكرمة",
          "مكة المكرمة",
          "المنطقة الشرقية",
          "المنطقة الشرقية",
          "المنطقة الشرقية",
          "مكة المكرمة",
          "مكة المكرمة",
          "مكة المكرمة",
          "الرياض",
          "الرياض",
          "الرياض",
          "الرياض",
          "الرياض",
          "الرياض",
          "الرياض",
          "الرياض",
          "الباحة",
          "الرياض",
          "مكة المكرمة",
          "مكة المكرمة",
          "المنطقة الشرقية",
          "الرياض",
          "المدينة المنورة",
          "مكة المكرمة",
          "مكة المكرمة",
          "الرياض",
          "الرياض",
          "الرياض",
          "الرياض",
          "الرياض",
          "المدينة المنورة",
          "المدينة المنورة",
          "الرياض",
          "الرياض",
          "الرياض",
          "الرياض",
          "الرياض",
          "الرياض",
          "مكة المكرمة",
          "المنطقة الشرقية",
          "المنطقة الشرقية",
          "الرياض",
          "مكة المكرمة",
          "الرياض",
          "القصيم",
          "الرياض",
          "الرياض",
          "المدينة المنورة",
          "المنطقة الشرقية",
          "مكة المكرمة",
          "مكة المكرمة",
          "مكة المكرمة",
          "الرياض",
          "الرياض",
          "الرياض",
          "المنطقة الشرقية",
          "مكة المكرمة",
          "مكة المكرمة",
          "الرياض",
          "الرياض",
          "المدينة المنورة",
          "المدينة المنورة",
          "عسير",
          "الرياض",
          "عسير",
          "حائل",
          "المنطقة الشرقية",
          "المنطقة الشرقية",
          "المنطقة الشرقية",
          "الرياض",
          "المنطقة الشرقية",
          "الرياض",
          "الرياض",
          "الرياض",
          "الرياض",
          "الرياض",
          "الرياض",
          "الرياض",
          "الرياض",
          "الرياض",
          "الرياض",
          "الرياض",
          "الرياض",
          "المنطقة الشرقية",
          "الرياض",
          "حائل",
          "الرياض",
          "الرياض",
          "الرياض",
          "الرياض",
          "الرياض",
          "الرياض",
          "الرياض",
          "الرياض",
          "حائل",
          "الرياض",
          "حائل",
          "الرياض",
          "الرياض",
          "الرياض",
          "المنطقة الشرقية",
          "الرياض",
          "المدينة المنورة",
          "نجران",
          "الرياض",
          "الرياض",
          "المدينة المنورة",
          "المنطقة الشرقية",
          "الرياض",
          "الرياض",
          "الرياض",
          "الرياض",
          "الرياض",
          "الرياض",
          "الرياض",
          "الرياض",
          "المنطقة الشرقية",
          "الرياض",
          "القصيم",
          "المدينة المنورة",
          "الرياض",
          "الرياض",
          "الرياض",
          "الرياض",
          "الرياض",
          "مكة المكرمة",
          "الرياض",
          "الرياض",
          "الرياض",
          "الرياض",
          "الرياض",
          "الرياض",
          "المنطقة الشرقية",
          "الرياض",
          "المنطقة الشرقية",
          "المنطقة الشرقية",
          "مكة المكرمة",
          "المنطقة الشرقية",
          "الرياض",
          "مكة المكرمة",
          "الرياض",
          "المنطقة الشرقية"
         ],
         "xaxis": "x",
         "y": [
          1,
          1,
          1,
          1,
          1,
          1,
          1,
          1,
          1,
          1,
          1,
          1,
          1,
          1,
          1,
          1,
          1,
          1,
          1,
          1,
          1,
          1,
          1,
          1,
          1,
          1,
          1,
          1,
          1,
          1,
          1,
          1,
          1,
          1,
          1,
          1,
          1,
          1,
          1,
          1,
          1,
          1,
          1,
          1,
          1,
          1,
          1,
          1,
          1,
          1,
          1,
          1,
          1,
          1,
          1,
          1,
          1,
          1,
          1,
          1,
          1,
          1,
          1,
          1,
          1,
          1,
          1,
          1,
          1,
          1,
          1,
          1,
          1,
          1,
          1,
          1,
          1,
          1,
          1,
          1,
          1,
          1,
          1,
          1,
          1,
          1,
          1,
          1,
          1,
          1,
          1,
          1,
          1,
          1,
          1,
          1,
          1,
          1,
          1,
          1,
          1,
          1,
          1,
          1,
          1,
          1,
          1,
          1,
          1,
          1,
          1,
          1,
          1,
          1,
          1,
          1,
          1,
          1,
          1,
          1,
          1,
          1,
          1,
          1,
          1,
          1,
          1,
          1,
          1,
          1,
          1,
          1,
          1,
          1,
          1,
          1,
          1,
          1,
          1,
          1,
          1,
          1,
          1,
          1,
          1,
          1,
          1,
          1,
          1,
          1,
          1,
          1,
          1,
          1,
          1,
          1,
          1,
          1,
          1,
          1,
          1,
          1,
          1,
          1,
          1,
          1,
          1,
          1,
          1,
          1,
          1,
          1,
          1,
          1,
          1,
          1,
          1,
          1,
          1,
          1,
          1,
          1,
          1,
          1,
          1,
          1,
          1,
          1,
          1,
          1,
          1,
          1,
          1,
          1,
          1,
          1,
          1,
          1,
          1,
          1,
          1,
          1,
          1,
          1,
          1,
          1,
          1,
          1,
          1,
          1,
          1,
          1,
          1,
          1,
          1,
          1,
          1,
          1,
          1,
          1,
          1,
          1,
          1,
          1,
          1,
          1,
          1,
          1,
          1,
          1,
          1,
          1,
          1,
          1,
          1,
          1,
          1,
          1,
          1,
          1,
          1,
          1,
          1,
          1,
          1,
          1,
          1,
          1,
          1,
          1,
          1,
          1,
          1,
          1,
          1,
          1,
          1,
          1,
          1,
          1,
          1,
          1,
          1,
          1,
          1,
          1,
          1,
          1,
          1,
          1,
          1,
          1,
          1,
          1,
          1,
          1,
          1,
          1,
          1,
          1,
          1,
          1,
          1,
          1,
          1,
          1,
          1,
          1,
          1,
          1,
          1,
          1,
          1,
          1,
          1,
          1,
          1,
          1,
          1,
          1,
          1,
          1,
          1,
          1,
          1,
          1,
          1,
          1,
          1,
          1,
          1,
          1,
          1,
          1,
          1,
          1,
          1,
          1,
          1,
          1,
          1,
          1,
          1,
          1,
          1,
          1,
          1,
          1,
          1,
          1,
          1,
          1,
          1,
          1,
          1,
          1,
          1,
          1,
          1,
          1,
          1,
          1,
          1,
          1,
          1,
          1,
          1,
          1,
          1,
          1,
          1,
          1,
          1,
          1,
          1,
          1,
          1,
          1,
          1,
          1,
          1,
          1,
          1,
          1,
          1,
          1,
          1,
          1,
          1,
          1,
          1,
          1,
          1,
          1,
          1,
          1,
          1,
          1,
          1,
          1,
          1,
          1,
          1,
          1,
          1,
          1,
          1,
          1,
          1,
          1,
          1,
          1,
          1,
          1,
          1,
          1,
          1,
          1,
          1,
          1,
          1,
          1,
          1,
          1,
          1,
          1,
          1,
          1,
          1,
          1,
          1,
          1,
          1,
          1,
          1,
          1,
          1,
          1,
          1,
          1,
          1,
          1,
          1,
          1,
          1,
          1,
          1,
          1,
          1,
          1,
          1,
          1,
          1,
          1,
          1,
          1,
          1,
          1,
          1,
          1,
          1,
          1,
          1,
          1,
          1,
          1,
          1,
          1,
          1,
          1,
          1,
          1,
          1,
          1,
          1,
          1,
          1,
          1,
          1,
          1,
          1,
          1,
          1,
          1,
          1,
          1,
          1,
          1,
          1,
          1,
          1,
          1,
          1,
          1,
          1,
          1,
          1,
          1,
          1,
          1,
          1,
          1,
          1,
          1,
          1,
          1,
          1,
          1,
          1,
          1,
          1,
          1,
          1,
          1,
          1,
          1,
          1,
          1,
          1,
          1,
          1,
          1,
          1,
          1,
          1,
          1,
          1,
          1,
          1,
          1,
          1,
          1,
          1,
          1,
          1,
          1,
          1,
          1,
          1,
          1,
          1,
          1,
          1,
          1,
          1,
          1,
          1,
          1,
          1,
          1,
          1,
          1,
          1,
          1,
          1,
          1,
          1,
          1,
          1,
          1,
          1,
          1,
          1,
          1,
          1,
          1,
          1,
          1,
          1,
          1,
          1,
          1,
          1,
          1,
          1,
          1,
          1,
          1,
          1,
          1,
          1,
          1,
          1,
          1,
          1,
          1,
          1,
          1,
          1,
          1,
          1,
          1,
          1,
          1,
          1,
          1,
          1,
          1,
          1,
          1,
          1,
          1,
          1,
          1,
          1,
          1,
          1,
          1,
          1,
          1,
          1,
          1,
          1,
          1,
          1,
          1,
          1,
          1,
          1,
          1,
          1,
          1,
          1,
          1,
          1,
          1,
          1,
          1,
          1,
          1,
          1,
          1,
          1,
          1,
          1,
          1,
          1,
          1,
          1,
          1,
          1,
          1,
          1,
          1,
          1,
          1,
          1,
          1,
          1,
          1,
          1,
          1,
          1,
          1,
          1,
          1,
          1,
          1,
          1,
          1,
          1,
          1,
          1,
          1,
          1,
          1,
          1,
          1,
          1,
          1,
          1,
          1,
          1,
          1,
          1,
          1,
          1,
          1,
          1,
          1,
          1,
          1,
          1,
          1,
          1,
          1,
          1,
          1,
          1,
          1,
          1,
          1,
          1,
          1,
          1,
          1,
          1,
          1,
          1,
          1,
          1,
          1,
          1,
          1,
          1,
          1,
          1,
          1,
          1,
          1,
          1,
          1,
          1,
          1,
          1,
          1,
          1,
          1,
          1,
          1,
          1,
          1,
          1,
          1,
          1,
          1,
          1,
          1,
          1,
          1,
          1,
          1,
          1,
          1,
          1,
          1,
          1,
          1,
          1,
          1,
          1,
          1,
          1,
          1,
          1,
          1,
          1,
          1,
          1,
          1,
          1,
          1,
          1,
          1,
          1,
          1,
          1,
          1,
          1,
          1,
          1,
          1,
          1,
          1,
          1,
          1,
          1,
          1,
          1,
          1,
          1,
          1,
          1,
          1,
          1,
          1,
          1,
          1,
          1,
          1,
          1,
          1,
          1,
          1,
          1,
          1,
          1,
          1,
          1,
          1,
          1,
          1,
          1,
          1,
          1,
          1,
          1,
          1,
          1,
          1,
          1,
          1,
          1,
          1,
          1,
          1,
          1,
          1,
          1,
          1,
          1,
          1,
          1,
          1,
          1,
          1,
          1,
          1,
          1,
          1,
          1,
          1,
          1,
          1,
          1,
          1,
          1,
          1,
          1,
          1,
          1,
          1,
          1,
          1,
          1,
          1,
          1,
          1,
          1,
          1,
          1,
          1,
          1,
          1,
          1,
          1,
          1,
          1,
          1,
          1,
          1,
          1,
          1,
          1,
          1,
          1,
          1,
          1,
          1,
          1,
          1,
          1,
          1,
          1,
          1,
          1,
          1,
          1,
          1,
          1,
          1,
          1,
          1,
          1,
          1,
          1,
          1,
          1,
          1,
          1,
          1,
          1,
          1,
          1,
          1,
          1,
          1,
          1,
          1,
          1,
          1,
          1,
          1,
          1,
          1,
          1,
          1,
          1,
          1,
          1,
          1,
          1,
          1,
          1,
          1,
          1,
          1,
          1,
          1,
          1,
          1,
          1,
          1,
          1,
          1,
          1,
          1,
          1,
          1,
          1,
          1,
          1,
          1,
          1,
          1,
          1,
          1,
          1,
          1,
          1,
          1,
          1,
          1,
          1,
          1,
          1,
          1,
          1,
          1,
          1,
          1,
          1,
          1,
          1,
          1,
          1,
          1,
          1,
          1,
          1,
          1,
          1,
          1,
          1,
          1,
          1,
          1,
          1,
          1,
          1,
          1,
          1,
          1,
          1,
          1,
          1,
          1,
          1,
          1,
          1,
          1,
          1,
          1,
          1,
          1,
          1,
          1,
          1,
          1,
          1,
          1,
          1,
          1,
          1,
          1,
          1,
          1,
          1,
          1,
          1,
          1,
          1,
          1,
          1,
          1,
          1,
          1,
          1,
          1,
          1,
          1,
          1,
          1,
          1,
          1,
          1,
          1,
          1,
          1,
          1,
          1,
          1,
          1,
          1,
          1,
          1,
          1,
          1,
          1,
          1,
          1,
          1,
          1,
          1,
          1,
          1,
          1,
          1,
          1,
          1,
          1,
          1,
          1,
          1,
          1,
          1,
          1,
          1,
          1,
          1,
          1,
          1,
          1,
          1,
          1,
          1,
          1,
          1,
          1,
          1,
          1,
          1,
          1,
          1,
          1,
          1,
          1,
          1,
          1,
          1,
          1,
          1,
          1,
          1,
          1,
          1,
          1,
          1,
          1,
          1,
          1,
          1,
          1,
          1,
          1,
          1,
          1,
          1,
          1,
          1,
          1,
          1,
          1,
          1,
          1,
          1,
          1,
          1,
          1,
          1,
          1,
          1,
          1,
          1,
          1,
          1,
          1,
          1,
          1,
          1,
          1,
          1,
          1,
          1,
          1,
          1,
          1,
          1,
          1,
          1,
          1,
          1,
          1,
          1,
          1,
          1,
          1,
          1,
          1,
          1,
          1,
          1,
          1,
          1,
          1,
          1,
          1,
          1,
          1,
          1,
          1,
          1,
          1,
          1,
          1,
          1,
          1,
          1,
          1,
          1,
          1,
          1,
          1,
          1,
          1,
          1,
          1,
          1,
          1,
          1,
          1,
          1,
          1,
          1,
          1,
          1,
          1,
          1,
          1,
          1,
          1,
          1,
          1,
          1,
          1,
          1,
          1,
          1,
          1,
          1,
          1,
          1,
          1,
          1,
          1,
          1,
          1,
          1,
          1,
          1,
          1,
          1,
          1,
          1,
          1,
          1,
          1,
          1,
          1,
          1,
          1,
          1,
          1,
          1,
          1,
          1,
          1,
          1,
          1,
          1,
          1,
          1,
          1,
          1,
          1,
          1,
          1,
          1,
          1,
          1,
          1,
          1,
          1,
          1,
          1,
          1,
          1,
          1,
          1,
          1,
          1,
          1,
          1,
          1,
          1,
          1,
          1,
          1,
          1,
          1,
          1,
          1,
          1,
          1,
          1,
          1,
          1,
          1,
          1,
          1,
          1,
          1,
          1,
          1,
          1,
          1,
          1,
          1,
          1,
          1,
          1,
          1,
          1,
          1,
          1,
          1,
          1,
          1,
          1,
          1,
          1,
          1,
          1,
          1,
          1,
          1,
          1,
          1,
          1,
          1,
          1,
          1,
          1,
          1,
          1,
          1,
          1,
          1,
          1,
          1,
          1,
          1,
          1,
          1,
          1,
          1,
          1,
          1,
          1,
          1,
          1,
          1,
          1,
          1,
          1,
          1,
          1,
          1,
          1,
          1,
          1,
          1,
          1,
          1,
          1,
          1,
          1,
          1,
          1,
          1,
          1,
          1,
          1,
          1,
          1,
          1,
          1,
          1,
          1,
          1,
          1,
          1,
          1,
          1,
          1,
          1,
          1,
          1,
          1,
          1,
          1,
          1,
          1,
          1,
          1,
          1,
          1,
          1,
          1,
          1,
          1,
          1,
          1,
          1,
          1,
          1,
          1,
          1,
          1,
          1,
          1,
          1,
          1,
          1,
          1,
          1,
          1,
          1,
          1,
          1,
          1,
          1,
          1,
          1,
          1,
          1,
          1,
          1,
          1,
          1,
          1,
          1,
          1,
          1,
          1,
          1,
          1,
          1,
          1,
          1,
          1,
          1,
          1,
          1,
          1,
          1,
          1,
          1,
          1,
          1,
          1,
          1,
          1,
          1,
          1,
          1,
          1,
          1,
          1,
          1,
          1,
          1,
          1,
          1,
          1,
          1,
          1,
          1,
          1,
          1,
          1,
          1,
          1,
          1,
          1,
          1,
          1,
          1,
          1,
          1,
          1,
          1,
          1,
          1,
          1,
          1,
          1,
          1,
          1,
          1,
          1,
          1,
          1,
          1,
          1,
          1,
          1,
          1,
          1,
          1,
          1,
          1,
          1,
          1,
          1,
          1,
          1,
          1,
          1,
          1,
          1,
          1,
          1,
          1,
          1,
          1,
          1,
          1,
          1,
          1,
          1,
          1,
          1,
          1,
          1,
          1,
          1,
          1,
          1,
          1,
          1,
          1,
          1,
          1,
          1,
          1,
          1,
          1,
          1,
          1,
          1,
          1,
          1,
          1,
          1,
          1,
          1,
          1,
          1
         ],
         "yaxis": "y"
        }
       ],
       "layout": {
        "barmode": "relative",
        "legend": {
         "tracegroupgap": 0
        },
        "margin": {
         "t": 60
        },
        "template": {
         "data": {
          "bar": [
           {
            "error_x": {
             "color": "#2a3f5f"
            },
            "error_y": {
             "color": "#2a3f5f"
            },
            "marker": {
             "line": {
              "color": "#E5ECF6",
              "width": 0.5
             },
             "pattern": {
              "fillmode": "overlay",
              "size": 10,
              "solidity": 0.2
             }
            },
            "type": "bar"
           }
          ],
          "barpolar": [
           {
            "marker": {
             "line": {
              "color": "#E5ECF6",
              "width": 0.5
             },
             "pattern": {
              "fillmode": "overlay",
              "size": 10,
              "solidity": 0.2
             }
            },
            "type": "barpolar"
           }
          ],
          "carpet": [
           {
            "aaxis": {
             "endlinecolor": "#2a3f5f",
             "gridcolor": "white",
             "linecolor": "white",
             "minorgridcolor": "white",
             "startlinecolor": "#2a3f5f"
            },
            "baxis": {
             "endlinecolor": "#2a3f5f",
             "gridcolor": "white",
             "linecolor": "white",
             "minorgridcolor": "white",
             "startlinecolor": "#2a3f5f"
            },
            "type": "carpet"
           }
          ],
          "choropleth": [
           {
            "colorbar": {
             "outlinewidth": 0,
             "ticks": ""
            },
            "type": "choropleth"
           }
          ],
          "contour": [
           {
            "colorbar": {
             "outlinewidth": 0,
             "ticks": ""
            },
            "colorscale": [
             [
              0,
              "#0d0887"
             ],
             [
              0.1111111111111111,
              "#46039f"
             ],
             [
              0.2222222222222222,
              "#7201a8"
             ],
             [
              0.3333333333333333,
              "#9c179e"
             ],
             [
              0.4444444444444444,
              "#bd3786"
             ],
             [
              0.5555555555555556,
              "#d8576b"
             ],
             [
              0.6666666666666666,
              "#ed7953"
             ],
             [
              0.7777777777777778,
              "#fb9f3a"
             ],
             [
              0.8888888888888888,
              "#fdca26"
             ],
             [
              1,
              "#f0f921"
             ]
            ],
            "type": "contour"
           }
          ],
          "contourcarpet": [
           {
            "colorbar": {
             "outlinewidth": 0,
             "ticks": ""
            },
            "type": "contourcarpet"
           }
          ],
          "heatmap": [
           {
            "colorbar": {
             "outlinewidth": 0,
             "ticks": ""
            },
            "colorscale": [
             [
              0,
              "#0d0887"
             ],
             [
              0.1111111111111111,
              "#46039f"
             ],
             [
              0.2222222222222222,
              "#7201a8"
             ],
             [
              0.3333333333333333,
              "#9c179e"
             ],
             [
              0.4444444444444444,
              "#bd3786"
             ],
             [
              0.5555555555555556,
              "#d8576b"
             ],
             [
              0.6666666666666666,
              "#ed7953"
             ],
             [
              0.7777777777777778,
              "#fb9f3a"
             ],
             [
              0.8888888888888888,
              "#fdca26"
             ],
             [
              1,
              "#f0f921"
             ]
            ],
            "type": "heatmap"
           }
          ],
          "heatmapgl": [
           {
            "colorbar": {
             "outlinewidth": 0,
             "ticks": ""
            },
            "colorscale": [
             [
              0,
              "#0d0887"
             ],
             [
              0.1111111111111111,
              "#46039f"
             ],
             [
              0.2222222222222222,
              "#7201a8"
             ],
             [
              0.3333333333333333,
              "#9c179e"
             ],
             [
              0.4444444444444444,
              "#bd3786"
             ],
             [
              0.5555555555555556,
              "#d8576b"
             ],
             [
              0.6666666666666666,
              "#ed7953"
             ],
             [
              0.7777777777777778,
              "#fb9f3a"
             ],
             [
              0.8888888888888888,
              "#fdca26"
             ],
             [
              1,
              "#f0f921"
             ]
            ],
            "type": "heatmapgl"
           }
          ],
          "histogram": [
           {
            "marker": {
             "pattern": {
              "fillmode": "overlay",
              "size": 10,
              "solidity": 0.2
             }
            },
            "type": "histogram"
           }
          ],
          "histogram2d": [
           {
            "colorbar": {
             "outlinewidth": 0,
             "ticks": ""
            },
            "colorscale": [
             [
              0,
              "#0d0887"
             ],
             [
              0.1111111111111111,
              "#46039f"
             ],
             [
              0.2222222222222222,
              "#7201a8"
             ],
             [
              0.3333333333333333,
              "#9c179e"
             ],
             [
              0.4444444444444444,
              "#bd3786"
             ],
             [
              0.5555555555555556,
              "#d8576b"
             ],
             [
              0.6666666666666666,
              "#ed7953"
             ],
             [
              0.7777777777777778,
              "#fb9f3a"
             ],
             [
              0.8888888888888888,
              "#fdca26"
             ],
             [
              1,
              "#f0f921"
             ]
            ],
            "type": "histogram2d"
           }
          ],
          "histogram2dcontour": [
           {
            "colorbar": {
             "outlinewidth": 0,
             "ticks": ""
            },
            "colorscale": [
             [
              0,
              "#0d0887"
             ],
             [
              0.1111111111111111,
              "#46039f"
             ],
             [
              0.2222222222222222,
              "#7201a8"
             ],
             [
              0.3333333333333333,
              "#9c179e"
             ],
             [
              0.4444444444444444,
              "#bd3786"
             ],
             [
              0.5555555555555556,
              "#d8576b"
             ],
             [
              0.6666666666666666,
              "#ed7953"
             ],
             [
              0.7777777777777778,
              "#fb9f3a"
             ],
             [
              0.8888888888888888,
              "#fdca26"
             ],
             [
              1,
              "#f0f921"
             ]
            ],
            "type": "histogram2dcontour"
           }
          ],
          "mesh3d": [
           {
            "colorbar": {
             "outlinewidth": 0,
             "ticks": ""
            },
            "type": "mesh3d"
           }
          ],
          "parcoords": [
           {
            "line": {
             "colorbar": {
              "outlinewidth": 0,
              "ticks": ""
             }
            },
            "type": "parcoords"
           }
          ],
          "pie": [
           {
            "automargin": true,
            "type": "pie"
           }
          ],
          "scatter": [
           {
            "fillpattern": {
             "fillmode": "overlay",
             "size": 10,
             "solidity": 0.2
            },
            "type": "scatter"
           }
          ],
          "scatter3d": [
           {
            "line": {
             "colorbar": {
              "outlinewidth": 0,
              "ticks": ""
             }
            },
            "marker": {
             "colorbar": {
              "outlinewidth": 0,
              "ticks": ""
             }
            },
            "type": "scatter3d"
           }
          ],
          "scattercarpet": [
           {
            "marker": {
             "colorbar": {
              "outlinewidth": 0,
              "ticks": ""
             }
            },
            "type": "scattercarpet"
           }
          ],
          "scattergeo": [
           {
            "marker": {
             "colorbar": {
              "outlinewidth": 0,
              "ticks": ""
             }
            },
            "type": "scattergeo"
           }
          ],
          "scattergl": [
           {
            "marker": {
             "colorbar": {
              "outlinewidth": 0,
              "ticks": ""
             }
            },
            "type": "scattergl"
           }
          ],
          "scattermapbox": [
           {
            "marker": {
             "colorbar": {
              "outlinewidth": 0,
              "ticks": ""
             }
            },
            "type": "scattermapbox"
           }
          ],
          "scatterpolar": [
           {
            "marker": {
             "colorbar": {
              "outlinewidth": 0,
              "ticks": ""
             }
            },
            "type": "scatterpolar"
           }
          ],
          "scatterpolargl": [
           {
            "marker": {
             "colorbar": {
              "outlinewidth": 0,
              "ticks": ""
             }
            },
            "type": "scatterpolargl"
           }
          ],
          "scatterternary": [
           {
            "marker": {
             "colorbar": {
              "outlinewidth": 0,
              "ticks": ""
             }
            },
            "type": "scatterternary"
           }
          ],
          "surface": [
           {
            "colorbar": {
             "outlinewidth": 0,
             "ticks": ""
            },
            "colorscale": [
             [
              0,
              "#0d0887"
             ],
             [
              0.1111111111111111,
              "#46039f"
             ],
             [
              0.2222222222222222,
              "#7201a8"
             ],
             [
              0.3333333333333333,
              "#9c179e"
             ],
             [
              0.4444444444444444,
              "#bd3786"
             ],
             [
              0.5555555555555556,
              "#d8576b"
             ],
             [
              0.6666666666666666,
              "#ed7953"
             ],
             [
              0.7777777777777778,
              "#fb9f3a"
             ],
             [
              0.8888888888888888,
              "#fdca26"
             ],
             [
              1,
              "#f0f921"
             ]
            ],
            "type": "surface"
           }
          ],
          "table": [
           {
            "cells": {
             "fill": {
              "color": "#EBF0F8"
             },
             "line": {
              "color": "white"
             }
            },
            "header": {
             "fill": {
              "color": "#C8D4E3"
             },
             "line": {
              "color": "white"
             }
            },
            "type": "table"
           }
          ]
         },
         "layout": {
          "annotationdefaults": {
           "arrowcolor": "#2a3f5f",
           "arrowhead": 0,
           "arrowwidth": 1
          },
          "autotypenumbers": "strict",
          "coloraxis": {
           "colorbar": {
            "outlinewidth": 0,
            "ticks": ""
           }
          },
          "colorscale": {
           "diverging": [
            [
             0,
             "#8e0152"
            ],
            [
             0.1,
             "#c51b7d"
            ],
            [
             0.2,
             "#de77ae"
            ],
            [
             0.3,
             "#f1b6da"
            ],
            [
             0.4,
             "#fde0ef"
            ],
            [
             0.5,
             "#f7f7f7"
            ],
            [
             0.6,
             "#e6f5d0"
            ],
            [
             0.7,
             "#b8e186"
            ],
            [
             0.8,
             "#7fbc41"
            ],
            [
             0.9,
             "#4d9221"
            ],
            [
             1,
             "#276419"
            ]
           ],
           "sequential": [
            [
             0,
             "#0d0887"
            ],
            [
             0.1111111111111111,
             "#46039f"
            ],
            [
             0.2222222222222222,
             "#7201a8"
            ],
            [
             0.3333333333333333,
             "#9c179e"
            ],
            [
             0.4444444444444444,
             "#bd3786"
            ],
            [
             0.5555555555555556,
             "#d8576b"
            ],
            [
             0.6666666666666666,
             "#ed7953"
            ],
            [
             0.7777777777777778,
             "#fb9f3a"
            ],
            [
             0.8888888888888888,
             "#fdca26"
            ],
            [
             1,
             "#f0f921"
            ]
           ],
           "sequentialminus": [
            [
             0,
             "#0d0887"
            ],
            [
             0.1111111111111111,
             "#46039f"
            ],
            [
             0.2222222222222222,
             "#7201a8"
            ],
            [
             0.3333333333333333,
             "#9c179e"
            ],
            [
             0.4444444444444444,
             "#bd3786"
            ],
            [
             0.5555555555555556,
             "#d8576b"
            ],
            [
             0.6666666666666666,
             "#ed7953"
            ],
            [
             0.7777777777777778,
             "#fb9f3a"
            ],
            [
             0.8888888888888888,
             "#fdca26"
            ],
            [
             1,
             "#f0f921"
            ]
           ]
          },
          "colorway": [
           "#636efa",
           "#EF553B",
           "#00cc96",
           "#ab63fa",
           "#FFA15A",
           "#19d3f3",
           "#FF6692",
           "#B6E880",
           "#FF97FF",
           "#FECB52"
          ],
          "font": {
           "color": "#2a3f5f"
          },
          "geo": {
           "bgcolor": "white",
           "lakecolor": "white",
           "landcolor": "#E5ECF6",
           "showlakes": true,
           "showland": true,
           "subunitcolor": "white"
          },
          "hoverlabel": {
           "align": "left"
          },
          "hovermode": "closest",
          "mapbox": {
           "style": "light"
          },
          "paper_bgcolor": "white",
          "plot_bgcolor": "#E5ECF6",
          "polar": {
           "angularaxis": {
            "gridcolor": "white",
            "linecolor": "white",
            "ticks": ""
           },
           "bgcolor": "#E5ECF6",
           "radialaxis": {
            "gridcolor": "white",
            "linecolor": "white",
            "ticks": ""
           }
          },
          "scene": {
           "xaxis": {
            "backgroundcolor": "#E5ECF6",
            "gridcolor": "white",
            "gridwidth": 2,
            "linecolor": "white",
            "showbackground": true,
            "ticks": "",
            "zerolinecolor": "white"
           },
           "yaxis": {
            "backgroundcolor": "#E5ECF6",
            "gridcolor": "white",
            "gridwidth": 2,
            "linecolor": "white",
            "showbackground": true,
            "ticks": "",
            "zerolinecolor": "white"
           },
           "zaxis": {
            "backgroundcolor": "#E5ECF6",
            "gridcolor": "white",
            "gridwidth": 2,
            "linecolor": "white",
            "showbackground": true,
            "ticks": "",
            "zerolinecolor": "white"
           }
          },
          "shapedefaults": {
           "line": {
            "color": "#2a3f5f"
           }
          },
          "ternary": {
           "aaxis": {
            "gridcolor": "white",
            "linecolor": "white",
            "ticks": ""
           },
           "baxis": {
            "gridcolor": "white",
            "linecolor": "white",
            "ticks": ""
           },
           "bgcolor": "#E5ECF6",
           "caxis": {
            "gridcolor": "white",
            "linecolor": "white",
            "ticks": ""
           }
          },
          "title": {
           "x": 0.05
          },
          "xaxis": {
           "automargin": true,
           "gridcolor": "white",
           "linecolor": "white",
           "ticks": "",
           "title": {
            "standoff": 15
           },
           "zerolinecolor": "white",
           "zerolinewidth": 2
          },
          "yaxis": {
           "automargin": true,
           "gridcolor": "white",
           "linecolor": "white",
           "ticks": "",
           "title": {
            "standoff": 15
           },
           "zerolinecolor": "white",
           "zerolinewidth": 2
          }
         }
        },
        "xaxis": {
         "anchor": "y",
         "domain": [
          0,
          1
         ],
         "title": {
          "text": "Region"
         }
        },
        "yaxis": {
         "anchor": "x",
         "domain": [
          0,
          1
         ],
         "title": {
          "text": " Number of Jobs"
         }
        }
       }
      }
     },
     "metadata": {},
     "output_type": "display_data"
    }
   ],
   "source": [
    "#as we can see riyadh has the most job postings\n",
    "fig = px.bar(jobs_df, x='region',labels={\"region\":\"Region\", \"count\":\" Number of Jobs\"})\n",
    "fig.show()"
   ]
  },
  {
   "cell_type": "markdown",
   "id": "0d57c4b9-9bb3-494d-85dd-b8d39afda139",
   "metadata": {},
   "source": [
    "#### I. Categorical Variables:\n",
    "\n",
    "we’ll use frequency table to understand distribution of each category\n",
    "- Bar Chart (Ordinal) - Orderd\n",
    "- Pie Chart (Nominal) - non Orderd"
   ]
  },
  {
   "cell_type": "code",
   "execution_count": 176,
   "id": "72ece4b7-5508-403a-8fb0-f519fc74272a",
   "metadata": {},
   "outputs": [],
   "source": [
    "gender_count  = jobs_df[\"gender\"].value_counts()\n"
   ]
  },
  {
   "cell_type": "code",
   "execution_count": 190,
   "id": "efc16345",
   "metadata": {},
   "outputs": [
    {
     "data": {
      "application/vnd.plotly.v1+json": {
       "config": {
        "plotlyServerURL": "https://plot.ly"
       },
       "data": [
        {
         "domain": {
          "x": [
           0,
           1
          ],
          "y": [
           0,
           1
          ]
         },
         "hovertemplate": "label=%{label}<br>value=%{value}<extra></extra>",
         "labels": [
          "both",
          "M",
          "F"
         ],
         "legendgroup": "",
         "name": "",
         "showlegend": true,
         "type": "pie",
         "values": [
          586,
          480,
          403
         ]
        }
       ],
       "layout": {
        "legend": {
         "tracegroupgap": 0
        },
        "margin": {
         "t": 60
        },
        "template": {
         "data": {
          "bar": [
           {
            "error_x": {
             "color": "#2a3f5f"
            },
            "error_y": {
             "color": "#2a3f5f"
            },
            "marker": {
             "line": {
              "color": "#E5ECF6",
              "width": 0.5
             },
             "pattern": {
              "fillmode": "overlay",
              "size": 10,
              "solidity": 0.2
             }
            },
            "type": "bar"
           }
          ],
          "barpolar": [
           {
            "marker": {
             "line": {
              "color": "#E5ECF6",
              "width": 0.5
             },
             "pattern": {
              "fillmode": "overlay",
              "size": 10,
              "solidity": 0.2
             }
            },
            "type": "barpolar"
           }
          ],
          "carpet": [
           {
            "aaxis": {
             "endlinecolor": "#2a3f5f",
             "gridcolor": "white",
             "linecolor": "white",
             "minorgridcolor": "white",
             "startlinecolor": "#2a3f5f"
            },
            "baxis": {
             "endlinecolor": "#2a3f5f",
             "gridcolor": "white",
             "linecolor": "white",
             "minorgridcolor": "white",
             "startlinecolor": "#2a3f5f"
            },
            "type": "carpet"
           }
          ],
          "choropleth": [
           {
            "colorbar": {
             "outlinewidth": 0,
             "ticks": ""
            },
            "type": "choropleth"
           }
          ],
          "contour": [
           {
            "colorbar": {
             "outlinewidth": 0,
             "ticks": ""
            },
            "colorscale": [
             [
              0,
              "#0d0887"
             ],
             [
              0.1111111111111111,
              "#46039f"
             ],
             [
              0.2222222222222222,
              "#7201a8"
             ],
             [
              0.3333333333333333,
              "#9c179e"
             ],
             [
              0.4444444444444444,
              "#bd3786"
             ],
             [
              0.5555555555555556,
              "#d8576b"
             ],
             [
              0.6666666666666666,
              "#ed7953"
             ],
             [
              0.7777777777777778,
              "#fb9f3a"
             ],
             [
              0.8888888888888888,
              "#fdca26"
             ],
             [
              1,
              "#f0f921"
             ]
            ],
            "type": "contour"
           }
          ],
          "contourcarpet": [
           {
            "colorbar": {
             "outlinewidth": 0,
             "ticks": ""
            },
            "type": "contourcarpet"
           }
          ],
          "heatmap": [
           {
            "colorbar": {
             "outlinewidth": 0,
             "ticks": ""
            },
            "colorscale": [
             [
              0,
              "#0d0887"
             ],
             [
              0.1111111111111111,
              "#46039f"
             ],
             [
              0.2222222222222222,
              "#7201a8"
             ],
             [
              0.3333333333333333,
              "#9c179e"
             ],
             [
              0.4444444444444444,
              "#bd3786"
             ],
             [
              0.5555555555555556,
              "#d8576b"
             ],
             [
              0.6666666666666666,
              "#ed7953"
             ],
             [
              0.7777777777777778,
              "#fb9f3a"
             ],
             [
              0.8888888888888888,
              "#fdca26"
             ],
             [
              1,
              "#f0f921"
             ]
            ],
            "type": "heatmap"
           }
          ],
          "heatmapgl": [
           {
            "colorbar": {
             "outlinewidth": 0,
             "ticks": ""
            },
            "colorscale": [
             [
              0,
              "#0d0887"
             ],
             [
              0.1111111111111111,
              "#46039f"
             ],
             [
              0.2222222222222222,
              "#7201a8"
             ],
             [
              0.3333333333333333,
              "#9c179e"
             ],
             [
              0.4444444444444444,
              "#bd3786"
             ],
             [
              0.5555555555555556,
              "#d8576b"
             ],
             [
              0.6666666666666666,
              "#ed7953"
             ],
             [
              0.7777777777777778,
              "#fb9f3a"
             ],
             [
              0.8888888888888888,
              "#fdca26"
             ],
             [
              1,
              "#f0f921"
             ]
            ],
            "type": "heatmapgl"
           }
          ],
          "histogram": [
           {
            "marker": {
             "pattern": {
              "fillmode": "overlay",
              "size": 10,
              "solidity": 0.2
             }
            },
            "type": "histogram"
           }
          ],
          "histogram2d": [
           {
            "colorbar": {
             "outlinewidth": 0,
             "ticks": ""
            },
            "colorscale": [
             [
              0,
              "#0d0887"
             ],
             [
              0.1111111111111111,
              "#46039f"
             ],
             [
              0.2222222222222222,
              "#7201a8"
             ],
             [
              0.3333333333333333,
              "#9c179e"
             ],
             [
              0.4444444444444444,
              "#bd3786"
             ],
             [
              0.5555555555555556,
              "#d8576b"
             ],
             [
              0.6666666666666666,
              "#ed7953"
             ],
             [
              0.7777777777777778,
              "#fb9f3a"
             ],
             [
              0.8888888888888888,
              "#fdca26"
             ],
             [
              1,
              "#f0f921"
             ]
            ],
            "type": "histogram2d"
           }
          ],
          "histogram2dcontour": [
           {
            "colorbar": {
             "outlinewidth": 0,
             "ticks": ""
            },
            "colorscale": [
             [
              0,
              "#0d0887"
             ],
             [
              0.1111111111111111,
              "#46039f"
             ],
             [
              0.2222222222222222,
              "#7201a8"
             ],
             [
              0.3333333333333333,
              "#9c179e"
             ],
             [
              0.4444444444444444,
              "#bd3786"
             ],
             [
              0.5555555555555556,
              "#d8576b"
             ],
             [
              0.6666666666666666,
              "#ed7953"
             ],
             [
              0.7777777777777778,
              "#fb9f3a"
             ],
             [
              0.8888888888888888,
              "#fdca26"
             ],
             [
              1,
              "#f0f921"
             ]
            ],
            "type": "histogram2dcontour"
           }
          ],
          "mesh3d": [
           {
            "colorbar": {
             "outlinewidth": 0,
             "ticks": ""
            },
            "type": "mesh3d"
           }
          ],
          "parcoords": [
           {
            "line": {
             "colorbar": {
              "outlinewidth": 0,
              "ticks": ""
             }
            },
            "type": "parcoords"
           }
          ],
          "pie": [
           {
            "automargin": true,
            "type": "pie"
           }
          ],
          "scatter": [
           {
            "fillpattern": {
             "fillmode": "overlay",
             "size": 10,
             "solidity": 0.2
            },
            "type": "scatter"
           }
          ],
          "scatter3d": [
           {
            "line": {
             "colorbar": {
              "outlinewidth": 0,
              "ticks": ""
             }
            },
            "marker": {
             "colorbar": {
              "outlinewidth": 0,
              "ticks": ""
             }
            },
            "type": "scatter3d"
           }
          ],
          "scattercarpet": [
           {
            "marker": {
             "colorbar": {
              "outlinewidth": 0,
              "ticks": ""
             }
            },
            "type": "scattercarpet"
           }
          ],
          "scattergeo": [
           {
            "marker": {
             "colorbar": {
              "outlinewidth": 0,
              "ticks": ""
             }
            },
            "type": "scattergeo"
           }
          ],
          "scattergl": [
           {
            "marker": {
             "colorbar": {
              "outlinewidth": 0,
              "ticks": ""
             }
            },
            "type": "scattergl"
           }
          ],
          "scattermapbox": [
           {
            "marker": {
             "colorbar": {
              "outlinewidth": 0,
              "ticks": ""
             }
            },
            "type": "scattermapbox"
           }
          ],
          "scatterpolar": [
           {
            "marker": {
             "colorbar": {
              "outlinewidth": 0,
              "ticks": ""
             }
            },
            "type": "scatterpolar"
           }
          ],
          "scatterpolargl": [
           {
            "marker": {
             "colorbar": {
              "outlinewidth": 0,
              "ticks": ""
             }
            },
            "type": "scatterpolargl"
           }
          ],
          "scatterternary": [
           {
            "marker": {
             "colorbar": {
              "outlinewidth": 0,
              "ticks": ""
             }
            },
            "type": "scatterternary"
           }
          ],
          "surface": [
           {
            "colorbar": {
             "outlinewidth": 0,
             "ticks": ""
            },
            "colorscale": [
             [
              0,
              "#0d0887"
             ],
             [
              0.1111111111111111,
              "#46039f"
             ],
             [
              0.2222222222222222,
              "#7201a8"
             ],
             [
              0.3333333333333333,
              "#9c179e"
             ],
             [
              0.4444444444444444,
              "#bd3786"
             ],
             [
              0.5555555555555556,
              "#d8576b"
             ],
             [
              0.6666666666666666,
              "#ed7953"
             ],
             [
              0.7777777777777778,
              "#fb9f3a"
             ],
             [
              0.8888888888888888,
              "#fdca26"
             ],
             [
              1,
              "#f0f921"
             ]
            ],
            "type": "surface"
           }
          ],
          "table": [
           {
            "cells": {
             "fill": {
              "color": "#EBF0F8"
             },
             "line": {
              "color": "white"
             }
            },
            "header": {
             "fill": {
              "color": "#C8D4E3"
             },
             "line": {
              "color": "white"
             }
            },
            "type": "table"
           }
          ]
         },
         "layout": {
          "annotationdefaults": {
           "arrowcolor": "#2a3f5f",
           "arrowhead": 0,
           "arrowwidth": 1
          },
          "autotypenumbers": "strict",
          "coloraxis": {
           "colorbar": {
            "outlinewidth": 0,
            "ticks": ""
           }
          },
          "colorscale": {
           "diverging": [
            [
             0,
             "#8e0152"
            ],
            [
             0.1,
             "#c51b7d"
            ],
            [
             0.2,
             "#de77ae"
            ],
            [
             0.3,
             "#f1b6da"
            ],
            [
             0.4,
             "#fde0ef"
            ],
            [
             0.5,
             "#f7f7f7"
            ],
            [
             0.6,
             "#e6f5d0"
            ],
            [
             0.7,
             "#b8e186"
            ],
            [
             0.8,
             "#7fbc41"
            ],
            [
             0.9,
             "#4d9221"
            ],
            [
             1,
             "#276419"
            ]
           ],
           "sequential": [
            [
             0,
             "#0d0887"
            ],
            [
             0.1111111111111111,
             "#46039f"
            ],
            [
             0.2222222222222222,
             "#7201a8"
            ],
            [
             0.3333333333333333,
             "#9c179e"
            ],
            [
             0.4444444444444444,
             "#bd3786"
            ],
            [
             0.5555555555555556,
             "#d8576b"
            ],
            [
             0.6666666666666666,
             "#ed7953"
            ],
            [
             0.7777777777777778,
             "#fb9f3a"
            ],
            [
             0.8888888888888888,
             "#fdca26"
            ],
            [
             1,
             "#f0f921"
            ]
           ],
           "sequentialminus": [
            [
             0,
             "#0d0887"
            ],
            [
             0.1111111111111111,
             "#46039f"
            ],
            [
             0.2222222222222222,
             "#7201a8"
            ],
            [
             0.3333333333333333,
             "#9c179e"
            ],
            [
             0.4444444444444444,
             "#bd3786"
            ],
            [
             0.5555555555555556,
             "#d8576b"
            ],
            [
             0.6666666666666666,
             "#ed7953"
            ],
            [
             0.7777777777777778,
             "#fb9f3a"
            ],
            [
             0.8888888888888888,
             "#fdca26"
            ],
            [
             1,
             "#f0f921"
            ]
           ]
          },
          "colorway": [
           "#636efa",
           "#EF553B",
           "#00cc96",
           "#ab63fa",
           "#FFA15A",
           "#19d3f3",
           "#FF6692",
           "#B6E880",
           "#FF97FF",
           "#FECB52"
          ],
          "font": {
           "color": "#2a3f5f"
          },
          "geo": {
           "bgcolor": "white",
           "lakecolor": "white",
           "landcolor": "#E5ECF6",
           "showlakes": true,
           "showland": true,
           "subunitcolor": "white"
          },
          "hoverlabel": {
           "align": "left"
          },
          "hovermode": "closest",
          "mapbox": {
           "style": "light"
          },
          "paper_bgcolor": "white",
          "plot_bgcolor": "#E5ECF6",
          "polar": {
           "angularaxis": {
            "gridcolor": "white",
            "linecolor": "white",
            "ticks": ""
           },
           "bgcolor": "#E5ECF6",
           "radialaxis": {
            "gridcolor": "white",
            "linecolor": "white",
            "ticks": ""
           }
          },
          "scene": {
           "xaxis": {
            "backgroundcolor": "#E5ECF6",
            "gridcolor": "white",
            "gridwidth": 2,
            "linecolor": "white",
            "showbackground": true,
            "ticks": "",
            "zerolinecolor": "white"
           },
           "yaxis": {
            "backgroundcolor": "#E5ECF6",
            "gridcolor": "white",
            "gridwidth": 2,
            "linecolor": "white",
            "showbackground": true,
            "ticks": "",
            "zerolinecolor": "white"
           },
           "zaxis": {
            "backgroundcolor": "#E5ECF6",
            "gridcolor": "white",
            "gridwidth": 2,
            "linecolor": "white",
            "showbackground": true,
            "ticks": "",
            "zerolinecolor": "white"
           }
          },
          "shapedefaults": {
           "line": {
            "color": "#2a3f5f"
           }
          },
          "ternary": {
           "aaxis": {
            "gridcolor": "white",
            "linecolor": "white",
            "ticks": ""
           },
           "baxis": {
            "gridcolor": "white",
            "linecolor": "white",
            "ticks": ""
           },
           "bgcolor": "#E5ECF6",
           "caxis": {
            "gridcolor": "white",
            "linecolor": "white",
            "ticks": ""
           }
          },
          "title": {
           "x": 0.05
          },
          "xaxis": {
           "automargin": true,
           "gridcolor": "white",
           "linecolor": "white",
           "ticks": "",
           "title": {
            "standoff": 15
           },
           "zerolinecolor": "white",
           "zerolinewidth": 2
          },
          "yaxis": {
           "automargin": true,
           "gridcolor": "white",
           "linecolor": "white",
           "ticks": "",
           "title": {
            "standoff": 15
           },
           "zerolinecolor": "white",
           "zerolinewidth": 2
          }
         }
        }
       }
      }
     },
     "metadata": {},
     "output_type": "display_data"
    }
   ],
   "source": [
    "#as we can see there is mostly no gender preference as most companies pref both\n",
    "fig = px.pie(jobs_df,values=gender_count.values,names=gender_count.index)\n",
    "fig.show()"
   ]
  },
  {
   "cell_type": "markdown",
   "id": "d2641f0d-80f2-493b-99b7-15476379a1e2",
   "metadata": {},
   "source": [
    "#### II. Numerical Variables:\n",
    "\n",
    "we need to understand the central tendency and spread of the variable (Descriptive Analysis) using:\n",
    "   - Box plot\n",
    "   - Histogram"
   ]
  },
  {
   "cell_type": "code",
   "execution_count": 246,
   "id": "5be16f08-a072-4a02-a3ee-6f9d57786fb4",
   "metadata": {},
   "outputs": [],
   "source": [
    "fresh_grad_jobs_df = jobs_df.loc[jobs_df['experience (Year)']== 0]"
   ]
  },
  {
   "cell_type": "code",
   "execution_count": 247,
   "id": "208afba4",
   "metadata": {},
   "outputs": [
    {
     "data": {
      "application/vnd.plotly.v1+json": {
       "config": {
        "plotlyServerURL": "https://plot.ly"
       },
       "data": [
        {
         "alignmentgroup": "True",
         "bingroup": "x",
         "hovertemplate": "salary=%{x}<br>count=%{y}<extra></extra>",
         "legendgroup": "",
         "marker": {
          "color": "#636efa",
          "pattern": {
           "shape": ""
          }
         },
         "name": "",
         "offsetgroup": "",
         "orientation": "v",
         "showlegend": false,
         "type": "histogram",
         "x": [
          5000,
          5000,
          5000,
          5000,
          4500,
          7200,
          4000,
          7200,
          5500,
          5000,
          4000,
          4000,
          4000,
          5500,
          3200,
          4500,
          4500,
          4000,
          4000,
          5500,
          4500,
          4500,
          4000,
          5000,
          4000,
          4170,
          4000,
          4500,
          5500,
          6000,
          4000,
          4500,
          4500,
          4000,
          4000,
          4000,
          4000,
          4000,
          4000,
          4000,
          4000,
          4000,
          7000,
          6000,
          4000,
          4000,
          4000,
          7000,
          5000,
          5500,
          3640,
          5000,
          4000,
          5000,
          5500,
          4000,
          4000,
          7000,
          7000,
          4000,
          4000,
          4000,
          4000,
          4000,
          4000,
          5000,
          4500,
          3000,
          4400,
          4000,
          4000,
          4000,
          4000,
          3200,
          4082,
          4000,
          4000,
          4000,
          4000,
          4000,
          4500,
          4000,
          4082,
          4082,
          6000,
          7000,
          4000,
          4000,
          5000,
          5000,
          5000,
          8400,
          8400,
          8400,
          8400,
          6150,
          6000,
          4400,
          7000,
          4000,
          4000,
          4000,
          4000,
          4000,
          5000,
          5000,
          4000,
          5000,
          4500,
          4000,
          4000,
          4000,
          4000,
          4000,
          6500,
          5000,
          6000,
          3000,
          4000,
          5500,
          4000,
          4000,
          4000,
          4000,
          4000,
          4000,
          4782,
          7000,
          5000,
          6000,
          10000,
          4500,
          4000,
          4000,
          4500,
          4000,
          4000,
          6000,
          4000,
          4000,
          4000,
          4000,
          4000,
          5000,
          4000,
          6000,
          4000,
          4000,
          4000,
          4000,
          7000,
          4000,
          4000,
          4000,
          5000,
          5000,
          5000,
          4000,
          5000,
          4375,
          6000,
          4000,
          5000,
          4000,
          5500,
          4000,
          5700,
          6000,
          4000,
          4000,
          5000,
          4000,
          6000,
          6000,
          4000,
          4000,
          4000,
          4000,
          4000,
          4444,
          4800,
          6000,
          6000,
          6000,
          6000,
          6000,
          6000,
          5000,
          7000,
          5000,
          4000,
          4500,
          5000,
          4500,
          4000,
          4000,
          4000,
          5000,
          4000,
          4000,
          9200,
          5000,
          4000,
          5600,
          5600,
          5600,
          4000,
          4000,
          4000,
          5500,
          4800,
          8803,
          4000,
          8803,
          4000,
          7000,
          5000,
          4000,
          4000,
          7000,
          4000,
          4000,
          8000,
          5700,
          5700,
          5700,
          5000,
          5000,
          5000,
          5000,
          4000,
          4000,
          3200,
          4000,
          4000,
          4000,
          6000,
          6000,
          6000,
          3500,
          4000,
          5000,
          4000,
          4000,
          4000,
          5000,
          4000,
          4000,
          5625,
          5000,
          4000,
          5000,
          5000,
          5000,
          5000,
          6000,
          5200,
          4000,
          3600,
          4000,
          4408,
          5000,
          5500,
          4000,
          4000,
          4000,
          5000,
          4000,
          5000,
          4083,
          7000,
          4000,
          4000,
          6500,
          5500,
          4000,
          5000,
          4600,
          4000,
          5000,
          4000,
          8000,
          6000,
          4000,
          4500,
          5000,
          5000,
          4000,
          4000,
          4000,
          4500,
          4000,
          5500,
          4000,
          6250,
          4000,
          4000,
          4000,
          4000,
          4000,
          5500,
          7000,
          4000,
          12325,
          4000,
          5625,
          7000,
          3500,
          6583,
          6583,
          4000,
          6583,
          4000,
          4000,
          4000,
          4000,
          4000,
          4000,
          4000,
          4000,
          4000,
          5500,
          5000,
          4000,
          4000,
          5000,
          4000,
          4500,
          4000,
          4000,
          4500,
          7000,
          4000,
          4000,
          3500,
          4000,
          5000,
          4000,
          4000,
          6000,
          5000,
          4000,
          8000,
          4000,
          4000,
          5000,
          4000,
          5500,
          4500,
          4000,
          4000,
          4500,
          4500,
          4500,
          7000,
          4500,
          4500,
          4500,
          4500,
          6000,
          4750,
          5000,
          4000,
          4000,
          4500,
          4000,
          5000,
          4000,
          4000,
          4000,
          4000,
          3500,
          4000,
          4500,
          4000,
          4000,
          4000,
          5000,
          8000,
          5000,
          5000,
          5000,
          5000,
          4000,
          4000,
          4000,
          4000,
          4320,
          4630,
          4375,
          4500,
          4500,
          4500,
          4000,
          4500,
          4500,
          4500,
          4000,
          4630,
          4630,
          5000,
          4000,
          7000,
          4000,
          6000,
          4000,
          5000,
          6000,
          5000,
          5000,
          7000,
          8500,
          4000,
          5000,
          5200,
          4625,
          4000,
          4500,
          4000,
          4500,
          4500,
          8000,
          8000,
          6500,
          6500,
          5000,
          5000,
          7000,
          4500,
          4500,
          5500,
          5500,
          4500,
          4000,
          5700,
          10250,
          4500,
          4500,
          4500,
          4000,
          4000,
          4000,
          5000,
          4000,
          4000,
          4000,
          4000,
          4000,
          4000,
          4000,
          4000,
          4000,
          5040,
          4170,
          4500,
          4000,
          5000,
          4500,
          4000,
          4000,
          4000,
          4000,
          7000,
          4050,
          4000,
          4000,
          8400,
          8400,
          4000,
          4000,
          4000,
          5000,
          3500,
          4000,
          5000,
          6500,
          4000,
          4000,
          5600,
          7000,
          3500,
          5000,
          4500,
          4500,
          4000,
          4000,
          5000,
          4000,
          5000,
          5000,
          4000,
          5000,
          4000,
          4000,
          6500,
          6000,
          5000,
          5000,
          4200,
          3200,
          4000,
          4000,
          4000,
          4000,
          5000,
          5000,
          4000,
          4000,
          4000,
          4000,
          4000,
          4200,
          4000,
          4000,
          4000,
          4082,
          4000,
          4000,
          6000,
          4000,
          3200,
          4000,
          3200,
          4000,
          4000,
          4000,
          5700,
          4000,
          4000,
          4000,
          4000,
          5000,
          5000,
          4000,
          4000,
          3000,
          4200,
          4000,
          5000,
          4000,
          4000,
          4000,
          4000,
          4000,
          4000,
          7500,
          4000,
          4000,
          4000,
          5271,
          4000,
          4667,
          3200,
          4082,
          4000,
          4000,
          4000,
          4000,
          4000,
          4500,
          5500,
          4000,
          4000,
          4000,
          4000,
          4000,
          4000,
          3640,
          4500,
          4000,
          4000,
          4000,
          4000,
          4001,
          4500,
          5500,
          4000,
          4000,
          4000,
          4000,
          4000,
          4000,
          5200,
          5500,
          4000,
          4000,
          6000,
          5000,
          5700,
          5700,
          5700,
          5625,
          5500,
          5000,
          5000,
          7000,
          4500,
          6000,
          5500,
          8000,
          8000,
          4000,
          4000,
          3200,
          5000,
          5000,
          5000,
          4000,
          6000,
          6000,
          4000,
          6000,
          5500,
          5000,
          5000,
          5000,
          4000,
          4000,
          4000,
          4000,
          5000,
          6500,
          6000,
          6000,
          6000,
          6000,
          4000,
          6000,
          5000,
          5000,
          5000,
          5000,
          4000,
          7000,
          4000,
          4000,
          4000,
          6000,
          4000,
          3200,
          4000,
          3200,
          4000,
          4000,
          5700,
          4000,
          4000,
          4000,
          5000,
          5000,
          3000,
          5000,
          4000,
          4000,
          7757,
          5700,
          4000,
          4000,
          4500,
          3200,
          4500,
          4000,
          4500,
          3500,
          6000,
          4000,
          4000,
          4000,
          6000,
          4000,
          4500,
          4500,
          4000,
          4000,
          4500,
          4500,
          4000,
          4500,
          4500,
          3500,
          4000,
          4000,
          3600,
          3600,
          4000,
          6000,
          6000,
          4000,
          4000,
          4000,
          4000,
          6000,
          4000,
          4200,
          8000,
          6000,
          4500,
          5000,
          6000,
          4000,
          4082,
          10000,
          4000,
          4000,
          5000,
          4000,
          4000,
          4000,
          4082,
          5000,
          6000,
          4000,
          7500,
          4000,
          4000,
          4000,
          6000,
          4000,
          4000,
          4900,
          5000,
          5000,
          5500,
          6000,
          3000,
          4000,
          4000,
          4000,
          6000,
          4200,
          4000,
          5000,
          4000,
          4000,
          3500,
          6000,
          7000,
          4500,
          5500,
          4000,
          4000,
          4000,
          4000,
          4000,
          5000,
          4000,
          4000,
          4000,
          4000,
          4000,
          4000,
          4000,
          4000,
          4000,
          4000,
          6000,
          6000,
          4000,
          5500,
          5500,
          5500,
          4000,
          4000,
          4000,
          7000,
          4000,
          5000,
          6000,
          7000,
          7000,
          4000,
          4500,
          4500,
          5500,
          4000,
          5000,
          4000,
          4000,
          4000,
          5000,
          4000,
          4000,
          4900,
          4000,
          4000,
          4000,
          4000,
          4000,
          4500,
          4000,
          4000,
          5000,
          4500,
          4000,
          4000,
          4000,
          4000,
          4000,
          4000,
          4000,
          4000,
          7000,
          4000,
          4000,
          4000,
          7000,
          7000,
          7000,
          4000,
          4000,
          4000,
          4000,
          4000,
          4000,
          4000,
          4500,
          5500,
          4500,
          4500,
          4000,
          4500,
          6500,
          5000,
          5556,
          4000,
          4000,
          5000,
          4000,
          4000,
          5500,
          7000,
          4000
         ],
         "xaxis": "x",
         "yaxis": "y"
        }
       ],
       "layout": {
        "barmode": "relative",
        "legend": {
         "tracegroupgap": 0
        },
        "margin": {
         "t": 60
        },
        "template": {
         "data": {
          "bar": [
           {
            "error_x": {
             "color": "#2a3f5f"
            },
            "error_y": {
             "color": "#2a3f5f"
            },
            "marker": {
             "line": {
              "color": "#E5ECF6",
              "width": 0.5
             },
             "pattern": {
              "fillmode": "overlay",
              "size": 10,
              "solidity": 0.2
             }
            },
            "type": "bar"
           }
          ],
          "barpolar": [
           {
            "marker": {
             "line": {
              "color": "#E5ECF6",
              "width": 0.5
             },
             "pattern": {
              "fillmode": "overlay",
              "size": 10,
              "solidity": 0.2
             }
            },
            "type": "barpolar"
           }
          ],
          "carpet": [
           {
            "aaxis": {
             "endlinecolor": "#2a3f5f",
             "gridcolor": "white",
             "linecolor": "white",
             "minorgridcolor": "white",
             "startlinecolor": "#2a3f5f"
            },
            "baxis": {
             "endlinecolor": "#2a3f5f",
             "gridcolor": "white",
             "linecolor": "white",
             "minorgridcolor": "white",
             "startlinecolor": "#2a3f5f"
            },
            "type": "carpet"
           }
          ],
          "choropleth": [
           {
            "colorbar": {
             "outlinewidth": 0,
             "ticks": ""
            },
            "type": "choropleth"
           }
          ],
          "contour": [
           {
            "colorbar": {
             "outlinewidth": 0,
             "ticks": ""
            },
            "colorscale": [
             [
              0,
              "#0d0887"
             ],
             [
              0.1111111111111111,
              "#46039f"
             ],
             [
              0.2222222222222222,
              "#7201a8"
             ],
             [
              0.3333333333333333,
              "#9c179e"
             ],
             [
              0.4444444444444444,
              "#bd3786"
             ],
             [
              0.5555555555555556,
              "#d8576b"
             ],
             [
              0.6666666666666666,
              "#ed7953"
             ],
             [
              0.7777777777777778,
              "#fb9f3a"
             ],
             [
              0.8888888888888888,
              "#fdca26"
             ],
             [
              1,
              "#f0f921"
             ]
            ],
            "type": "contour"
           }
          ],
          "contourcarpet": [
           {
            "colorbar": {
             "outlinewidth": 0,
             "ticks": ""
            },
            "type": "contourcarpet"
           }
          ],
          "heatmap": [
           {
            "colorbar": {
             "outlinewidth": 0,
             "ticks": ""
            },
            "colorscale": [
             [
              0,
              "#0d0887"
             ],
             [
              0.1111111111111111,
              "#46039f"
             ],
             [
              0.2222222222222222,
              "#7201a8"
             ],
             [
              0.3333333333333333,
              "#9c179e"
             ],
             [
              0.4444444444444444,
              "#bd3786"
             ],
             [
              0.5555555555555556,
              "#d8576b"
             ],
             [
              0.6666666666666666,
              "#ed7953"
             ],
             [
              0.7777777777777778,
              "#fb9f3a"
             ],
             [
              0.8888888888888888,
              "#fdca26"
             ],
             [
              1,
              "#f0f921"
             ]
            ],
            "type": "heatmap"
           }
          ],
          "heatmapgl": [
           {
            "colorbar": {
             "outlinewidth": 0,
             "ticks": ""
            },
            "colorscale": [
             [
              0,
              "#0d0887"
             ],
             [
              0.1111111111111111,
              "#46039f"
             ],
             [
              0.2222222222222222,
              "#7201a8"
             ],
             [
              0.3333333333333333,
              "#9c179e"
             ],
             [
              0.4444444444444444,
              "#bd3786"
             ],
             [
              0.5555555555555556,
              "#d8576b"
             ],
             [
              0.6666666666666666,
              "#ed7953"
             ],
             [
              0.7777777777777778,
              "#fb9f3a"
             ],
             [
              0.8888888888888888,
              "#fdca26"
             ],
             [
              1,
              "#f0f921"
             ]
            ],
            "type": "heatmapgl"
           }
          ],
          "histogram": [
           {
            "marker": {
             "pattern": {
              "fillmode": "overlay",
              "size": 10,
              "solidity": 0.2
             }
            },
            "type": "histogram"
           }
          ],
          "histogram2d": [
           {
            "colorbar": {
             "outlinewidth": 0,
             "ticks": ""
            },
            "colorscale": [
             [
              0,
              "#0d0887"
             ],
             [
              0.1111111111111111,
              "#46039f"
             ],
             [
              0.2222222222222222,
              "#7201a8"
             ],
             [
              0.3333333333333333,
              "#9c179e"
             ],
             [
              0.4444444444444444,
              "#bd3786"
             ],
             [
              0.5555555555555556,
              "#d8576b"
             ],
             [
              0.6666666666666666,
              "#ed7953"
             ],
             [
              0.7777777777777778,
              "#fb9f3a"
             ],
             [
              0.8888888888888888,
              "#fdca26"
             ],
             [
              1,
              "#f0f921"
             ]
            ],
            "type": "histogram2d"
           }
          ],
          "histogram2dcontour": [
           {
            "colorbar": {
             "outlinewidth": 0,
             "ticks": ""
            },
            "colorscale": [
             [
              0,
              "#0d0887"
             ],
             [
              0.1111111111111111,
              "#46039f"
             ],
             [
              0.2222222222222222,
              "#7201a8"
             ],
             [
              0.3333333333333333,
              "#9c179e"
             ],
             [
              0.4444444444444444,
              "#bd3786"
             ],
             [
              0.5555555555555556,
              "#d8576b"
             ],
             [
              0.6666666666666666,
              "#ed7953"
             ],
             [
              0.7777777777777778,
              "#fb9f3a"
             ],
             [
              0.8888888888888888,
              "#fdca26"
             ],
             [
              1,
              "#f0f921"
             ]
            ],
            "type": "histogram2dcontour"
           }
          ],
          "mesh3d": [
           {
            "colorbar": {
             "outlinewidth": 0,
             "ticks": ""
            },
            "type": "mesh3d"
           }
          ],
          "parcoords": [
           {
            "line": {
             "colorbar": {
              "outlinewidth": 0,
              "ticks": ""
             }
            },
            "type": "parcoords"
           }
          ],
          "pie": [
           {
            "automargin": true,
            "type": "pie"
           }
          ],
          "scatter": [
           {
            "fillpattern": {
             "fillmode": "overlay",
             "size": 10,
             "solidity": 0.2
            },
            "type": "scatter"
           }
          ],
          "scatter3d": [
           {
            "line": {
             "colorbar": {
              "outlinewidth": 0,
              "ticks": ""
             }
            },
            "marker": {
             "colorbar": {
              "outlinewidth": 0,
              "ticks": ""
             }
            },
            "type": "scatter3d"
           }
          ],
          "scattercarpet": [
           {
            "marker": {
             "colorbar": {
              "outlinewidth": 0,
              "ticks": ""
             }
            },
            "type": "scattercarpet"
           }
          ],
          "scattergeo": [
           {
            "marker": {
             "colorbar": {
              "outlinewidth": 0,
              "ticks": ""
             }
            },
            "type": "scattergeo"
           }
          ],
          "scattergl": [
           {
            "marker": {
             "colorbar": {
              "outlinewidth": 0,
              "ticks": ""
             }
            },
            "type": "scattergl"
           }
          ],
          "scattermapbox": [
           {
            "marker": {
             "colorbar": {
              "outlinewidth": 0,
              "ticks": ""
             }
            },
            "type": "scattermapbox"
           }
          ],
          "scatterpolar": [
           {
            "marker": {
             "colorbar": {
              "outlinewidth": 0,
              "ticks": ""
             }
            },
            "type": "scatterpolar"
           }
          ],
          "scatterpolargl": [
           {
            "marker": {
             "colorbar": {
              "outlinewidth": 0,
              "ticks": ""
             }
            },
            "type": "scatterpolargl"
           }
          ],
          "scatterternary": [
           {
            "marker": {
             "colorbar": {
              "outlinewidth": 0,
              "ticks": ""
             }
            },
            "type": "scatterternary"
           }
          ],
          "surface": [
           {
            "colorbar": {
             "outlinewidth": 0,
             "ticks": ""
            },
            "colorscale": [
             [
              0,
              "#0d0887"
             ],
             [
              0.1111111111111111,
              "#46039f"
             ],
             [
              0.2222222222222222,
              "#7201a8"
             ],
             [
              0.3333333333333333,
              "#9c179e"
             ],
             [
              0.4444444444444444,
              "#bd3786"
             ],
             [
              0.5555555555555556,
              "#d8576b"
             ],
             [
              0.6666666666666666,
              "#ed7953"
             ],
             [
              0.7777777777777778,
              "#fb9f3a"
             ],
             [
              0.8888888888888888,
              "#fdca26"
             ],
             [
              1,
              "#f0f921"
             ]
            ],
            "type": "surface"
           }
          ],
          "table": [
           {
            "cells": {
             "fill": {
              "color": "#EBF0F8"
             },
             "line": {
              "color": "white"
             }
            },
            "header": {
             "fill": {
              "color": "#C8D4E3"
             },
             "line": {
              "color": "white"
             }
            },
            "type": "table"
           }
          ]
         },
         "layout": {
          "annotationdefaults": {
           "arrowcolor": "#2a3f5f",
           "arrowhead": 0,
           "arrowwidth": 1
          },
          "autotypenumbers": "strict",
          "coloraxis": {
           "colorbar": {
            "outlinewidth": 0,
            "ticks": ""
           }
          },
          "colorscale": {
           "diverging": [
            [
             0,
             "#8e0152"
            ],
            [
             0.1,
             "#c51b7d"
            ],
            [
             0.2,
             "#de77ae"
            ],
            [
             0.3,
             "#f1b6da"
            ],
            [
             0.4,
             "#fde0ef"
            ],
            [
             0.5,
             "#f7f7f7"
            ],
            [
             0.6,
             "#e6f5d0"
            ],
            [
             0.7,
             "#b8e186"
            ],
            [
             0.8,
             "#7fbc41"
            ],
            [
             0.9,
             "#4d9221"
            ],
            [
             1,
             "#276419"
            ]
           ],
           "sequential": [
            [
             0,
             "#0d0887"
            ],
            [
             0.1111111111111111,
             "#46039f"
            ],
            [
             0.2222222222222222,
             "#7201a8"
            ],
            [
             0.3333333333333333,
             "#9c179e"
            ],
            [
             0.4444444444444444,
             "#bd3786"
            ],
            [
             0.5555555555555556,
             "#d8576b"
            ],
            [
             0.6666666666666666,
             "#ed7953"
            ],
            [
             0.7777777777777778,
             "#fb9f3a"
            ],
            [
             0.8888888888888888,
             "#fdca26"
            ],
            [
             1,
             "#f0f921"
            ]
           ],
           "sequentialminus": [
            [
             0,
             "#0d0887"
            ],
            [
             0.1111111111111111,
             "#46039f"
            ],
            [
             0.2222222222222222,
             "#7201a8"
            ],
            [
             0.3333333333333333,
             "#9c179e"
            ],
            [
             0.4444444444444444,
             "#bd3786"
            ],
            [
             0.5555555555555556,
             "#d8576b"
            ],
            [
             0.6666666666666666,
             "#ed7953"
            ],
            [
             0.7777777777777778,
             "#fb9f3a"
            ],
            [
             0.8888888888888888,
             "#fdca26"
            ],
            [
             1,
             "#f0f921"
            ]
           ]
          },
          "colorway": [
           "#636efa",
           "#EF553B",
           "#00cc96",
           "#ab63fa",
           "#FFA15A",
           "#19d3f3",
           "#FF6692",
           "#B6E880",
           "#FF97FF",
           "#FECB52"
          ],
          "font": {
           "color": "#2a3f5f"
          },
          "geo": {
           "bgcolor": "white",
           "lakecolor": "white",
           "landcolor": "#E5ECF6",
           "showlakes": true,
           "showland": true,
           "subunitcolor": "white"
          },
          "hoverlabel": {
           "align": "left"
          },
          "hovermode": "closest",
          "mapbox": {
           "style": "light"
          },
          "paper_bgcolor": "white",
          "plot_bgcolor": "#E5ECF6",
          "polar": {
           "angularaxis": {
            "gridcolor": "white",
            "linecolor": "white",
            "ticks": ""
           },
           "bgcolor": "#E5ECF6",
           "radialaxis": {
            "gridcolor": "white",
            "linecolor": "white",
            "ticks": ""
           }
          },
          "scene": {
           "xaxis": {
            "backgroundcolor": "#E5ECF6",
            "gridcolor": "white",
            "gridwidth": 2,
            "linecolor": "white",
            "showbackground": true,
            "ticks": "",
            "zerolinecolor": "white"
           },
           "yaxis": {
            "backgroundcolor": "#E5ECF6",
            "gridcolor": "white",
            "gridwidth": 2,
            "linecolor": "white",
            "showbackground": true,
            "ticks": "",
            "zerolinecolor": "white"
           },
           "zaxis": {
            "backgroundcolor": "#E5ECF6",
            "gridcolor": "white",
            "gridwidth": 2,
            "linecolor": "white",
            "showbackground": true,
            "ticks": "",
            "zerolinecolor": "white"
           }
          },
          "shapedefaults": {
           "line": {
            "color": "#2a3f5f"
           }
          },
          "ternary": {
           "aaxis": {
            "gridcolor": "white",
            "linecolor": "white",
            "ticks": ""
           },
           "baxis": {
            "gridcolor": "white",
            "linecolor": "white",
            "ticks": ""
           },
           "bgcolor": "#E5ECF6",
           "caxis": {
            "gridcolor": "white",
            "linecolor": "white",
            "ticks": ""
           }
          },
          "title": {
           "x": 0.05
          },
          "xaxis": {
           "automargin": true,
           "gridcolor": "white",
           "linecolor": "white",
           "ticks": "",
           "title": {
            "standoff": 15
           },
           "zerolinecolor": "white",
           "zerolinewidth": 2
          },
          "yaxis": {
           "automargin": true,
           "gridcolor": "white",
           "linecolor": "white",
           "ticks": "",
           "title": {
            "standoff": 15
           },
           "zerolinecolor": "white",
           "zerolinewidth": 2
          }
         }
        },
        "xaxis": {
         "anchor": "y",
         "domain": [
          0,
          1
         ],
         "title": {
          "text": "salary"
         }
        },
        "yaxis": {
         "anchor": "x",
         "domain": [
          0,
          1
         ],
         "title": {
          "text": "count"
         }
        }
       }
      }
     },
     "metadata": {},
     "output_type": "display_data"
    }
   ],
   "source": [
    "#expected salary for fresh grades is around 4k\n",
    "fig = px.histogram(fresh_grad_jobs_df, x=\"salary\")\n",
    "fig.show()\n"
   ]
  },
  {
   "cell_type": "code",
   "execution_count": 249,
   "id": "10b09979",
   "metadata": {},
   "outputs": [],
   "source": [
    "jobs_experienced_df = jobs_df.loc[jobs_df['experience (Year)'] > 0]"
   ]
  },
  {
   "cell_type": "code",
   "execution_count": 250,
   "id": "95b4144a",
   "metadata": {},
   "outputs": [
    {
     "data": {
      "text/plain": [
       "(1469, 20)"
      ]
     },
     "metadata": {},
     "output_type": "display_data"
    },
    {
     "data": {
      "text/plain": [
       "(832, 20)"
      ]
     },
     "metadata": {},
     "output_type": "display_data"
    },
    {
     "data": {
      "text/plain": [
       "(637, 20)"
      ]
     },
     "metadata": {},
     "output_type": "display_data"
    }
   ],
   "source": [
    "display(jobs_df.shape)\n",
    "display(fresh_grad_jobs_df.shape)\n",
    "display(jobs_experienced_df.shape)\n"
   ]
  },
  {
   "cell_type": "code",
   "execution_count": 260,
   "id": "5e29d9dd",
   "metadata": {},
   "outputs": [
    {
     "data": {
      "text/plain": [
       "832"
      ]
     },
     "metadata": {},
     "output_type": "display_data"
    }
   ],
   "source": [
    "fresh_grad_jobs_count = fresh_grad_jobs_df.shape[0]\n",
    "jobs_experienced_count = jobs_experienced_df.shape[0]\n",
    "fresh_grad_jobs_count\n"
   ]
  },
  {
   "cell_type": "code",
   "execution_count": 272,
   "id": "c4def1ac",
   "metadata": {},
   "outputs": [
    {
     "data": {
      "application/vnd.plotly.v1+json": {
       "config": {
        "plotlyServerURL": "https://plot.ly"
       },
       "data": [
        {
         "customdata": [
          [
           "red"
          ],
          [
           "blue"
          ]
         ],
         "domain": {
          "x": [
           0,
           1
          ],
          "y": [
           0,
           1
          ]
         },
         "hovertemplate": "label=%{label}<br>value=%{value}<br>color=%{customdata[0]}<extra></extra>",
         "labels": [
          "jobs for experienced people",
          "jobs for fresh graduates"
         ],
         "legendgroup": "",
         "marker": {
          "colors": [
           "#636efa",
           "#EF553B"
          ]
         },
         "name": "",
         "showlegend": true,
         "type": "pie",
         "values": [
          637,
          832
         ]
        }
       ],
       "layout": {
        "legend": {
         "tracegroupgap": 0
        },
        "margin": {
         "t": 60
        },
        "template": {
         "data": {
          "bar": [
           {
            "error_x": {
             "color": "#2a3f5f"
            },
            "error_y": {
             "color": "#2a3f5f"
            },
            "marker": {
             "line": {
              "color": "#E5ECF6",
              "width": 0.5
             },
             "pattern": {
              "fillmode": "overlay",
              "size": 10,
              "solidity": 0.2
             }
            },
            "type": "bar"
           }
          ],
          "barpolar": [
           {
            "marker": {
             "line": {
              "color": "#E5ECF6",
              "width": 0.5
             },
             "pattern": {
              "fillmode": "overlay",
              "size": 10,
              "solidity": 0.2
             }
            },
            "type": "barpolar"
           }
          ],
          "carpet": [
           {
            "aaxis": {
             "endlinecolor": "#2a3f5f",
             "gridcolor": "white",
             "linecolor": "white",
             "minorgridcolor": "white",
             "startlinecolor": "#2a3f5f"
            },
            "baxis": {
             "endlinecolor": "#2a3f5f",
             "gridcolor": "white",
             "linecolor": "white",
             "minorgridcolor": "white",
             "startlinecolor": "#2a3f5f"
            },
            "type": "carpet"
           }
          ],
          "choropleth": [
           {
            "colorbar": {
             "outlinewidth": 0,
             "ticks": ""
            },
            "type": "choropleth"
           }
          ],
          "contour": [
           {
            "colorbar": {
             "outlinewidth": 0,
             "ticks": ""
            },
            "colorscale": [
             [
              0,
              "#0d0887"
             ],
             [
              0.1111111111111111,
              "#46039f"
             ],
             [
              0.2222222222222222,
              "#7201a8"
             ],
             [
              0.3333333333333333,
              "#9c179e"
             ],
             [
              0.4444444444444444,
              "#bd3786"
             ],
             [
              0.5555555555555556,
              "#d8576b"
             ],
             [
              0.6666666666666666,
              "#ed7953"
             ],
             [
              0.7777777777777778,
              "#fb9f3a"
             ],
             [
              0.8888888888888888,
              "#fdca26"
             ],
             [
              1,
              "#f0f921"
             ]
            ],
            "type": "contour"
           }
          ],
          "contourcarpet": [
           {
            "colorbar": {
             "outlinewidth": 0,
             "ticks": ""
            },
            "type": "contourcarpet"
           }
          ],
          "heatmap": [
           {
            "colorbar": {
             "outlinewidth": 0,
             "ticks": ""
            },
            "colorscale": [
             [
              0,
              "#0d0887"
             ],
             [
              0.1111111111111111,
              "#46039f"
             ],
             [
              0.2222222222222222,
              "#7201a8"
             ],
             [
              0.3333333333333333,
              "#9c179e"
             ],
             [
              0.4444444444444444,
              "#bd3786"
             ],
             [
              0.5555555555555556,
              "#d8576b"
             ],
             [
              0.6666666666666666,
              "#ed7953"
             ],
             [
              0.7777777777777778,
              "#fb9f3a"
             ],
             [
              0.8888888888888888,
              "#fdca26"
             ],
             [
              1,
              "#f0f921"
             ]
            ],
            "type": "heatmap"
           }
          ],
          "heatmapgl": [
           {
            "colorbar": {
             "outlinewidth": 0,
             "ticks": ""
            },
            "colorscale": [
             [
              0,
              "#0d0887"
             ],
             [
              0.1111111111111111,
              "#46039f"
             ],
             [
              0.2222222222222222,
              "#7201a8"
             ],
             [
              0.3333333333333333,
              "#9c179e"
             ],
             [
              0.4444444444444444,
              "#bd3786"
             ],
             [
              0.5555555555555556,
              "#d8576b"
             ],
             [
              0.6666666666666666,
              "#ed7953"
             ],
             [
              0.7777777777777778,
              "#fb9f3a"
             ],
             [
              0.8888888888888888,
              "#fdca26"
             ],
             [
              1,
              "#f0f921"
             ]
            ],
            "type": "heatmapgl"
           }
          ],
          "histogram": [
           {
            "marker": {
             "pattern": {
              "fillmode": "overlay",
              "size": 10,
              "solidity": 0.2
             }
            },
            "type": "histogram"
           }
          ],
          "histogram2d": [
           {
            "colorbar": {
             "outlinewidth": 0,
             "ticks": ""
            },
            "colorscale": [
             [
              0,
              "#0d0887"
             ],
             [
              0.1111111111111111,
              "#46039f"
             ],
             [
              0.2222222222222222,
              "#7201a8"
             ],
             [
              0.3333333333333333,
              "#9c179e"
             ],
             [
              0.4444444444444444,
              "#bd3786"
             ],
             [
              0.5555555555555556,
              "#d8576b"
             ],
             [
              0.6666666666666666,
              "#ed7953"
             ],
             [
              0.7777777777777778,
              "#fb9f3a"
             ],
             [
              0.8888888888888888,
              "#fdca26"
             ],
             [
              1,
              "#f0f921"
             ]
            ],
            "type": "histogram2d"
           }
          ],
          "histogram2dcontour": [
           {
            "colorbar": {
             "outlinewidth": 0,
             "ticks": ""
            },
            "colorscale": [
             [
              0,
              "#0d0887"
             ],
             [
              0.1111111111111111,
              "#46039f"
             ],
             [
              0.2222222222222222,
              "#7201a8"
             ],
             [
              0.3333333333333333,
              "#9c179e"
             ],
             [
              0.4444444444444444,
              "#bd3786"
             ],
             [
              0.5555555555555556,
              "#d8576b"
             ],
             [
              0.6666666666666666,
              "#ed7953"
             ],
             [
              0.7777777777777778,
              "#fb9f3a"
             ],
             [
              0.8888888888888888,
              "#fdca26"
             ],
             [
              1,
              "#f0f921"
             ]
            ],
            "type": "histogram2dcontour"
           }
          ],
          "mesh3d": [
           {
            "colorbar": {
             "outlinewidth": 0,
             "ticks": ""
            },
            "type": "mesh3d"
           }
          ],
          "parcoords": [
           {
            "line": {
             "colorbar": {
              "outlinewidth": 0,
              "ticks": ""
             }
            },
            "type": "parcoords"
           }
          ],
          "pie": [
           {
            "automargin": true,
            "type": "pie"
           }
          ],
          "scatter": [
           {
            "fillpattern": {
             "fillmode": "overlay",
             "size": 10,
             "solidity": 0.2
            },
            "type": "scatter"
           }
          ],
          "scatter3d": [
           {
            "line": {
             "colorbar": {
              "outlinewidth": 0,
              "ticks": ""
             }
            },
            "marker": {
             "colorbar": {
              "outlinewidth": 0,
              "ticks": ""
             }
            },
            "type": "scatter3d"
           }
          ],
          "scattercarpet": [
           {
            "marker": {
             "colorbar": {
              "outlinewidth": 0,
              "ticks": ""
             }
            },
            "type": "scattercarpet"
           }
          ],
          "scattergeo": [
           {
            "marker": {
             "colorbar": {
              "outlinewidth": 0,
              "ticks": ""
             }
            },
            "type": "scattergeo"
           }
          ],
          "scattergl": [
           {
            "marker": {
             "colorbar": {
              "outlinewidth": 0,
              "ticks": ""
             }
            },
            "type": "scattergl"
           }
          ],
          "scattermapbox": [
           {
            "marker": {
             "colorbar": {
              "outlinewidth": 0,
              "ticks": ""
             }
            },
            "type": "scattermapbox"
           }
          ],
          "scatterpolar": [
           {
            "marker": {
             "colorbar": {
              "outlinewidth": 0,
              "ticks": ""
             }
            },
            "type": "scatterpolar"
           }
          ],
          "scatterpolargl": [
           {
            "marker": {
             "colorbar": {
              "outlinewidth": 0,
              "ticks": ""
             }
            },
            "type": "scatterpolargl"
           }
          ],
          "scatterternary": [
           {
            "marker": {
             "colorbar": {
              "outlinewidth": 0,
              "ticks": ""
             }
            },
            "type": "scatterternary"
           }
          ],
          "surface": [
           {
            "colorbar": {
             "outlinewidth": 0,
             "ticks": ""
            },
            "colorscale": [
             [
              0,
              "#0d0887"
             ],
             [
              0.1111111111111111,
              "#46039f"
             ],
             [
              0.2222222222222222,
              "#7201a8"
             ],
             [
              0.3333333333333333,
              "#9c179e"
             ],
             [
              0.4444444444444444,
              "#bd3786"
             ],
             [
              0.5555555555555556,
              "#d8576b"
             ],
             [
              0.6666666666666666,
              "#ed7953"
             ],
             [
              0.7777777777777778,
              "#fb9f3a"
             ],
             [
              0.8888888888888888,
              "#fdca26"
             ],
             [
              1,
              "#f0f921"
             ]
            ],
            "type": "surface"
           }
          ],
          "table": [
           {
            "cells": {
             "fill": {
              "color": "#EBF0F8"
             },
             "line": {
              "color": "white"
             }
            },
            "header": {
             "fill": {
              "color": "#C8D4E3"
             },
             "line": {
              "color": "white"
             }
            },
            "type": "table"
           }
          ]
         },
         "layout": {
          "annotationdefaults": {
           "arrowcolor": "#2a3f5f",
           "arrowhead": 0,
           "arrowwidth": 1
          },
          "autotypenumbers": "strict",
          "coloraxis": {
           "colorbar": {
            "outlinewidth": 0,
            "ticks": ""
           }
          },
          "colorscale": {
           "diverging": [
            [
             0,
             "#8e0152"
            ],
            [
             0.1,
             "#c51b7d"
            ],
            [
             0.2,
             "#de77ae"
            ],
            [
             0.3,
             "#f1b6da"
            ],
            [
             0.4,
             "#fde0ef"
            ],
            [
             0.5,
             "#f7f7f7"
            ],
            [
             0.6,
             "#e6f5d0"
            ],
            [
             0.7,
             "#b8e186"
            ],
            [
             0.8,
             "#7fbc41"
            ],
            [
             0.9,
             "#4d9221"
            ],
            [
             1,
             "#276419"
            ]
           ],
           "sequential": [
            [
             0,
             "#0d0887"
            ],
            [
             0.1111111111111111,
             "#46039f"
            ],
            [
             0.2222222222222222,
             "#7201a8"
            ],
            [
             0.3333333333333333,
             "#9c179e"
            ],
            [
             0.4444444444444444,
             "#bd3786"
            ],
            [
             0.5555555555555556,
             "#d8576b"
            ],
            [
             0.6666666666666666,
             "#ed7953"
            ],
            [
             0.7777777777777778,
             "#fb9f3a"
            ],
            [
             0.8888888888888888,
             "#fdca26"
            ],
            [
             1,
             "#f0f921"
            ]
           ],
           "sequentialminus": [
            [
             0,
             "#0d0887"
            ],
            [
             0.1111111111111111,
             "#46039f"
            ],
            [
             0.2222222222222222,
             "#7201a8"
            ],
            [
             0.3333333333333333,
             "#9c179e"
            ],
            [
             0.4444444444444444,
             "#bd3786"
            ],
            [
             0.5555555555555556,
             "#d8576b"
            ],
            [
             0.6666666666666666,
             "#ed7953"
            ],
            [
             0.7777777777777778,
             "#fb9f3a"
            ],
            [
             0.8888888888888888,
             "#fdca26"
            ],
            [
             1,
             "#f0f921"
            ]
           ]
          },
          "colorway": [
           "#636efa",
           "#EF553B",
           "#00cc96",
           "#ab63fa",
           "#FFA15A",
           "#19d3f3",
           "#FF6692",
           "#B6E880",
           "#FF97FF",
           "#FECB52"
          ],
          "font": {
           "color": "#2a3f5f"
          },
          "geo": {
           "bgcolor": "white",
           "lakecolor": "white",
           "landcolor": "#E5ECF6",
           "showlakes": true,
           "showland": true,
           "subunitcolor": "white"
          },
          "hoverlabel": {
           "align": "left"
          },
          "hovermode": "closest",
          "mapbox": {
           "style": "light"
          },
          "paper_bgcolor": "white",
          "plot_bgcolor": "#E5ECF6",
          "polar": {
           "angularaxis": {
            "gridcolor": "white",
            "linecolor": "white",
            "ticks": ""
           },
           "bgcolor": "#E5ECF6",
           "radialaxis": {
            "gridcolor": "white",
            "linecolor": "white",
            "ticks": ""
           }
          },
          "scene": {
           "xaxis": {
            "backgroundcolor": "#E5ECF6",
            "gridcolor": "white",
            "gridwidth": 2,
            "linecolor": "white",
            "showbackground": true,
            "ticks": "",
            "zerolinecolor": "white"
           },
           "yaxis": {
            "backgroundcolor": "#E5ECF6",
            "gridcolor": "white",
            "gridwidth": 2,
            "linecolor": "white",
            "showbackground": true,
            "ticks": "",
            "zerolinecolor": "white"
           },
           "zaxis": {
            "backgroundcolor": "#E5ECF6",
            "gridcolor": "white",
            "gridwidth": 2,
            "linecolor": "white",
            "showbackground": true,
            "ticks": "",
            "zerolinecolor": "white"
           }
          },
          "shapedefaults": {
           "line": {
            "color": "#2a3f5f"
           }
          },
          "ternary": {
           "aaxis": {
            "gridcolor": "white",
            "linecolor": "white",
            "ticks": ""
           },
           "baxis": {
            "gridcolor": "white",
            "linecolor": "white",
            "ticks": ""
           },
           "bgcolor": "#E5ECF6",
           "caxis": {
            "gridcolor": "white",
            "linecolor": "white",
            "ticks": ""
           }
          },
          "title": {
           "x": 0.05
          },
          "xaxis": {
           "automargin": true,
           "gridcolor": "white",
           "linecolor": "white",
           "ticks": "",
           "title": {
            "standoff": 15
           },
           "zerolinecolor": "white",
           "zerolinewidth": 2
          },
          "yaxis": {
           "automargin": true,
           "gridcolor": "white",
           "linecolor": "white",
           "ticks": "",
           "title": {
            "standoff": 15
           },
           "zerolinecolor": "white",
           "zerolinewidth": 2
          }
         }
        }
       }
      }
     },
     "metadata": {},
     "output_type": "display_data"
    }
   ],
   "source": [
    "#as we can see, most of the jobs are focused on fresh graduates\n",
    "fig = px.pie( values=[jobs_experienced_count, fresh_grad_jobs_count], \n",
    "             names=[\"jobs for experienced people\",\"jobs for fresh graduates\"],\n",
    "             color=[\"red\",\"blue\"])\n",
    "fig.show()"
   ]
  },
  {
   "cell_type": "code",
   "execution_count": null,
   "id": "483a9bfd",
   "metadata": {},
   "outputs": [],
   "source": [
    "#bonus question:what are the expected salary for experienced ppl?\n"
   ]
  },
  {
   "cell_type": "code",
   "execution_count": 274,
   "id": "61ba4a0e",
   "metadata": {},
   "outputs": [
    {
     "data": {
      "application/vnd.plotly.v1+json": {
       "config": {
        "plotlyServerURL": "https://plot.ly"
       },
       "data": [
        {
         "alignmentgroup": "True",
         "bingroup": "x",
         "hovertemplate": "salary=%{x}<br>count=%{y}<extra></extra>",
         "legendgroup": "",
         "marker": {
          "color": "#636efa",
          "pattern": {
           "shape": ""
          }
         },
         "name": "",
         "offsetgroup": "",
         "orientation": "v",
         "showlegend": false,
         "type": "histogram",
         "x": [
          4000,
          6000,
          8000,
          10000,
          5000,
          6000,
          7000,
          3000,
          9000,
          12000,
          4000,
          8400,
          4000,
          4000,
          6000,
          4500,
          4000,
          5000,
          7000,
          7000,
          7000,
          4500,
          4500,
          4500,
          5000,
          4000,
          6000,
          4000,
          5500,
          4000,
          8000,
          8000,
          4000,
          7000,
          4000,
          5250,
          5000,
          5000,
          8000,
          4000,
          5500,
          4000,
          6000,
          4000,
          7000,
          5000,
          6000,
          6000,
          7000,
          5000,
          8000,
          4000,
          5000,
          6500,
          4500,
          4000,
          5000,
          6000,
          5000,
          4000,
          5000,
          4500,
          4500,
          4500,
          5000,
          15000,
          16000,
          10000,
          6000,
          15000,
          4000,
          4500,
          5000,
          7000,
          4500,
          4000,
          4000,
          7000,
          6000,
          5000,
          5700,
          4500,
          5000,
          4000,
          4000,
          4000,
          5000,
          4000,
          4000,
          6000,
          4000,
          10000,
          5000,
          4000,
          4000,
          3200,
          4000,
          15000,
          4500,
          7000,
          5000,
          5000,
          5500,
          5000,
          8400,
          4500,
          10000,
          4000,
          5000,
          5000,
          4000,
          5000,
          4000,
          5000,
          5000,
          5000,
          6500,
          4500,
          4434,
          4000,
          4000,
          6000,
          10000,
          6000,
          6000,
          5000,
          4000,
          8000,
          10000,
          6500,
          4000,
          13889,
          4000,
          5000,
          4000,
          4000,
          4000,
          4000,
          5000,
          4500,
          4000,
          4000,
          4000,
          5625,
          3000,
          4000,
          5600,
          4500,
          4000,
          4000,
          4000,
          6000,
          4000,
          4000,
          4500,
          4000,
          4000,
          5700,
          8400,
          6000,
          4500,
          4000,
          5000,
          6000,
          5700,
          10000,
          8000,
          6000,
          4500,
          6000,
          6000,
          5093,
          7000,
          7000,
          7000,
          5800,
          4000,
          9000,
          4000,
          5000,
          4000,
          4000,
          6000,
          6000,
          5000,
          8000,
          7000,
          8500,
          4000,
          4500,
          4000,
          6000,
          4000,
          4000,
          4000,
          6000,
          7000,
          4000,
          7500,
          4000,
          6000,
          4000,
          27000,
          4000,
          7500,
          4500,
          7000,
          12000,
          5000,
          4000,
          5500,
          5000,
          5500,
          10000,
          8496,
          6000,
          5000,
          6000,
          6000,
          5000,
          8000,
          6500,
          6000,
          8333,
          4000,
          5000,
          4000,
          5000,
          32000,
          4000,
          4500,
          4000,
          4000,
          4000,
          4000,
          4000,
          4000,
          4000,
          10000,
          15000,
          5500,
          6000,
          4800,
          6500,
          6000,
          7500,
          8500,
          6000,
          5599,
          4500,
          4000,
          8000,
          5000,
          7500,
          4500,
          7500,
          4000,
          5700,
          5700,
          5500,
          8500,
          8500,
          5500,
          10000,
          10000,
          10000,
          9500,
          9500,
          10000,
          11000,
          11000,
          4000,
          4000,
          5500,
          5500,
          7000,
          5000,
          5000,
          5000,
          6500,
          6000,
          4000,
          4000,
          4400,
          8000,
          5000,
          4000,
          4000,
          5066,
          6000,
          5500,
          7500,
          4000,
          4000,
          6000,
          4687,
          5000,
          6000,
          6000,
          5000,
          5000,
          6000,
          5000,
          4500,
          7500,
          4000,
          3200,
          5000,
          5000,
          15000,
          8000,
          5000,
          5500,
          7000,
          5000,
          5000,
          3198,
          6000,
          6000,
          6000,
          4000,
          4000,
          4000,
          4000,
          6000,
          5700,
          5700,
          5700,
          5700,
          7000,
          7000,
          9600,
          6000,
          8000,
          6000,
          4000,
          7000,
          8500,
          8000,
          6000,
          4000,
          7000,
          5000,
          5000,
          4000,
          4500,
          4000,
          6000,
          6000,
          4000,
          4000,
          5000,
          4000,
          15000,
          7000,
          4500,
          4000,
          6000,
          6000,
          4500,
          7000,
          6000,
          4800,
          8000,
          4000,
          4000,
          6000,
          6000,
          4000,
          4000,
          35000,
          5500,
          4000,
          7000,
          5700,
          6000,
          7000,
          13200,
          6000,
          5500,
          8000,
          4000,
          6000,
          4000,
          7000,
          4000,
          6000,
          3200,
          6000,
          5000,
          8000,
          10000,
          4000,
          5000,
          5500,
          4500,
          5000,
          15532,
          4000,
          6000,
          6000,
          4000,
          5500,
          4000,
          5500,
          5000,
          4500,
          5000,
          4300,
          4000,
          7000,
          4500,
          12000,
          5000,
          4500,
          5000,
          5000,
          6000,
          3300,
          5500,
          4000,
          4000,
          4000,
          4000,
          5483,
          4000,
          6250,
          7200,
          4000,
          5000,
          5000,
          5500,
          6000,
          6000,
          7000,
          5500,
          6000,
          4000,
          4000,
          5000,
          4000,
          6000,
          4000,
          4000,
          5000,
          4000,
          4000,
          4000,
          5000,
          7000,
          7000,
          7000,
          7000,
          7000,
          4500,
          6000,
          6000,
          4000,
          4000,
          7000,
          7000,
          5700,
          4000,
          8000,
          12000,
          8000,
          12000,
          12000,
          8000,
          8000,
          12000,
          8000,
          6000,
          3500,
          8000,
          6000,
          3500,
          8000,
          7000,
          4000,
          5000,
          5000,
          5000,
          5000,
          5000,
          5000,
          5000,
          7000,
          7000,
          5000,
          7000,
          6000,
          5000,
          5000,
          6000,
          35000,
          5700,
          7000,
          5700,
          6000,
          7000,
          13200,
          6000,
          5500,
          6000,
          7000,
          4000,
          18000,
          8000,
          6250,
          5500,
          10000,
          7500,
          7500,
          7500,
          10000,
          7500,
          4000,
          7000,
          5000,
          4000,
          4000,
          4000,
          7000,
          7000,
          5000,
          3600,
          5500,
          5000,
          6000,
          4000,
          8000,
          8000,
          10000,
          10000,
          8000,
          6999,
          7000,
          7000,
          7000,
          15000,
          4000,
          4000,
          9900,
          9900,
          9900,
          9900,
          9900,
          5500,
          9900,
          9900,
          6500,
          4000,
          6000,
          7000,
          5000,
          4000,
          6500,
          4000,
          6000,
          4000,
          4000,
          4500,
          7000,
          5500,
          4000,
          6000,
          4000,
          12400,
          6000,
          5000,
          5000,
          7500,
          4000,
          9259,
          12000,
          5000,
          5000,
          4000,
          4000,
          4000,
          5500,
          4000,
          6000,
          5000,
          4000,
          5000,
          5500,
          8000,
          4000,
          5000,
          6000,
          7000,
          12000,
          7000,
          4000,
          5000,
          7000,
          6000,
          4000,
          7000,
          4000,
          4000,
          4000,
          4200,
          4000,
          6500,
          4000,
          5000,
          8000,
          6500,
          4000,
          8500,
          5000,
          4000,
          5000,
          14000,
          5000,
          4000,
          4100,
          5000,
          8000,
          4000,
          4500,
          5000,
          4000,
          4000,
          4500,
          7000,
          4200,
          5000,
          5000,
          5000,
          4000,
          4000,
          4000,
          4000
         ],
         "xaxis": "x",
         "yaxis": "y"
        }
       ],
       "layout": {
        "barmode": "relative",
        "legend": {
         "tracegroupgap": 0
        },
        "margin": {
         "t": 60
        },
        "template": {
         "data": {
          "bar": [
           {
            "error_x": {
             "color": "#2a3f5f"
            },
            "error_y": {
             "color": "#2a3f5f"
            },
            "marker": {
             "line": {
              "color": "#E5ECF6",
              "width": 0.5
             },
             "pattern": {
              "fillmode": "overlay",
              "size": 10,
              "solidity": 0.2
             }
            },
            "type": "bar"
           }
          ],
          "barpolar": [
           {
            "marker": {
             "line": {
              "color": "#E5ECF6",
              "width": 0.5
             },
             "pattern": {
              "fillmode": "overlay",
              "size": 10,
              "solidity": 0.2
             }
            },
            "type": "barpolar"
           }
          ],
          "carpet": [
           {
            "aaxis": {
             "endlinecolor": "#2a3f5f",
             "gridcolor": "white",
             "linecolor": "white",
             "minorgridcolor": "white",
             "startlinecolor": "#2a3f5f"
            },
            "baxis": {
             "endlinecolor": "#2a3f5f",
             "gridcolor": "white",
             "linecolor": "white",
             "minorgridcolor": "white",
             "startlinecolor": "#2a3f5f"
            },
            "type": "carpet"
           }
          ],
          "choropleth": [
           {
            "colorbar": {
             "outlinewidth": 0,
             "ticks": ""
            },
            "type": "choropleth"
           }
          ],
          "contour": [
           {
            "colorbar": {
             "outlinewidth": 0,
             "ticks": ""
            },
            "colorscale": [
             [
              0,
              "#0d0887"
             ],
             [
              0.1111111111111111,
              "#46039f"
             ],
             [
              0.2222222222222222,
              "#7201a8"
             ],
             [
              0.3333333333333333,
              "#9c179e"
             ],
             [
              0.4444444444444444,
              "#bd3786"
             ],
             [
              0.5555555555555556,
              "#d8576b"
             ],
             [
              0.6666666666666666,
              "#ed7953"
             ],
             [
              0.7777777777777778,
              "#fb9f3a"
             ],
             [
              0.8888888888888888,
              "#fdca26"
             ],
             [
              1,
              "#f0f921"
             ]
            ],
            "type": "contour"
           }
          ],
          "contourcarpet": [
           {
            "colorbar": {
             "outlinewidth": 0,
             "ticks": ""
            },
            "type": "contourcarpet"
           }
          ],
          "heatmap": [
           {
            "colorbar": {
             "outlinewidth": 0,
             "ticks": ""
            },
            "colorscale": [
             [
              0,
              "#0d0887"
             ],
             [
              0.1111111111111111,
              "#46039f"
             ],
             [
              0.2222222222222222,
              "#7201a8"
             ],
             [
              0.3333333333333333,
              "#9c179e"
             ],
             [
              0.4444444444444444,
              "#bd3786"
             ],
             [
              0.5555555555555556,
              "#d8576b"
             ],
             [
              0.6666666666666666,
              "#ed7953"
             ],
             [
              0.7777777777777778,
              "#fb9f3a"
             ],
             [
              0.8888888888888888,
              "#fdca26"
             ],
             [
              1,
              "#f0f921"
             ]
            ],
            "type": "heatmap"
           }
          ],
          "heatmapgl": [
           {
            "colorbar": {
             "outlinewidth": 0,
             "ticks": ""
            },
            "colorscale": [
             [
              0,
              "#0d0887"
             ],
             [
              0.1111111111111111,
              "#46039f"
             ],
             [
              0.2222222222222222,
              "#7201a8"
             ],
             [
              0.3333333333333333,
              "#9c179e"
             ],
             [
              0.4444444444444444,
              "#bd3786"
             ],
             [
              0.5555555555555556,
              "#d8576b"
             ],
             [
              0.6666666666666666,
              "#ed7953"
             ],
             [
              0.7777777777777778,
              "#fb9f3a"
             ],
             [
              0.8888888888888888,
              "#fdca26"
             ],
             [
              1,
              "#f0f921"
             ]
            ],
            "type": "heatmapgl"
           }
          ],
          "histogram": [
           {
            "marker": {
             "pattern": {
              "fillmode": "overlay",
              "size": 10,
              "solidity": 0.2
             }
            },
            "type": "histogram"
           }
          ],
          "histogram2d": [
           {
            "colorbar": {
             "outlinewidth": 0,
             "ticks": ""
            },
            "colorscale": [
             [
              0,
              "#0d0887"
             ],
             [
              0.1111111111111111,
              "#46039f"
             ],
             [
              0.2222222222222222,
              "#7201a8"
             ],
             [
              0.3333333333333333,
              "#9c179e"
             ],
             [
              0.4444444444444444,
              "#bd3786"
             ],
             [
              0.5555555555555556,
              "#d8576b"
             ],
             [
              0.6666666666666666,
              "#ed7953"
             ],
             [
              0.7777777777777778,
              "#fb9f3a"
             ],
             [
              0.8888888888888888,
              "#fdca26"
             ],
             [
              1,
              "#f0f921"
             ]
            ],
            "type": "histogram2d"
           }
          ],
          "histogram2dcontour": [
           {
            "colorbar": {
             "outlinewidth": 0,
             "ticks": ""
            },
            "colorscale": [
             [
              0,
              "#0d0887"
             ],
             [
              0.1111111111111111,
              "#46039f"
             ],
             [
              0.2222222222222222,
              "#7201a8"
             ],
             [
              0.3333333333333333,
              "#9c179e"
             ],
             [
              0.4444444444444444,
              "#bd3786"
             ],
             [
              0.5555555555555556,
              "#d8576b"
             ],
             [
              0.6666666666666666,
              "#ed7953"
             ],
             [
              0.7777777777777778,
              "#fb9f3a"
             ],
             [
              0.8888888888888888,
              "#fdca26"
             ],
             [
              1,
              "#f0f921"
             ]
            ],
            "type": "histogram2dcontour"
           }
          ],
          "mesh3d": [
           {
            "colorbar": {
             "outlinewidth": 0,
             "ticks": ""
            },
            "type": "mesh3d"
           }
          ],
          "parcoords": [
           {
            "line": {
             "colorbar": {
              "outlinewidth": 0,
              "ticks": ""
             }
            },
            "type": "parcoords"
           }
          ],
          "pie": [
           {
            "automargin": true,
            "type": "pie"
           }
          ],
          "scatter": [
           {
            "fillpattern": {
             "fillmode": "overlay",
             "size": 10,
             "solidity": 0.2
            },
            "type": "scatter"
           }
          ],
          "scatter3d": [
           {
            "line": {
             "colorbar": {
              "outlinewidth": 0,
              "ticks": ""
             }
            },
            "marker": {
             "colorbar": {
              "outlinewidth": 0,
              "ticks": ""
             }
            },
            "type": "scatter3d"
           }
          ],
          "scattercarpet": [
           {
            "marker": {
             "colorbar": {
              "outlinewidth": 0,
              "ticks": ""
             }
            },
            "type": "scattercarpet"
           }
          ],
          "scattergeo": [
           {
            "marker": {
             "colorbar": {
              "outlinewidth": 0,
              "ticks": ""
             }
            },
            "type": "scattergeo"
           }
          ],
          "scattergl": [
           {
            "marker": {
             "colorbar": {
              "outlinewidth": 0,
              "ticks": ""
             }
            },
            "type": "scattergl"
           }
          ],
          "scattermapbox": [
           {
            "marker": {
             "colorbar": {
              "outlinewidth": 0,
              "ticks": ""
             }
            },
            "type": "scattermapbox"
           }
          ],
          "scatterpolar": [
           {
            "marker": {
             "colorbar": {
              "outlinewidth": 0,
              "ticks": ""
             }
            },
            "type": "scatterpolar"
           }
          ],
          "scatterpolargl": [
           {
            "marker": {
             "colorbar": {
              "outlinewidth": 0,
              "ticks": ""
             }
            },
            "type": "scatterpolargl"
           }
          ],
          "scatterternary": [
           {
            "marker": {
             "colorbar": {
              "outlinewidth": 0,
              "ticks": ""
             }
            },
            "type": "scatterternary"
           }
          ],
          "surface": [
           {
            "colorbar": {
             "outlinewidth": 0,
             "ticks": ""
            },
            "colorscale": [
             [
              0,
              "#0d0887"
             ],
             [
              0.1111111111111111,
              "#46039f"
             ],
             [
              0.2222222222222222,
              "#7201a8"
             ],
             [
              0.3333333333333333,
              "#9c179e"
             ],
             [
              0.4444444444444444,
              "#bd3786"
             ],
             [
              0.5555555555555556,
              "#d8576b"
             ],
             [
              0.6666666666666666,
              "#ed7953"
             ],
             [
              0.7777777777777778,
              "#fb9f3a"
             ],
             [
              0.8888888888888888,
              "#fdca26"
             ],
             [
              1,
              "#f0f921"
             ]
            ],
            "type": "surface"
           }
          ],
          "table": [
           {
            "cells": {
             "fill": {
              "color": "#EBF0F8"
             },
             "line": {
              "color": "white"
             }
            },
            "header": {
             "fill": {
              "color": "#C8D4E3"
             },
             "line": {
              "color": "white"
             }
            },
            "type": "table"
           }
          ]
         },
         "layout": {
          "annotationdefaults": {
           "arrowcolor": "#2a3f5f",
           "arrowhead": 0,
           "arrowwidth": 1
          },
          "autotypenumbers": "strict",
          "coloraxis": {
           "colorbar": {
            "outlinewidth": 0,
            "ticks": ""
           }
          },
          "colorscale": {
           "diverging": [
            [
             0,
             "#8e0152"
            ],
            [
             0.1,
             "#c51b7d"
            ],
            [
             0.2,
             "#de77ae"
            ],
            [
             0.3,
             "#f1b6da"
            ],
            [
             0.4,
             "#fde0ef"
            ],
            [
             0.5,
             "#f7f7f7"
            ],
            [
             0.6,
             "#e6f5d0"
            ],
            [
             0.7,
             "#b8e186"
            ],
            [
             0.8,
             "#7fbc41"
            ],
            [
             0.9,
             "#4d9221"
            ],
            [
             1,
             "#276419"
            ]
           ],
           "sequential": [
            [
             0,
             "#0d0887"
            ],
            [
             0.1111111111111111,
             "#46039f"
            ],
            [
             0.2222222222222222,
             "#7201a8"
            ],
            [
             0.3333333333333333,
             "#9c179e"
            ],
            [
             0.4444444444444444,
             "#bd3786"
            ],
            [
             0.5555555555555556,
             "#d8576b"
            ],
            [
             0.6666666666666666,
             "#ed7953"
            ],
            [
             0.7777777777777778,
             "#fb9f3a"
            ],
            [
             0.8888888888888888,
             "#fdca26"
            ],
            [
             1,
             "#f0f921"
            ]
           ],
           "sequentialminus": [
            [
             0,
             "#0d0887"
            ],
            [
             0.1111111111111111,
             "#46039f"
            ],
            [
             0.2222222222222222,
             "#7201a8"
            ],
            [
             0.3333333333333333,
             "#9c179e"
            ],
            [
             0.4444444444444444,
             "#bd3786"
            ],
            [
             0.5555555555555556,
             "#d8576b"
            ],
            [
             0.6666666666666666,
             "#ed7953"
            ],
            [
             0.7777777777777778,
             "#fb9f3a"
            ],
            [
             0.8888888888888888,
             "#fdca26"
            ],
            [
             1,
             "#f0f921"
            ]
           ]
          },
          "colorway": [
           "#636efa",
           "#EF553B",
           "#00cc96",
           "#ab63fa",
           "#FFA15A",
           "#19d3f3",
           "#FF6692",
           "#B6E880",
           "#FF97FF",
           "#FECB52"
          ],
          "font": {
           "color": "#2a3f5f"
          },
          "geo": {
           "bgcolor": "white",
           "lakecolor": "white",
           "landcolor": "#E5ECF6",
           "showlakes": true,
           "showland": true,
           "subunitcolor": "white"
          },
          "hoverlabel": {
           "align": "left"
          },
          "hovermode": "closest",
          "mapbox": {
           "style": "light"
          },
          "paper_bgcolor": "white",
          "plot_bgcolor": "#E5ECF6",
          "polar": {
           "angularaxis": {
            "gridcolor": "white",
            "linecolor": "white",
            "ticks": ""
           },
           "bgcolor": "#E5ECF6",
           "radialaxis": {
            "gridcolor": "white",
            "linecolor": "white",
            "ticks": ""
           }
          },
          "scene": {
           "xaxis": {
            "backgroundcolor": "#E5ECF6",
            "gridcolor": "white",
            "gridwidth": 2,
            "linecolor": "white",
            "showbackground": true,
            "ticks": "",
            "zerolinecolor": "white"
           },
           "yaxis": {
            "backgroundcolor": "#E5ECF6",
            "gridcolor": "white",
            "gridwidth": 2,
            "linecolor": "white",
            "showbackground": true,
            "ticks": "",
            "zerolinecolor": "white"
           },
           "zaxis": {
            "backgroundcolor": "#E5ECF6",
            "gridcolor": "white",
            "gridwidth": 2,
            "linecolor": "white",
            "showbackground": true,
            "ticks": "",
            "zerolinecolor": "white"
           }
          },
          "shapedefaults": {
           "line": {
            "color": "#2a3f5f"
           }
          },
          "ternary": {
           "aaxis": {
            "gridcolor": "white",
            "linecolor": "white",
            "ticks": ""
           },
           "baxis": {
            "gridcolor": "white",
            "linecolor": "white",
            "ticks": ""
           },
           "bgcolor": "#E5ECF6",
           "caxis": {
            "gridcolor": "white",
            "linecolor": "white",
            "ticks": ""
           }
          },
          "title": {
           "x": 0.05
          },
          "xaxis": {
           "automargin": true,
           "gridcolor": "white",
           "linecolor": "white",
           "ticks": "",
           "title": {
            "standoff": 15
           },
           "zerolinecolor": "white",
           "zerolinewidth": 2
          },
          "yaxis": {
           "automargin": true,
           "gridcolor": "white",
           "linecolor": "white",
           "ticks": "",
           "title": {
            "standoff": 15
           },
           "zerolinecolor": "white",
           "zerolinewidth": 2
          }
         }
        },
        "xaxis": {
         "anchor": "y",
         "domain": [
          0,
          1
         ],
         "title": {
          "text": "salary"
         }
        },
        "yaxis": {
         "anchor": "x",
         "domain": [
          0,
          1
         ],
         "title": {
          "text": "count"
         }
        }
       }
      }
     },
     "metadata": {},
     "output_type": "display_data"
    }
   ],
   "source": [
    "#surprisingly most jobs for experienced ppl give the same salary as fresh graduates\n",
    "fig = px.histogram(jobs_experienced_df, x=\"salary\")\n",
    "fig.show()"
   ]
  },
  {
   "cell_type": "code",
   "execution_count": null,
   "id": "6a3938f5",
   "metadata": {},
   "outputs": [],
   "source": []
  },
  {
   "cell_type": "markdown",
   "id": "d66677d3-44ad-414f-9b39-f9c1995ad043",
   "metadata": {},
   "source": [
    "### 2. Univariate Non-Graphical analysis: \n",
    "\n",
    "- Where is the center of the data? (location) --> **Measures of central tendency**\n",
    "- How much does the data vary? (scale) --> **Measure of variability**\n",
    "- What is the shape of the data? (shape) --> **Measures of variation combined with an average (measure of center) gives a good picture of the distribution of the data.**"
   ]
  },
  {
   "cell_type": "code",
   "execution_count": null,
   "id": "f1058d84-e61e-4f5b-b66a-29931e77821b",
   "metadata": {},
   "outputs": [],
   "source": []
  },
  {
   "cell_type": "markdown",
   "id": "f09bb809-0edd-432b-bf23-abd0840b3e16",
   "metadata": {},
   "source": [
    "## 4. Bivariate/Multivariate Analysis:\n",
    "\n",
    "Here, you look at the relationships between two or more variables. This can involve looking for correlations, patterns, and trends that suggest a relationship or an association.\n",
    "\n",
    "We can perform bi-variate analysis for any combination of categorical and numerical variables. The combination can be:\n",
    "| bi-variate variables   | Plot type |\n",
    "| ------------- | ------------- |\n",
    "| Categorical & Categorical| Stacked Bar Chart |\n",
    "| Categorical & numerical  | scatter plot, histogram, box plot|\n",
    "| numerical  & numerical  | Scatter plot, line chart| \n",
    "\n",
    "\n",
    "Multivariate Analysis:\n",
    "- Heat map\n",
    "- Bar Chart\n",
    "- Scatter Chart\n",
    "- Line Chart"
   ]
  },
  {
   "cell_type": "markdown",
   "id": "838f2864-ce9e-4f15-99c8-052d053154a7",
   "metadata": {},
   "source": [
    "**Categorical & Categorical --> (Stacked Column Chart)**"
   ]
  },
  {
   "cell_type": "code",
   "execution_count": null,
   "id": "73f9f2ac-8477-49ea-9c68-4fe44d4395b6",
   "metadata": {},
   "outputs": [],
   "source": []
  },
  {
   "cell_type": "markdown",
   "id": "730e088f-fe13-40da-8fbb-686f5135fa4d",
   "metadata": {},
   "source": [
    "**Categorical & numerical --> (scatter plot, histogram, box plot)**"
   ]
  },
  {
   "cell_type": "code",
   "execution_count": null,
   "id": "3590e345-2051-4215-91ac-07d196b510ef",
   "metadata": {},
   "outputs": [],
   "source": []
  },
  {
   "cell_type": "markdown",
   "id": "20aed48d-b78e-46da-963f-e7f15e2f4dc7",
   "metadata": {},
   "source": [
    "**numerical & numerical --> (Scatter plot, line chart)**"
   ]
  },
  {
   "cell_type": "code",
   "execution_count": null,
   "id": "41023177-01cb-4f39-a750-12be71b13bda",
   "metadata": {},
   "outputs": [],
   "source": []
  },
  {
   "cell_type": "markdown",
   "id": "efb43b30-b1f0-48a4-a19c-195810cc8a0f",
   "metadata": {},
   "source": [
    "We could also use a correlation matrix to get more specific information about the relationship between these two variables."
   ]
  },
  {
   "cell_type": "code",
   "execution_count": null,
   "id": "8406f58f-b825-4a15-8f6e-c68ca66bd483",
   "metadata": {},
   "outputs": [],
   "source": []
  }
 ],
 "metadata": {
  "kernelspec": {
   "display_name": "Python 3 (ipykernel)",
   "language": "python",
   "name": "python3"
  },
  "language_info": {
   "codemirror_mode": {
    "name": "ipython",
    "version": 3
   },
   "file_extension": ".py",
   "mimetype": "text/x-python",
   "name": "python",
   "nbconvert_exporter": "python",
   "pygments_lexer": "ipython3",
   "version": "3.11.9"
  }
 },
 "nbformat": 4,
 "nbformat_minor": 5
}
